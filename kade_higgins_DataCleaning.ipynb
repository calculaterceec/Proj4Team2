{
 "cells": [
  {
   "cell_type": "markdown",
   "id": "02f072a0-0fec-4210-b79a-a930641adbf5",
   "metadata": {},
   "source": [
    "# Reading and Cleaning Climate Data"
   ]
  },
  {
   "cell_type": "code",
   "execution_count": 1,
   "id": "78246110-48e1-45ac-87dc-aa6a50ca5cc7",
   "metadata": {},
   "outputs": [],
   "source": [
    "import pandas as pd\n",
    "import numpy as np\n",
    "import matplotlib.pyplot as plt\n",
    "import seaborn as sns\n",
    "import os"
   ]
  },
  {
   "cell_type": "code",
   "execution_count": 149,
   "id": "0fbd5338-c9d9-4ac9-8b17-1e206e3fd5f9",
   "metadata": {},
   "outputs": [],
   "source": [
    "# cdc wonder Daily Air Temp by County (aggregated by month)\n",
    "# Jan 1, 1979 - Dec 31, 2011\n",
    "#temp_df = pd.read_csv('data/climate_data/2011_AirTemp_byState.txt', delimiter=\"\\t\", header=0)\n",
    "#particulateMatter_df = pd.read_csv('data/climate_data/2011_fineParticulateMatter_µgm3.txt', delimiter=\"\\t\", header=0)"
   ]
  },
  {
   "cell_type": "markdown",
   "id": "e8374b7c-6249-4d4f-90be-048d96bf3024",
   "metadata": {},
   "source": [
    "# Read in Temperature Data"
   ]
  },
  {
   "cell_type": "code",
   "execution_count": 2,
   "id": "1859e2b8-953f-49c8-bacc-581d6876632e",
   "metadata": {},
   "outputs": [],
   "source": [
    "temperature_files = os.listdir('./data/01_climate_data/monthlyAirTemp_byCounty_RAW/')\n",
    "temperature_files.remove('.ipynb_checkpoints')"
   ]
  },
  {
   "cell_type": "code",
   "execution_count": 3,
   "id": "f9725b88-50b0-4725-96e2-89480af224ff",
   "metadata": {},
   "outputs": [],
   "source": [
    "temp_1979_df = pd.read_csv('./data/01_climate_data/monthlyAirTemp_byCounty_RAW/dailyAirTemp_byCounty_1979.txt', delimiter='\\t', header=0)\n",
    "temp_1979_df = temp_1979_df[temp_1979_df['County'].isna() == False]\n",
    "temp_1979_df = temp_1979_df[temp_1979_df['Notes'] != 'Total']"
   ]
  },
  {
   "cell_type": "code",
   "execution_count": 4,
   "id": "5cd706e1-5dd1-4fbc-9fd5-839f400ecdf3",
   "metadata": {},
   "outputs": [
    {
     "data": {
      "text/plain": [
       "Index(['Notes', 'County', 'County Code', 'Month, Year', 'Month, Year Code',\n",
       "       'Avg Daily Max Air Temperature (F)',\n",
       "       'Record Count for Daily Max Air Temp (F)',\n",
       "       'Min Temp for Daily Max Air Temp (F)',\n",
       "       'Max Temp for Daily Max Air Temp (F)',\n",
       "       'Avg Daily Min Air Temperature (F)',\n",
       "       'Record Count for Daily Min Air Temp (F)',\n",
       "       'Min Temp for Daily Min Air Temp (F)',\n",
       "       'Max Temp for Daily Min Air Temp (F)', 'Avg Daily Max Heat Index (F)',\n",
       "       'Record Count for Daily Max Heat Index (F)',\n",
       "       'Min for Daily Max Heat Index (F)', 'Max for Daily Max Heat Index (F)'],\n",
       "      dtype='object')"
      ]
     },
     "execution_count": 4,
     "metadata": {},
     "output_type": "execute_result"
    }
   ],
   "source": [
    "temp_1979_df.columns"
   ]
  },
  {
   "cell_type": "code",
   "execution_count": 153,
   "id": "61d5d3e8-c467-41b9-b02e-814c486d0f4e",
   "metadata": {},
   "outputs": [],
   "source": [
    "temp_1979_df = temp_1979_df[['County', 'County Code', 'Month, Year', 'Month, Year Code', 'Record Count for Daily Max Air Temp (F)' ,'Avg Daily Max Air Temperature (F)', 'Min Temp for Daily Max Air Temp (F)', 'Max Temp for Daily Max Air Temp (F)']]"
   ]
  },
  {
   "cell_type": "code",
   "execution_count": 42,
   "id": "7c49c73f-0aae-4dbf-ab8f-5b95189cc2f5",
   "metadata": {},
   "outputs": [],
   "source": [
    "# making the above easier with a function to grab data in folder, read it in, remove unwanted stuff and return a clean df\n",
    "def process_temp_data(filename):\n",
    "    file_string = './data/01_climate_data/monthlyAirTemp_byCounty_RAW/' + filename\n",
    "    temp_df = pd.read_csv(file_string, delimiter='\\t', header=0, dtype={'County Code': object})\n",
    "    \n",
    "    #drop unneccesary rows\n",
    "    temp_df = temp_df[temp_df['County'].isna() == False]\n",
    "    temp_df = temp_df[temp_df['Notes'] != 'Total'] #drop the total rows\n",
    "    \n",
    "    # create UID\n",
    "    temp_df['UID'] = temp_df['County'] + \" - \" + temp_df['Month, Year']\n",
    "    \n",
    "    #get only needed columns\n",
    "    output_df = temp_df[['UID', 'County', 'County Code', 'Month, Year', 'Month, Year Code','Avg Daily Max Air Temperature (F)', 'Min Temp for Daily Max Air Temp (F)', 'Max Temp for Daily Max Air Temp (F)']]\n",
    "    output_df = output_df.rename(columns={'Avg Daily Max Air Temperature (F)': 'avg_dailyMaxAirTemp_F', 'Min Temp for Daily Max Air Temp (F)': 'min_dailyMaxAirTemp_F', 'Max Temp for Daily Max Air Temp (F)': 'max_dailyMaxAirTemp_F'})\n",
    "    return output_df"
   ]
  },
  {
   "cell_type": "code",
   "execution_count": 43,
   "id": "2a93a35f-49a9-4b18-a924-f5d33ba1c140",
   "metadata": {},
   "outputs": [],
   "source": [
    "# run process data function on all data in temperature files\n",
    "air_temperature_df = [process_temp_data(file) for file in temperature_files]\n",
    "air_temperature_df = pd.concat(air_temperature_df)\n",
    "\n",
    "# sort the values\n",
    "air_temperature_df.sort_values(by=['County Code', 'Month, Year Code'], inplace=True)"
   ]
  },
  {
   "cell_type": "code",
   "execution_count": 47,
   "id": "935a4444-23ca-447b-b78f-c9e888346ac0",
   "metadata": {},
   "outputs": [],
   "source": [
    "# turn objects to categories to save memory\n",
    "air_temperature_df['County'] = air_temperature_df['County'].astype('category')\n",
    "air_temperature_df['County Code'] = air_temperature_df['County Code'].astype('category')\n",
    "air_temperature_df['Month, Year'] = air_temperature_df['Month, Year'].astype('category')\n",
    "air_temperature_df['Month, Year Code'] = air_temperature_df['Month, Year Code'].astype('category')"
   ]
  },
  {
   "cell_type": "code",
   "execution_count": 48,
   "id": "7e2c4044-ade6-4e44-bdc6-5c119344308b",
   "metadata": {},
   "outputs": [
    {
     "data": {
      "text/plain": [
       "Index                      9.855648\n",
       "UID                      107.115228\n",
       "County                     2.763161\n",
       "County Code                2.722882\n",
       "Month, Year                2.506600\n",
       "Month, Year Code           2.505808\n",
       "avg_dailyMaxAirTemp_F      9.855648\n",
       "min_dailyMaxAirTemp_F      9.855648\n",
       "max_dailyMaxAirTemp_F      9.855648\n",
       "dtype: float64"
      ]
     },
     "execution_count": 48,
     "metadata": {},
     "output_type": "execute_result"
    }
   ],
   "source": [
    "air_temperature_df.memory_usage(deep=True) / 1_000_000"
   ]
  },
  {
   "cell_type": "code",
   "execution_count": 49,
   "id": "88d5ecc8-cde1-4da5-b8f3-bffe860c1584",
   "metadata": {},
   "outputs": [
    {
     "data": {
      "text/html": [
       "<div>\n",
       "<style scoped>\n",
       "    .dataframe tbody tr th:only-of-type {\n",
       "        vertical-align: middle;\n",
       "    }\n",
       "\n",
       "    .dataframe tbody tr th {\n",
       "        vertical-align: top;\n",
       "    }\n",
       "\n",
       "    .dataframe thead th {\n",
       "        text-align: right;\n",
       "    }\n",
       "</style>\n",
       "<table border=\"1\" class=\"dataframe\">\n",
       "  <thead>\n",
       "    <tr style=\"text-align: right;\">\n",
       "      <th></th>\n",
       "      <th>UID</th>\n",
       "      <th>County</th>\n",
       "      <th>County Code</th>\n",
       "      <th>Month, Year</th>\n",
       "      <th>Month, Year Code</th>\n",
       "      <th>avg_dailyMaxAirTemp_F</th>\n",
       "      <th>min_dailyMaxAirTemp_F</th>\n",
       "      <th>max_dailyMaxAirTemp_F</th>\n",
       "    </tr>\n",
       "  </thead>\n",
       "  <tbody>\n",
       "    <tr>\n",
       "      <th>0</th>\n",
       "      <td>Autauga County, AL - Jan, 1979</td>\n",
       "      <td>Autauga County, AL</td>\n",
       "      <td>01001</td>\n",
       "      <td>Jan, 1979</td>\n",
       "      <td>1979/01</td>\n",
       "      <td>48.44</td>\n",
       "      <td>29.9</td>\n",
       "      <td>67.1</td>\n",
       "    </tr>\n",
       "    <tr>\n",
       "      <th>1</th>\n",
       "      <td>Autauga County, AL - Feb, 1979</td>\n",
       "      <td>Autauga County, AL</td>\n",
       "      <td>01001</td>\n",
       "      <td>Feb, 1979</td>\n",
       "      <td>1979/02</td>\n",
       "      <td>54.11</td>\n",
       "      <td>33.5</td>\n",
       "      <td>74.6</td>\n",
       "    </tr>\n",
       "    <tr>\n",
       "      <th>2</th>\n",
       "      <td>Autauga County, AL - Mar, 1979</td>\n",
       "      <td>Autauga County, AL</td>\n",
       "      <td>01001</td>\n",
       "      <td>Mar, 1979</td>\n",
       "      <td>1979/03</td>\n",
       "      <td>65.65</td>\n",
       "      <td>47.4</td>\n",
       "      <td>78.1</td>\n",
       "    </tr>\n",
       "    <tr>\n",
       "      <th>3</th>\n",
       "      <td>Autauga County, AL - Apr, 1979</td>\n",
       "      <td>Autauga County, AL</td>\n",
       "      <td>01001</td>\n",
       "      <td>Apr, 1979</td>\n",
       "      <td>1979/04</td>\n",
       "      <td>72.90</td>\n",
       "      <td>62.0</td>\n",
       "      <td>82.7</td>\n",
       "    </tr>\n",
       "    <tr>\n",
       "      <th>4</th>\n",
       "      <td>Autauga County, AL - May, 1979</td>\n",
       "      <td>Autauga County, AL</td>\n",
       "      <td>01001</td>\n",
       "      <td>May, 1979</td>\n",
       "      <td>1979/05</td>\n",
       "      <td>78.77</td>\n",
       "      <td>66.3</td>\n",
       "      <td>84.5</td>\n",
       "    </tr>\n",
       "    <tr>\n",
       "      <th>...</th>\n",
       "      <td>...</td>\n",
       "      <td>...</td>\n",
       "      <td>...</td>\n",
       "      <td>...</td>\n",
       "      <td>...</td>\n",
       "      <td>...</td>\n",
       "      <td>...</td>\n",
       "      <td>...</td>\n",
       "    </tr>\n",
       "    <tr>\n",
       "      <th>40437</th>\n",
       "      <td>Weston County, WY - Aug, 2011</td>\n",
       "      <td>Weston County, WY</td>\n",
       "      <td>56045</td>\n",
       "      <td>Aug, 2011</td>\n",
       "      <td>2011/08</td>\n",
       "      <td>88.68</td>\n",
       "      <td>69.0</td>\n",
       "      <td>99.4</td>\n",
       "    </tr>\n",
       "    <tr>\n",
       "      <th>40438</th>\n",
       "      <td>Weston County, WY - Sep, 2011</td>\n",
       "      <td>Weston County, WY</td>\n",
       "      <td>56045</td>\n",
       "      <td>Sep, 2011</td>\n",
       "      <td>2011/09</td>\n",
       "      <td>76.75</td>\n",
       "      <td>45.0</td>\n",
       "      <td>94.0</td>\n",
       "    </tr>\n",
       "    <tr>\n",
       "      <th>40439</th>\n",
       "      <td>Weston County, WY - Oct, 2011</td>\n",
       "      <td>Weston County, WY</td>\n",
       "      <td>56045</td>\n",
       "      <td>Oct, 2011</td>\n",
       "      <td>2011/10</td>\n",
       "      <td>61.91</td>\n",
       "      <td>33.2</td>\n",
       "      <td>88.7</td>\n",
       "    </tr>\n",
       "    <tr>\n",
       "      <th>40440</th>\n",
       "      <td>Weston County, WY - Nov, 2011</td>\n",
       "      <td>Weston County, WY</td>\n",
       "      <td>56045</td>\n",
       "      <td>Nov, 2011</td>\n",
       "      <td>2011/11</td>\n",
       "      <td>42.87</td>\n",
       "      <td>17.5</td>\n",
       "      <td>60.0</td>\n",
       "    </tr>\n",
       "    <tr>\n",
       "      <th>40441</th>\n",
       "      <td>Weston County, WY - Dec, 2011</td>\n",
       "      <td>Weston County, WY</td>\n",
       "      <td>56045</td>\n",
       "      <td>Dec, 2011</td>\n",
       "      <td>2011/12</td>\n",
       "      <td>33.56</td>\n",
       "      <td>5.8</td>\n",
       "      <td>52.3</td>\n",
       "    </tr>\n",
       "  </tbody>\n",
       "</table>\n",
       "<p>1231956 rows × 8 columns</p>\n",
       "</div>"
      ],
      "text/plain": [
       "                                  UID              County County Code  \\\n",
       "0      Autauga County, AL - Jan, 1979  Autauga County, AL       01001   \n",
       "1      Autauga County, AL - Feb, 1979  Autauga County, AL       01001   \n",
       "2      Autauga County, AL - Mar, 1979  Autauga County, AL       01001   \n",
       "3      Autauga County, AL - Apr, 1979  Autauga County, AL       01001   \n",
       "4      Autauga County, AL - May, 1979  Autauga County, AL       01001   \n",
       "...                               ...                 ...         ...   \n",
       "40437   Weston County, WY - Aug, 2011   Weston County, WY       56045   \n",
       "40438   Weston County, WY - Sep, 2011   Weston County, WY       56045   \n",
       "40439   Weston County, WY - Oct, 2011   Weston County, WY       56045   \n",
       "40440   Weston County, WY - Nov, 2011   Weston County, WY       56045   \n",
       "40441   Weston County, WY - Dec, 2011   Weston County, WY       56045   \n",
       "\n",
       "      Month, Year Month, Year Code  avg_dailyMaxAirTemp_F  \\\n",
       "0       Jan, 1979          1979/01                  48.44   \n",
       "1       Feb, 1979          1979/02                  54.11   \n",
       "2       Mar, 1979          1979/03                  65.65   \n",
       "3       Apr, 1979          1979/04                  72.90   \n",
       "4       May, 1979          1979/05                  78.77   \n",
       "...           ...              ...                    ...   \n",
       "40437   Aug, 2011          2011/08                  88.68   \n",
       "40438   Sep, 2011          2011/09                  76.75   \n",
       "40439   Oct, 2011          2011/10                  61.91   \n",
       "40440   Nov, 2011          2011/11                  42.87   \n",
       "40441   Dec, 2011          2011/12                  33.56   \n",
       "\n",
       "       min_dailyMaxAirTemp_F  max_dailyMaxAirTemp_F  \n",
       "0                       29.9                   67.1  \n",
       "1                       33.5                   74.6  \n",
       "2                       47.4                   78.1  \n",
       "3                       62.0                   82.7  \n",
       "4                       66.3                   84.5  \n",
       "...                      ...                    ...  \n",
       "40437                   69.0                   99.4  \n",
       "40438                   45.0                   94.0  \n",
       "40439                   33.2                   88.7  \n",
       "40440                   17.5                   60.0  \n",
       "40441                    5.8                   52.3  \n",
       "\n",
       "[1231956 rows x 8 columns]"
      ]
     },
     "execution_count": 49,
     "metadata": {},
     "output_type": "execute_result"
    }
   ],
   "source": [
    "air_temperature_df"
   ]
  },
  {
   "cell_type": "code",
   "execution_count": 157,
   "id": "585aa2bf-5bb1-45ef-8533-06b1806698a5",
   "metadata": {},
   "outputs": [],
   "source": [
    "# #write out clean data to csv\n",
    "# temp_compression_opts = dict(method='zip',\n",
    "#                         archive_name='airTempMonthly_1979_2011.csv')\n",
    "\n",
    "\n",
    "# air_temperature_df.to_csv('./data/01_climate_data/01_climate_data_CLEAN/airTempMonthly_1979_2011.zip', index=False, compression=temp_compression_opts)"
   ]
  },
  {
   "cell_type": "code",
   "execution_count": 158,
   "id": "b0e45375-6c34-4489-8e29-1a4d324a0a89",
   "metadata": {},
   "outputs": [],
   "source": [
    "# # read in clean csv just to test it works\n",
    "# data = pd.read_csv('./data/01_climate_data/01_climate_data_CLEAN/airTempMonthly_1979_2011.csv')\n",
    "# data.info()"
   ]
  },
  {
   "cell_type": "markdown",
   "id": "307192b5-d19e-4efa-b1b1-03bd58e7bc8a",
   "metadata": {},
   "source": [
    "# Read in the Particulate Matter Data"
   ]
  },
  {
   "cell_type": "code",
   "execution_count": 159,
   "id": "c31c757c-2247-42ac-a18d-8bdc5736cda4",
   "metadata": {},
   "outputs": [],
   "source": [
    "# make list of files in particulate matter\n",
    "particle_files = os.listdir('./data/01_climate_data/monthlyParticulateMatter_RAW/')\n",
    "#particle_files"
   ]
  },
  {
   "cell_type": "code",
   "execution_count": 160,
   "id": "baf444bd-fc4f-4da8-aa8b-fb2087f1ae7e",
   "metadata": {},
   "outputs": [],
   "source": [
    "# test_pfm_df = pd.read_csv('./data/01_climate_data/monthlyParticulateMatter_RAW/monthlyFPM_byCounty_2009.txt', delimiter=\"\\t\", header=0, encoding='')"
   ]
  },
  {
   "cell_type": "code",
   "execution_count": 161,
   "id": "96fc7fd5-060d-4433-adf6-582e907ddec7",
   "metadata": {},
   "outputs": [
    {
     "data": {
      "text/html": [
       "<div>\n",
       "<style scoped>\n",
       "    .dataframe tbody tr th:only-of-type {\n",
       "        vertical-align: middle;\n",
       "    }\n",
       "\n",
       "    .dataframe tbody tr th {\n",
       "        vertical-align: top;\n",
       "    }\n",
       "\n",
       "    .dataframe thead th {\n",
       "        text-align: right;\n",
       "    }\n",
       "</style>\n",
       "<table border=\"1\" class=\"dataframe\">\n",
       "  <thead>\n",
       "    <tr style=\"text-align: right;\">\n",
       "      <th></th>\n",
       "      <th>Notes</th>\n",
       "      <th>County</th>\n",
       "      <th>County Code</th>\n",
       "      <th>Month, Year</th>\n",
       "      <th>Month, Year Code</th>\n",
       "      <th>Avg Fine Particulate Matter (µg/m³)</th>\n",
       "      <th># of Observations for Fine Particulate Matter</th>\n",
       "      <th>Min Fine Particulate Matter</th>\n",
       "      <th>Max Fine Particulate Matter</th>\n",
       "      <th>Avg Fine Particulate Matter Standard Deviation</th>\n",
       "    </tr>\n",
       "  </thead>\n",
       "  <tbody>\n",
       "    <tr>\n",
       "      <th>0</th>\n",
       "      <td>NaN</td>\n",
       "      <td>Autauga County, AL</td>\n",
       "      <td>1001.0</td>\n",
       "      <td>Jan, 2009</td>\n",
       "      <td>2009/01</td>\n",
       "      <td>10.61</td>\n",
       "      <td>372.0</td>\n",
       "      <td>3.9</td>\n",
       "      <td>19.2</td>\n",
       "      <td>4.33</td>\n",
       "    </tr>\n",
       "    <tr>\n",
       "      <th>1</th>\n",
       "      <td>NaN</td>\n",
       "      <td>Autauga County, AL</td>\n",
       "      <td>1001.0</td>\n",
       "      <td>Feb, 2009</td>\n",
       "      <td>2009/02</td>\n",
       "      <td>12.11</td>\n",
       "      <td>336.0</td>\n",
       "      <td>3.7</td>\n",
       "      <td>28.7</td>\n",
       "      <td>5.69</td>\n",
       "    </tr>\n",
       "  </tbody>\n",
       "</table>\n",
       "</div>"
      ],
      "text/plain": [
       "  Notes              County  County Code Month, Year Month, Year Code  \\\n",
       "0   NaN  Autauga County, AL       1001.0   Jan, 2009          2009/01   \n",
       "1   NaN  Autauga County, AL       1001.0   Feb, 2009          2009/02   \n",
       "\n",
       "   Avg Fine Particulate Matter (µg/m³)  \\\n",
       "0                                10.61   \n",
       "1                                12.11   \n",
       "\n",
       "   # of Observations for Fine Particulate Matter  Min Fine Particulate Matter  \\\n",
       "0                                          372.0                          3.9   \n",
       "1                                          336.0                          3.7   \n",
       "\n",
       "   Max Fine Particulate Matter  Avg Fine Particulate Matter Standard Deviation  \n",
       "0                         19.2                                            4.33  \n",
       "1                         28.7                                            5.69  "
      ]
     },
     "execution_count": 161,
     "metadata": {},
     "output_type": "execute_result"
    }
   ],
   "source": [
    "test_pfm_df.head(2)"
   ]
  },
  {
   "cell_type": "code",
   "execution_count": 162,
   "id": "67e8070f-b4b1-423d-9f3d-fc65aaeaf4c6",
   "metadata": {},
   "outputs": [],
   "source": [
    "# test_pfm_df = test_pfm_df[test_pfm_df['County'].isna() == False]\n",
    "# test_pfm_df = test_pfm_df[test_pfm_df['Notes'] != 'Total']"
   ]
  },
  {
   "cell_type": "code",
   "execution_count": 163,
   "id": "927d70f9-6754-4edd-b43b-9393e0848e8a",
   "metadata": {},
   "outputs": [],
   "source": [
    "def process_fpm_data(filename):\n",
    "    file_string = './data/01_climate_data/monthlyParticulateMatter_RAW/' + filename\n",
    "    fpm_df = pd.read_csv(file_string, delimiter='\\t', header=0, encoding='unicode_escape')\n",
    "    \n",
    "    #drop unneccesary rows\n",
    "    fpm_df = fpm_df[fpm_df['County'].isna() == False]\n",
    "    fpm_df = fpm_df[fpm_df['Notes'] != 'Total'] #drop the total rows\n",
    "    \n",
    "    # create UID\n",
    "    fpm_df['UID'] = fpm_df['County'] + \" - \" + fpm_df['Month, Year']\n",
    "    \n",
    "    #get only needed columns\n",
    "    output_df = fpm_df[['UID', 'County', 'County Code', 'Month, Year', 'Month, Year Code', 'Avg Fine Particulate Matter (�g/m�)' ,'Min Fine Particulate Matter', 'Max Fine Particulate Matter']]\n",
    "    final_df = output_df.rename(columns={'Avg Fine Particulate Matter (�g/m�)': 'avg_FPM', 'Min Fine Particulate Matter': 'min_FPM', 'Max Fine Particulate Matter': 'max_FPM'})\n",
    "    return final_df"
   ]
  },
  {
   "cell_type": "code",
   "execution_count": 164,
   "id": "a9798d44-edd3-47e2-83bb-6d9852235f8e",
   "metadata": {},
   "outputs": [],
   "source": [
    "#process_fpm_data(particle_files[2]).head(2)"
   ]
  },
  {
   "cell_type": "code",
   "execution_count": 165,
   "id": "d82bde1a-71bc-4e3c-a05b-85b2cad20212",
   "metadata": {},
   "outputs": [],
   "source": [
    "# # run process data function on all data in temperature files\n",
    "# fine_particulate_matter_df = [process_fpm_data(file) for file in particle_files]\n",
    "# fine_particulate_matter_df = pd.concat(fine_particulate_matter_df)\n",
    "\n",
    "# # sort the values\n",
    "# fine_particulate_matter_df.sort_values(by=['County Code', 'Month, Year Code'], inplace=True)"
   ]
  },
  {
   "cell_type": "code",
   "execution_count": 166,
   "id": "f37af041-7779-4e8c-83f3-8f0d12ccb7de",
   "metadata": {},
   "outputs": [],
   "source": [
    "# # turn objects to categories to save memory\n",
    "# fine_particulate_matter_df['County'] = fine_particulate_matter_df['County'].astype('category')\n",
    "# fine_particulate_matter_df['Month, Year'] = fine_particulate_matter_df['Month, Year'].astype('category')\n",
    "# fine_particulate_matter_df['Month, Year Code'] = fine_particulate_matter_df['Month, Year Code'].astype('category')"
   ]
  },
  {
   "cell_type": "code",
   "execution_count": 169,
   "id": "777f347f-850d-45e3-9e0e-e25bb46baf68",
   "metadata": {},
   "outputs": [],
   "source": [
    "#fine_particulate_matter_df"
   ]
  },
  {
   "cell_type": "code",
   "execution_count": 170,
   "id": "fb745270-12ce-4146-babb-ed5578a2a261",
   "metadata": {},
   "outputs": [],
   "source": [
    "# # creating a Unique Identifier to join later with other climate dfs\n",
    "# fpm_compression_opts = dict(method='zip',\n",
    "#                         archive_name='fpm_monthlyByCounty_2003_2011.csv')\n",
    "\n",
    "\n",
    "# fine_particulate_matter_df.to_csv('./data/01_climate_data/01_climate_data_CLEAN/fpm_monthly_byCounty_2003_2011.zip', index=False, compression=fpm_compression_opts)"
   ]
  },
  {
   "cell_type": "markdown",
   "id": "d715ede4-f6d5-4789-84e6-ea95411ec2d3",
   "metadata": {},
   "source": [
    "# Read in the Heat Wave Days"
   ]
  },
  {
   "cell_type": "code",
   "execution_count": 171,
   "id": "7059b95e-41f5-4bc4-b067-104f73882e4d",
   "metadata": {},
   "outputs": [],
   "source": [
    "heat_files = os.listdir('./data/01_climate_data/heatWaveDays_RAW/')\n",
    "#heat_files"
   ]
  },
  {
   "cell_type": "code",
   "execution_count": 172,
   "id": "4c511cce-5550-4f87-8163-223a6c6dcb70",
   "metadata": {},
   "outputs": [
    {
     "data": {
      "text/html": [
       "<div>\n",
       "<style scoped>\n",
       "    .dataframe tbody tr th:only-of-type {\n",
       "        vertical-align: middle;\n",
       "    }\n",
       "\n",
       "    .dataframe tbody tr th {\n",
       "        vertical-align: top;\n",
       "    }\n",
       "\n",
       "    .dataframe thead th {\n",
       "        text-align: right;\n",
       "    }\n",
       "</style>\n",
       "<table border=\"1\" class=\"dataframe\">\n",
       "  <thead>\n",
       "    <tr style=\"text-align: right;\">\n",
       "      <th></th>\n",
       "      <th>Notes</th>\n",
       "      <th>County</th>\n",
       "      <th>County Code</th>\n",
       "      <th>Year</th>\n",
       "      <th>Year Code</th>\n",
       "      <th>Heat Wave Days Based on Daily Maximum Temperature</th>\n",
       "      <th>Average Heat Wave Days Based on Daily Maximum Temperature</th>\n",
       "      <th>Average Heat Wave Days Based on Daily Maximum Temperature Standard Deviation</th>\n",
       "      <th>Heat Wave Days Based on Daily Maximum Heat Index</th>\n",
       "      <th>Average Heat Wave Days Based on Daily Maximum Heat Index</th>\n",
       "      <th>Average Heat Wave Days Based on Daily Maximum Heat Index Standard Deviation</th>\n",
       "      <th>Heat Wave Days Based on Net Daily Heat Stress</th>\n",
       "      <th>Average Heat Wave Days Based on Net Daily Heat Stress</th>\n",
       "      <th>Average Heat Wave Days Based on Net Daily Heat Stress Standard Deviation</th>\n",
       "      <th>Population</th>\n",
       "      <th>Average Population</th>\n",
       "    </tr>\n",
       "  </thead>\n",
       "  <tbody>\n",
       "    <tr>\n",
       "      <th>0</th>\n",
       "      <td>NaN</td>\n",
       "      <td>Autauga County, AL</td>\n",
       "      <td>1001.0</td>\n",
       "      <td>1982.0</td>\n",
       "      <td>1982.0</td>\n",
       "      <td>0</td>\n",
       "      <td>0.0</td>\n",
       "      <td>0.0</td>\n",
       "      <td>0</td>\n",
       "      <td>0.0</td>\n",
       "      <td>0.0</td>\n",
       "      <td>0</td>\n",
       "      <td>0.0</td>\n",
       "      <td>0.0</td>\n",
       "      <td>32015</td>\n",
       "      <td>32015.00</td>\n",
       "    </tr>\n",
       "  </tbody>\n",
       "</table>\n",
       "</div>"
      ],
      "text/plain": [
       "  Notes              County  County Code    Year  Year Code  \\\n",
       "0   NaN  Autauga County, AL       1001.0  1982.0     1982.0   \n",
       "\n",
       "  Heat Wave Days Based on Daily Maximum Temperature  \\\n",
       "0                                                 0   \n",
       "\n",
       "   Average Heat Wave Days Based on Daily Maximum Temperature  \\\n",
       "0                                                0.0           \n",
       "\n",
       "   Average Heat Wave Days Based on Daily Maximum Temperature Standard Deviation  \\\n",
       "0                                                0.0                              \n",
       "\n",
       "  Heat Wave Days Based on Daily Maximum Heat Index  \\\n",
       "0                                                0   \n",
       "\n",
       "   Average Heat Wave Days Based on Daily Maximum Heat Index  \\\n",
       "0                                                0.0          \n",
       "\n",
       "   Average Heat Wave Days Based on Daily Maximum Heat Index Standard Deviation  \\\n",
       "0                                                0.0                             \n",
       "\n",
       "  Heat Wave Days Based on Net Daily Heat Stress  \\\n",
       "0                                             0   \n",
       "\n",
       "   Average Heat Wave Days Based on Net Daily Heat Stress  \\\n",
       "0                                                0.0       \n",
       "\n",
       "   Average Heat Wave Days Based on Net Daily Heat Stress Standard Deviation  \\\n",
       "0                                                0.0                          \n",
       "\n",
       "  Population Average Population  \n",
       "0      32015           32015.00  "
      ]
     },
     "execution_count": 172,
     "metadata": {},
     "output_type": "execute_result"
    }
   ],
   "source": [
    "test_df = pd.read_csv('./data/01_climate_data/heatWaveDays_RAW/heatWaveDays_1982_1985.txt', delimiter='\\t', header=0)\n",
    "test_df[test_df['County'].isna() == False].head(1)"
   ]
  },
  {
   "cell_type": "code",
   "execution_count": 173,
   "id": "fbff9a41-14c0-4aaf-8d21-84489c958fb1",
   "metadata": {},
   "outputs": [
    {
     "data": {
      "text/plain": [
       "Index(['Notes', 'County', 'County Code', 'Year', 'Year Code',\n",
       "       'Heat Wave Days Based on Daily Maximum Temperature',\n",
       "       'Average Heat Wave Days Based on Daily Maximum Temperature',\n",
       "       'Average Heat Wave Days Based on Daily Maximum Temperature Standard Deviation',\n",
       "       'Heat Wave Days Based on Daily Maximum Heat Index',\n",
       "       'Average Heat Wave Days Based on Daily Maximum Heat Index',\n",
       "       'Average Heat Wave Days Based on Daily Maximum Heat Index Standard Deviation',\n",
       "       'Heat Wave Days Based on Net Daily Heat Stress',\n",
       "       'Average Heat Wave Days Based on Net Daily Heat Stress',\n",
       "       'Average Heat Wave Days Based on Net Daily Heat Stress Standard Deviation',\n",
       "       'Population', 'Average Population'],\n",
       "      dtype='object')"
      ]
     },
     "execution_count": 173,
     "metadata": {},
     "output_type": "execute_result"
    }
   ],
   "source": [
    "test_df.columns"
   ]
  },
  {
   "cell_type": "code",
   "execution_count": 174,
   "id": "7bac87f4-ec0c-4765-ac73-0c07a5416320",
   "metadata": {},
   "outputs": [],
   "source": [
    "def process_heat_wave_data(filename):\n",
    "    file_string = './data/01_climate_data/heatWaveDays_RAW/' + filename\n",
    "    hw_df = pd.read_csv(file_string, delimiter='\\t', header=0)\n",
    "    \n",
    "    #drop unneccesary rows\n",
    "    hw_df = hw_df[hw_df['County'].isna() == False]\n",
    "    hw_df = hw_df[hw_df['Notes'] != 'Total'] #drop the total rows\n",
    "    \n",
    "    #county code to int\n",
    "    #hw_df = hw_df.astype({'County Code': 'int64'})\n",
    "    \n",
    "    # No UID in this df, since it doesn't have the Month, Year col\n",
    "\n",
    "    \n",
    "    #get only needed columns\n",
    "    output_df = hw_df[['County', 'County Code', 'Year', 'Heat Wave Days Based on Daily Maximum Temperature', 'Heat Wave Days Based on Daily Maximum Heat Index', 'Heat Wave Days Based on Net Daily Heat Stress']]\n",
    "    final_df = output_df.rename(columns={'Heat Wave Days Based on Daily Maximum Temperature': 'count_hwDays_onDailyMaxTemp', 'Heat Wave Days Based on Daily Maximum Heat Index': 'count_hwDays_onDailyMaxHeatIndex', 'Heat Wave Days Based on Net Daily Heat Stress': 'count_hwDays_onDailyNetHeatStress'})\n",
    "    return final_df"
   ]
  },
  {
   "cell_type": "code",
   "execution_count": 175,
   "id": "6f169167-f97c-451d-8cf1-d57ced9c4ef4",
   "metadata": {},
   "outputs": [],
   "source": [
    "heat_wave_df = [process_heat_wave_data(file) for file in heat_files]\n",
    "heat_wave_df = pd.concat(heat_wave_df)\n",
    "heat_wave_df.sort_values(by=['County Code', 'Year'], inplace=True)"
   ]
  },
  {
   "cell_type": "code",
   "execution_count": 176,
   "id": "331bb0cc-a350-475b-8c34-7cbc5302c745",
   "metadata": {},
   "outputs": [],
   "source": [
    "heat_wave_df.to_csv('./data/01_climate_data/01_climate_data_CLEAN/heat_wave_days_1981_2010.csv', index=False)"
   ]
  },
  {
   "cell_type": "code",
   "execution_count": null,
   "id": "ceb99690-65ad-4e12-8485-aad60f2287f0",
   "metadata": {},
   "outputs": [],
   "source": [
    "# test = pd.read_csv('./data/01_climate_data/01_climate_data_CLEAN/heat_wave_days_1981_2010.csv')\n",
    "# test.info()"
   ]
  },
  {
   "cell_type": "markdown",
   "id": "795116f4-fa0f-43e4-b1d4-1323342d6c70",
   "metadata": {},
   "source": [
    "# Read in Precipitation"
   ]
  },
  {
   "cell_type": "code",
   "execution_count": 50,
   "id": "a8e3c533-de52-44d2-8b18-4b95ec120a12",
   "metadata": {},
   "outputs": [],
   "source": [
    "test_precip = pd.read_csv('./data/01_climate_data/monthlyPrecipitation_RAW/monthlyPrecip_byCounty_1979.txt', delimiter=\"\\t\", header=0)\n",
    "#test_precip"
   ]
  },
  {
   "cell_type": "code",
   "execution_count": 51,
   "id": "59430045-2d0f-4b03-83e9-fb176fa332bd",
   "metadata": {
    "tags": []
   },
   "outputs": [],
   "source": [
    "precipitation_files = os.listdir('./data/01_climate_data/monthlyPrecipitation_RAW/')\n",
    "#precipitation_files"
   ]
  },
  {
   "cell_type": "code",
   "execution_count": 52,
   "id": "da0a428c-9645-469a-a517-5a1cc19c236f",
   "metadata": {},
   "outputs": [],
   "source": [
    "test_precip = test_precip[test_precip['County'].isna() != True]"
   ]
  },
  {
   "cell_type": "code",
   "execution_count": 12,
   "id": "b4692b13-1335-4a03-b079-603e668b85ab",
   "metadata": {},
   "outputs": [],
   "source": [
    "test_precip = test_precip.astype({'County Code': 'int64'})"
   ]
  },
  {
   "cell_type": "code",
   "execution_count": 13,
   "id": "8797fe24-2e92-4f69-b953-6af4c03c425e",
   "metadata": {},
   "outputs": [
    {
     "name": "stdout",
     "output_type": "stream",
     "text": [
      "<class 'pandas.core.frame.DataFrame'>\n",
      "Int64Index: 40443 entries, 0 to 40442\n",
      "Data columns (total 9 columns):\n",
      " #   Column                                     Non-Null Count  Dtype  \n",
      "---  ------                                     --------------  -----  \n",
      " 0   Notes                                      3111 non-null   object \n",
      " 1   County                                     40443 non-null  object \n",
      " 2   County Code                                40443 non-null  int64  \n",
      " 3   Month, Year                                37332 non-null  object \n",
      " 4   Month, Year Code                           37332 non-null  object \n",
      " 5   Avg Daily Precipitation (mm)               40443 non-null  float64\n",
      " 6   # of Observations for Daily Precipitation  40443 non-null  float64\n",
      " 7   Min Daily Precipitation                    40443 non-null  float64\n",
      " 8   Max Daily Precipitation                    40443 non-null  float64\n",
      "dtypes: float64(4), int64(1), object(4)\n",
      "memory usage: 3.1+ MB\n"
     ]
    }
   ],
   "source": [
    "test_precip.info()"
   ]
  },
  {
   "cell_type": "code",
   "execution_count": 53,
   "id": "c0e3b781-3277-4cad-932a-76cc243d24da",
   "metadata": {},
   "outputs": [],
   "source": [
    "test_precip['UID'] = test_precip['County'] + \" - \" + test_precip['Month, Year Code']"
   ]
  },
  {
   "cell_type": "code",
   "execution_count": 54,
   "id": "8702635e-2403-49be-a95c-c4fb82512f12",
   "metadata": {},
   "outputs": [],
   "source": [
    "def process_precip(filename):\n",
    "    file_string = './data/01_climate_data/monthlyPrecipitation_RAW/' + filename\n",
    "    precip_df = pd.read_csv(file_string, delimiter='\\t', header=0, dtype={'County Code': object})\n",
    "    \n",
    "    #drop unneccesary rows\n",
    "    precip_df = precip_df[precip_df['County'].isna() == False]\n",
    "    precip_df = precip_df[precip_df['Notes'] != 'Total'] #drop the total rows\n",
    "    \n",
    "    #county code to int\n",
    "    #precip_df = precip_df.astype({'County Code': 'int64'})\n",
    "    \n",
    "    # create UID\n",
    "    precip_df['UID'] = precip_df['County'] + \" - \" + precip_df['Month, Year']\n",
    "    \n",
    "    #get only needed columns\n",
    "    output_df = precip_df[['UID', 'County', 'County Code', 'Month, Year', 'Month, Year Code', 'Avg Daily Precipitation (mm)' ,'Min Daily Precipitation', 'Max Daily Precipitation']]\n",
    "    final_df = output_df.rename(columns={'Avg Daily Precipitation (mm)': 'avg_daily_precip_mm', 'Min Daily Precipitation': 'min_daily_precip_mm', 'Max Daily Precipitation': 'max_daily_precip_mm'})\n",
    "    return final_df"
   ]
  },
  {
   "cell_type": "code",
   "execution_count": 55,
   "id": "eadf043b-2c7c-43e2-b564-6c2eb35f421d",
   "metadata": {},
   "outputs": [],
   "source": [
    "precipitation_df = [process_precip(file) for file in precipitation_files]\n",
    "precipitation_df = pd.concat(precipitation_df)"
   ]
  },
  {
   "cell_type": "code",
   "execution_count": 56,
   "id": "5e0b720e-084f-4aaa-9d0c-957a617295a5",
   "metadata": {},
   "outputs": [],
   "source": [
    "precipitation_df.sort_values(by=['County Code', 'Month, Year Code'], inplace=True)"
   ]
  },
  {
   "cell_type": "code",
   "execution_count": 57,
   "id": "63520656-e446-47b9-b832-a0b9b35caa8b",
   "metadata": {},
   "outputs": [
    {
     "data": {
      "text/plain": [
       "Index                    9.855648\n",
       "UID                    107.115228\n",
       "County                  92.331756\n",
       "County Code             76.381272\n",
       "Month, Year             81.309096\n",
       "Month, Year Code        78.845184\n",
       "avg_daily_precip_mm      9.855648\n",
       "min_daily_precip_mm      9.855648\n",
       "max_daily_precip_mm      9.855648\n",
       "dtype: float64"
      ]
     },
     "execution_count": 57,
     "metadata": {},
     "output_type": "execute_result"
    }
   ],
   "source": [
    "precipitation_df.memory_usage(deep=True) / 1_000_000"
   ]
  },
  {
   "cell_type": "code",
   "execution_count": 41,
   "id": "49bd6cb5-037c-4446-ad41-168fab55c12d",
   "metadata": {},
   "outputs": [
    {
     "data": {
      "text/html": [
       "<div>\n",
       "<style scoped>\n",
       "    .dataframe tbody tr th:only-of-type {\n",
       "        vertical-align: middle;\n",
       "    }\n",
       "\n",
       "    .dataframe tbody tr th {\n",
       "        vertical-align: top;\n",
       "    }\n",
       "\n",
       "    .dataframe thead th {\n",
       "        text-align: right;\n",
       "    }\n",
       "</style>\n",
       "<table border=\"1\" class=\"dataframe\">\n",
       "  <thead>\n",
       "    <tr style=\"text-align: right;\">\n",
       "      <th></th>\n",
       "      <th>UID</th>\n",
       "      <th>County</th>\n",
       "      <th>County Code</th>\n",
       "      <th>Month, Year</th>\n",
       "      <th>Month, Year Code</th>\n",
       "      <th>avg_daily_precip_mm</th>\n",
       "      <th>min_daily_precip_mm</th>\n",
       "      <th>max_daily_precip_mm</th>\n",
       "    </tr>\n",
       "  </thead>\n",
       "  <tbody>\n",
       "    <tr>\n",
       "      <th>0</th>\n",
       "      <td>Autauga County, AL - Jan, 1979</td>\n",
       "      <td>Autauga County, AL</td>\n",
       "      <td>01001</td>\n",
       "      <td>Jan, 1979</td>\n",
       "      <td>1979/01</td>\n",
       "      <td>5.59</td>\n",
       "      <td>0.0</td>\n",
       "      <td>52.6</td>\n",
       "    </tr>\n",
       "    <tr>\n",
       "      <th>1</th>\n",
       "      <td>Autauga County, AL - Feb, 1979</td>\n",
       "      <td>Autauga County, AL</td>\n",
       "      <td>01001</td>\n",
       "      <td>Feb, 1979</td>\n",
       "      <td>1979/02</td>\n",
       "      <td>5.33</td>\n",
       "      <td>0.0</td>\n",
       "      <td>34.8</td>\n",
       "    </tr>\n",
       "    <tr>\n",
       "      <th>2</th>\n",
       "      <td>Autauga County, AL - Mar, 1979</td>\n",
       "      <td>Autauga County, AL</td>\n",
       "      <td>01001</td>\n",
       "      <td>Mar, 1979</td>\n",
       "      <td>1979/03</td>\n",
       "      <td>5.72</td>\n",
       "      <td>0.0</td>\n",
       "      <td>124.0</td>\n",
       "    </tr>\n",
       "    <tr>\n",
       "      <th>3</th>\n",
       "      <td>Autauga County, AL - Apr, 1979</td>\n",
       "      <td>Autauga County, AL</td>\n",
       "      <td>01001</td>\n",
       "      <td>Apr, 1979</td>\n",
       "      <td>1979/04</td>\n",
       "      <td>11.14</td>\n",
       "      <td>0.0</td>\n",
       "      <td>93.7</td>\n",
       "    </tr>\n",
       "    <tr>\n",
       "      <th>4</th>\n",
       "      <td>Autauga County, AL - May, 1979</td>\n",
       "      <td>Autauga County, AL</td>\n",
       "      <td>01001</td>\n",
       "      <td>May, 1979</td>\n",
       "      <td>1979/05</td>\n",
       "      <td>3.45</td>\n",
       "      <td>0.0</td>\n",
       "      <td>27.2</td>\n",
       "    </tr>\n",
       "    <tr>\n",
       "      <th>...</th>\n",
       "      <td>...</td>\n",
       "      <td>...</td>\n",
       "      <td>...</td>\n",
       "      <td>...</td>\n",
       "      <td>...</td>\n",
       "      <td>...</td>\n",
       "      <td>...</td>\n",
       "      <td>...</td>\n",
       "    </tr>\n",
       "    <tr>\n",
       "      <th>40437</th>\n",
       "      <td>Weston County, WY - Aug, 2011</td>\n",
       "      <td>Weston County, WY</td>\n",
       "      <td>56045</td>\n",
       "      <td>Aug, 2011</td>\n",
       "      <td>2011/08</td>\n",
       "      <td>1.03</td>\n",
       "      <td>0.0</td>\n",
       "      <td>32.9</td>\n",
       "    </tr>\n",
       "    <tr>\n",
       "      <th>40438</th>\n",
       "      <td>Weston County, WY - Sep, 2011</td>\n",
       "      <td>Weston County, WY</td>\n",
       "      <td>56045</td>\n",
       "      <td>Sep, 2011</td>\n",
       "      <td>2011/09</td>\n",
       "      <td>0.56</td>\n",
       "      <td>0.0</td>\n",
       "      <td>16.3</td>\n",
       "    </tr>\n",
       "    <tr>\n",
       "      <th>40439</th>\n",
       "      <td>Weston County, WY - Oct, 2011</td>\n",
       "      <td>Weston County, WY</td>\n",
       "      <td>56045</td>\n",
       "      <td>Oct, 2011</td>\n",
       "      <td>2011/10</td>\n",
       "      <td>0.89</td>\n",
       "      <td>0.0</td>\n",
       "      <td>16.3</td>\n",
       "    </tr>\n",
       "    <tr>\n",
       "      <th>40440</th>\n",
       "      <td>Weston County, WY - Nov, 2011</td>\n",
       "      <td>Weston County, WY</td>\n",
       "      <td>56045</td>\n",
       "      <td>Nov, 2011</td>\n",
       "      <td>2011/11</td>\n",
       "      <td>0.36</td>\n",
       "      <td>0.0</td>\n",
       "      <td>12.1</td>\n",
       "    </tr>\n",
       "    <tr>\n",
       "      <th>40441</th>\n",
       "      <td>Weston County, WY - Dec, 2011</td>\n",
       "      <td>Weston County, WY</td>\n",
       "      <td>56045</td>\n",
       "      <td>Dec, 2011</td>\n",
       "      <td>2011/12</td>\n",
       "      <td>0.17</td>\n",
       "      <td>0.0</td>\n",
       "      <td>5.7</td>\n",
       "    </tr>\n",
       "  </tbody>\n",
       "</table>\n",
       "<p>1231956 rows × 8 columns</p>\n",
       "</div>"
      ],
      "text/plain": [
       "                                  UID              County County Code  \\\n",
       "0      Autauga County, AL - Jan, 1979  Autauga County, AL       01001   \n",
       "1      Autauga County, AL - Feb, 1979  Autauga County, AL       01001   \n",
       "2      Autauga County, AL - Mar, 1979  Autauga County, AL       01001   \n",
       "3      Autauga County, AL - Apr, 1979  Autauga County, AL       01001   \n",
       "4      Autauga County, AL - May, 1979  Autauga County, AL       01001   \n",
       "...                               ...                 ...         ...   \n",
       "40437   Weston County, WY - Aug, 2011   Weston County, WY       56045   \n",
       "40438   Weston County, WY - Sep, 2011   Weston County, WY       56045   \n",
       "40439   Weston County, WY - Oct, 2011   Weston County, WY       56045   \n",
       "40440   Weston County, WY - Nov, 2011   Weston County, WY       56045   \n",
       "40441   Weston County, WY - Dec, 2011   Weston County, WY       56045   \n",
       "\n",
       "      Month, Year Month, Year Code  avg_daily_precip_mm  min_daily_precip_mm  \\\n",
       "0       Jan, 1979          1979/01                 5.59                  0.0   \n",
       "1       Feb, 1979          1979/02                 5.33                  0.0   \n",
       "2       Mar, 1979          1979/03                 5.72                  0.0   \n",
       "3       Apr, 1979          1979/04                11.14                  0.0   \n",
       "4       May, 1979          1979/05                 3.45                  0.0   \n",
       "...           ...              ...                  ...                  ...   \n",
       "40437   Aug, 2011          2011/08                 1.03                  0.0   \n",
       "40438   Sep, 2011          2011/09                 0.56                  0.0   \n",
       "40439   Oct, 2011          2011/10                 0.89                  0.0   \n",
       "40440   Nov, 2011          2011/11                 0.36                  0.0   \n",
       "40441   Dec, 2011          2011/12                 0.17                  0.0   \n",
       "\n",
       "       max_daily_precip_mm  \n",
       "0                     52.6  \n",
       "1                     34.8  \n",
       "2                    124.0  \n",
       "3                     93.7  \n",
       "4                     27.2  \n",
       "...                    ...  \n",
       "40437                 32.9  \n",
       "40438                 16.3  \n",
       "40439                 16.3  \n",
       "40440                 12.1  \n",
       "40441                  5.7  \n",
       "\n",
       "[1231956 rows x 8 columns]"
      ]
     },
     "execution_count": 41,
     "metadata": {},
     "output_type": "execute_result"
    }
   ],
   "source": [
    "precipitation_df"
   ]
  },
  {
   "cell_type": "code",
   "execution_count": 19,
   "id": "813ba427-5694-4567-8d06-973adad772d4",
   "metadata": {},
   "outputs": [
    {
     "data": {
      "text/plain": [
       "Index(['UID', 'County', 'County Code', 'Month, Year', 'Month, Year Code',\n",
       "       'avg_daily_precip_mm', 'min_daily_precip_mm', 'max_daily_precip_mm'],\n",
       "      dtype='object')"
      ]
     },
     "execution_count": 19,
     "metadata": {},
     "output_type": "execute_result"
    }
   ],
   "source": [
    "precipitation_df.columns"
   ]
  },
  {
   "cell_type": "code",
   "execution_count": 58,
   "id": "1961472b-5663-4c73-8c5b-c861efa26c04",
   "metadata": {},
   "outputs": [],
   "source": [
    "# turn objects to categories to save memory\n",
    "precipitation_df['County'] = precipitation_df['County'].astype('category')\n",
    "precipitation_df['County Code'] = precipitation_df['County Code'].astype('category')\n",
    "precipitation_df['Month, Year'] = precipitation_df['Month, Year'].astype('category')\n",
    "precipitation_df['Month, Year Code'] = precipitation_df['Month, Year Code'].astype('category')"
   ]
  },
  {
   "cell_type": "code",
   "execution_count": 59,
   "id": "88d31975-60a8-4a09-acf2-4a311c7fbfe4",
   "metadata": {},
   "outputs": [
    {
     "data": {
      "text/plain": [
       "Index                    9.855648\n",
       "UID                    107.115228\n",
       "County                   2.763161\n",
       "County Code              2.722882\n",
       "Month, Year              2.506600\n",
       "Month, Year Code         2.505808\n",
       "avg_daily_precip_mm      9.855648\n",
       "min_daily_precip_mm      9.855648\n",
       "max_daily_precip_mm      9.855648\n",
       "dtype: float64"
      ]
     },
     "execution_count": 59,
     "metadata": {},
     "output_type": "execute_result"
    }
   ],
   "source": [
    "precipitation_df.memory_usage(deep=True) / 1_000_000"
   ]
  },
  {
   "cell_type": "code",
   "execution_count": 22,
   "id": "03e365a1-4d9d-46c8-8398-e6a88253ffd5",
   "metadata": {},
   "outputs": [
    {
     "data": {
      "text/html": [
       "<div>\n",
       "<style scoped>\n",
       "    .dataframe tbody tr th:only-of-type {\n",
       "        vertical-align: middle;\n",
       "    }\n",
       "\n",
       "    .dataframe tbody tr th {\n",
       "        vertical-align: top;\n",
       "    }\n",
       "\n",
       "    .dataframe thead th {\n",
       "        text-align: right;\n",
       "    }\n",
       "</style>\n",
       "<table border=\"1\" class=\"dataframe\">\n",
       "  <thead>\n",
       "    <tr style=\"text-align: right;\">\n",
       "      <th></th>\n",
       "      <th>UID</th>\n",
       "      <th>County</th>\n",
       "      <th>County Code</th>\n",
       "      <th>Month, Year</th>\n",
       "      <th>Month, Year Code</th>\n",
       "      <th>avg_daily_precip_mm</th>\n",
       "      <th>min_daily_precip_mm</th>\n",
       "      <th>max_daily_precip_mm</th>\n",
       "    </tr>\n",
       "  </thead>\n",
       "  <tbody>\n",
       "    <tr>\n",
       "      <th>29666</th>\n",
       "      <td>Abbeville County, SC - Jan, 1979</td>\n",
       "      <td>Abbeville County, SC</td>\n",
       "      <td>45001.0</td>\n",
       "      <td>Jan, 1979</td>\n",
       "      <td>1979/01</td>\n",
       "      <td>5.20</td>\n",
       "      <td>0.0</td>\n",
       "      <td>51.0</td>\n",
       "    </tr>\n",
       "    <tr>\n",
       "      <th>29667</th>\n",
       "      <td>Abbeville County, SC - Feb, 1979</td>\n",
       "      <td>Abbeville County, SC</td>\n",
       "      <td>45001.0</td>\n",
       "      <td>Feb, 1979</td>\n",
       "      <td>1979/02</td>\n",
       "      <td>6.61</td>\n",
       "      <td>0.0</td>\n",
       "      <td>42.9</td>\n",
       "    </tr>\n",
       "    <tr>\n",
       "      <th>29668</th>\n",
       "      <td>Abbeville County, SC - Mar, 1979</td>\n",
       "      <td>Abbeville County, SC</td>\n",
       "      <td>45001.0</td>\n",
       "      <td>Mar, 1979</td>\n",
       "      <td>1979/03</td>\n",
       "      <td>2.76</td>\n",
       "      <td>0.0</td>\n",
       "      <td>36.6</td>\n",
       "    </tr>\n",
       "    <tr>\n",
       "      <th>29669</th>\n",
       "      <td>Abbeville County, SC - Apr, 1979</td>\n",
       "      <td>Abbeville County, SC</td>\n",
       "      <td>45001.0</td>\n",
       "      <td>Apr, 1979</td>\n",
       "      <td>1979/04</td>\n",
       "      <td>6.75</td>\n",
       "      <td>0.0</td>\n",
       "      <td>55.0</td>\n",
       "    </tr>\n",
       "    <tr>\n",
       "      <th>29670</th>\n",
       "      <td>Abbeville County, SC - May, 1979</td>\n",
       "      <td>Abbeville County, SC</td>\n",
       "      <td>45001.0</td>\n",
       "      <td>May, 1979</td>\n",
       "      <td>1979/05</td>\n",
       "      <td>5.21</td>\n",
       "      <td>0.0</td>\n",
       "      <td>36.9</td>\n",
       "    </tr>\n",
       "    <tr>\n",
       "      <th>...</th>\n",
       "      <td>...</td>\n",
       "      <td>...</td>\n",
       "      <td>...</td>\n",
       "      <td>...</td>\n",
       "      <td>...</td>\n",
       "      <td>...</td>\n",
       "      <td>...</td>\n",
       "      <td>...</td>\n",
       "    </tr>\n",
       "    <tr>\n",
       "      <th>31116</th>\n",
       "      <td>Ziebach County, SD - Aug, 2011</td>\n",
       "      <td>Ziebach County, SD</td>\n",
       "      <td>46137.0</td>\n",
       "      <td>Aug, 2011</td>\n",
       "      <td>2011/08</td>\n",
       "      <td>1.67</td>\n",
       "      <td>0.0</td>\n",
       "      <td>16.9</td>\n",
       "    </tr>\n",
       "    <tr>\n",
       "      <th>31117</th>\n",
       "      <td>Ziebach County, SD - Sep, 2011</td>\n",
       "      <td>Ziebach County, SD</td>\n",
       "      <td>46137.0</td>\n",
       "      <td>Sep, 2011</td>\n",
       "      <td>2011/09</td>\n",
       "      <td>0.43</td>\n",
       "      <td>0.0</td>\n",
       "      <td>9.9</td>\n",
       "    </tr>\n",
       "    <tr>\n",
       "      <th>31118</th>\n",
       "      <td>Ziebach County, SD - Oct, 2011</td>\n",
       "      <td>Ziebach County, SD</td>\n",
       "      <td>46137.0</td>\n",
       "      <td>Oct, 2011</td>\n",
       "      <td>2011/10</td>\n",
       "      <td>0.76</td>\n",
       "      <td>0.0</td>\n",
       "      <td>20.8</td>\n",
       "    </tr>\n",
       "    <tr>\n",
       "      <th>31119</th>\n",
       "      <td>Ziebach County, SD - Nov, 2011</td>\n",
       "      <td>Ziebach County, SD</td>\n",
       "      <td>46137.0</td>\n",
       "      <td>Nov, 2011</td>\n",
       "      <td>2011/11</td>\n",
       "      <td>0.17</td>\n",
       "      <td>0.0</td>\n",
       "      <td>11.9</td>\n",
       "    </tr>\n",
       "    <tr>\n",
       "      <th>31120</th>\n",
       "      <td>Ziebach County, SD - Dec, 2011</td>\n",
       "      <td>Ziebach County, SD</td>\n",
       "      <td>46137.0</td>\n",
       "      <td>Dec, 2011</td>\n",
       "      <td>2011/12</td>\n",
       "      <td>0.12</td>\n",
       "      <td>0.0</td>\n",
       "      <td>2.0</td>\n",
       "    </tr>\n",
       "  </tbody>\n",
       "</table>\n",
       "<p>1231956 rows × 8 columns</p>\n",
       "</div>"
      ],
      "text/plain": [
       "                                    UID                County County Code  \\\n",
       "29666  Abbeville County, SC - Jan, 1979  Abbeville County, SC     45001.0   \n",
       "29667  Abbeville County, SC - Feb, 1979  Abbeville County, SC     45001.0   \n",
       "29668  Abbeville County, SC - Mar, 1979  Abbeville County, SC     45001.0   \n",
       "29669  Abbeville County, SC - Apr, 1979  Abbeville County, SC     45001.0   \n",
       "29670  Abbeville County, SC - May, 1979  Abbeville County, SC     45001.0   \n",
       "...                                 ...                   ...         ...   \n",
       "31116    Ziebach County, SD - Aug, 2011    Ziebach County, SD     46137.0   \n",
       "31117    Ziebach County, SD - Sep, 2011    Ziebach County, SD     46137.0   \n",
       "31118    Ziebach County, SD - Oct, 2011    Ziebach County, SD     46137.0   \n",
       "31119    Ziebach County, SD - Nov, 2011    Ziebach County, SD     46137.0   \n",
       "31120    Ziebach County, SD - Dec, 2011    Ziebach County, SD     46137.0   \n",
       "\n",
       "      Month, Year Month, Year Code  avg_daily_precip_mm  min_daily_precip_mm  \\\n",
       "29666   Jan, 1979          1979/01                 5.20                  0.0   \n",
       "29667   Feb, 1979          1979/02                 6.61                  0.0   \n",
       "29668   Mar, 1979          1979/03                 2.76                  0.0   \n",
       "29669   Apr, 1979          1979/04                 6.75                  0.0   \n",
       "29670   May, 1979          1979/05                 5.21                  0.0   \n",
       "...           ...              ...                  ...                  ...   \n",
       "31116   Aug, 2011          2011/08                 1.67                  0.0   \n",
       "31117   Sep, 2011          2011/09                 0.43                  0.0   \n",
       "31118   Oct, 2011          2011/10                 0.76                  0.0   \n",
       "31119   Nov, 2011          2011/11                 0.17                  0.0   \n",
       "31120   Dec, 2011          2011/12                 0.12                  0.0   \n",
       "\n",
       "       max_daily_precip_mm  \n",
       "29666                 51.0  \n",
       "29667                 42.9  \n",
       "29668                 36.6  \n",
       "29669                 55.0  \n",
       "29670                 36.9  \n",
       "...                    ...  \n",
       "31116                 16.9  \n",
       "31117                  9.9  \n",
       "31118                 20.8  \n",
       "31119                 11.9  \n",
       "31120                  2.0  \n",
       "\n",
       "[1231956 rows x 8 columns]"
      ]
     },
     "execution_count": 22,
     "metadata": {},
     "output_type": "execute_result"
    }
   ],
   "source": [
    "precipitation_df"
   ]
  },
  {
   "cell_type": "code",
   "execution_count": null,
   "id": "5f4ac255-37be-44af-8352-3582233efd83",
   "metadata": {},
   "outputs": [],
   "source": [
    "# creating a Unique Identifier to join later with other climate dfs\n",
    "# precip_compression_opts = dict(method='zip',\n",
    "#                         archive_name='precipitation_monthlyByCounty_1979_2011.csv')\n",
    "\n",
    "# precipitation_df.to_csv('./data/01_climate_data/01_climate_data_CLEAN/precipitation_monthlyByCounty_1979_2011.zip', compression=precip_compression_opts)"
   ]
  },
  {
   "cell_type": "code",
   "execution_count": null,
   "id": "2e2d409c-8e16-42b5-af49-06e459b089f1",
   "metadata": {},
   "outputs": [],
   "source": []
  },
  {
   "cell_type": "markdown",
   "id": "b742de02-f30f-4b99-9f8f-ca4dbaebaafb",
   "metadata": {},
   "source": [
    "# Combining all Climate Dfs into One\n",
    "\n",
    "Here we will combine all climate data into one master data frame (sans the heat wave data, since that is not monthly), and write out to a zipped csv. This is to save on file size for github file size limits."
   ]
  },
  {
   "cell_type": "code",
   "execution_count": 60,
   "id": "dc6b3cfd-7a66-4d03-be1b-d785f140cf69",
   "metadata": {
    "tags": []
   },
   "outputs": [],
   "source": [
    "#all dfs to merge: precipitation_df, fine_particulate_matter_df, air_temperature_df\n",
    "# contextual - heat_wave_df\n",
    "precip_airTemp = pd.merge(air_temperature_df, precipitation_df, left_on='UID', right_on='UID')\n",
    "#combined_df = pd.merge(precip_airTemp, fine_particulate_matter_df, left_on='UID', right_on='UID', how='outer')"
   ]
  },
  {
   "cell_type": "code",
   "execution_count": 61,
   "id": "dea06596-d0d0-4c78-bbf2-5f983ae7f629",
   "metadata": {},
   "outputs": [
    {
     "name": "stdout",
     "output_type": "stream",
     "text": [
      "<class 'pandas.core.frame.DataFrame'>\n",
      "Int64Index: 1231956 entries, 0 to 1231955\n",
      "Data columns (total 15 columns):\n",
      " #   Column                 Non-Null Count    Dtype   \n",
      "---  ------                 --------------    -----   \n",
      " 0   UID                    1231956 non-null  object  \n",
      " 1   County_x               1231956 non-null  category\n",
      " 2   County Code_x          1231956 non-null  category\n",
      " 3   Month, Year_x          1231956 non-null  category\n",
      " 4   Month, Year Code_x     1231956 non-null  category\n",
      " 5   avg_dailyMaxAirTemp_F  1231956 non-null  float64 \n",
      " 6   min_dailyMaxAirTemp_F  1231956 non-null  float64 \n",
      " 7   max_dailyMaxAirTemp_F  1231956 non-null  float64 \n",
      " 8   County_y               1231956 non-null  category\n",
      " 9   County Code_y          1231956 non-null  category\n",
      " 10  Month, Year_y          1231956 non-null  category\n",
      " 11  Month, Year Code_y     1231956 non-null  category\n",
      " 12  avg_daily_precip_mm    1231956 non-null  float64 \n",
      " 13  min_daily_precip_mm    1231956 non-null  float64 \n",
      " 14  max_daily_precip_mm    1231956 non-null  float64 \n",
      "dtypes: category(8), float64(6), object(1)\n",
      "memory usage: 94.4+ MB\n"
     ]
    }
   ],
   "source": [
    "precip_airTemp.info()"
   ]
  },
  {
   "cell_type": "code",
   "execution_count": 62,
   "id": "307e107b-e1f4-4550-b3ab-76f54f2f41a7",
   "metadata": {},
   "outputs": [
    {
     "data": {
      "text/html": [
       "<div>\n",
       "<style scoped>\n",
       "    .dataframe tbody tr th:only-of-type {\n",
       "        vertical-align: middle;\n",
       "    }\n",
       "\n",
       "    .dataframe tbody tr th {\n",
       "        vertical-align: top;\n",
       "    }\n",
       "\n",
       "    .dataframe thead th {\n",
       "        text-align: right;\n",
       "    }\n",
       "</style>\n",
       "<table border=\"1\" class=\"dataframe\">\n",
       "  <thead>\n",
       "    <tr style=\"text-align: right;\">\n",
       "      <th></th>\n",
       "      <th>UID</th>\n",
       "      <th>County_x</th>\n",
       "      <th>County Code_x</th>\n",
       "      <th>Month, Year_x</th>\n",
       "      <th>Month, Year Code_x</th>\n",
       "      <th>avg_dailyMaxAirTemp_F</th>\n",
       "      <th>min_dailyMaxAirTemp_F</th>\n",
       "      <th>max_dailyMaxAirTemp_F</th>\n",
       "      <th>County_y</th>\n",
       "      <th>County Code_y</th>\n",
       "      <th>Month, Year_y</th>\n",
       "      <th>Month, Year Code_y</th>\n",
       "      <th>avg_daily_precip_mm</th>\n",
       "      <th>min_daily_precip_mm</th>\n",
       "      <th>max_daily_precip_mm</th>\n",
       "    </tr>\n",
       "  </thead>\n",
       "  <tbody>\n",
       "    <tr>\n",
       "      <th>0</th>\n",
       "      <td>Autauga County, AL - Jan, 1979</td>\n",
       "      <td>Autauga County, AL</td>\n",
       "      <td>01001</td>\n",
       "      <td>Jan, 1979</td>\n",
       "      <td>1979/01</td>\n",
       "      <td>48.44</td>\n",
       "      <td>29.9</td>\n",
       "      <td>67.1</td>\n",
       "      <td>Autauga County, AL</td>\n",
       "      <td>01001</td>\n",
       "      <td>Jan, 1979</td>\n",
       "      <td>1979/01</td>\n",
       "      <td>5.59</td>\n",
       "      <td>0.0</td>\n",
       "      <td>52.6</td>\n",
       "    </tr>\n",
       "    <tr>\n",
       "      <th>1</th>\n",
       "      <td>Autauga County, AL - Feb, 1979</td>\n",
       "      <td>Autauga County, AL</td>\n",
       "      <td>01001</td>\n",
       "      <td>Feb, 1979</td>\n",
       "      <td>1979/02</td>\n",
       "      <td>54.11</td>\n",
       "      <td>33.5</td>\n",
       "      <td>74.6</td>\n",
       "      <td>Autauga County, AL</td>\n",
       "      <td>01001</td>\n",
       "      <td>Feb, 1979</td>\n",
       "      <td>1979/02</td>\n",
       "      <td>5.33</td>\n",
       "      <td>0.0</td>\n",
       "      <td>34.8</td>\n",
       "    </tr>\n",
       "    <tr>\n",
       "      <th>2</th>\n",
       "      <td>Autauga County, AL - Mar, 1979</td>\n",
       "      <td>Autauga County, AL</td>\n",
       "      <td>01001</td>\n",
       "      <td>Mar, 1979</td>\n",
       "      <td>1979/03</td>\n",
       "      <td>65.65</td>\n",
       "      <td>47.4</td>\n",
       "      <td>78.1</td>\n",
       "      <td>Autauga County, AL</td>\n",
       "      <td>01001</td>\n",
       "      <td>Mar, 1979</td>\n",
       "      <td>1979/03</td>\n",
       "      <td>5.72</td>\n",
       "      <td>0.0</td>\n",
       "      <td>124.0</td>\n",
       "    </tr>\n",
       "    <tr>\n",
       "      <th>3</th>\n",
       "      <td>Autauga County, AL - Apr, 1979</td>\n",
       "      <td>Autauga County, AL</td>\n",
       "      <td>01001</td>\n",
       "      <td>Apr, 1979</td>\n",
       "      <td>1979/04</td>\n",
       "      <td>72.90</td>\n",
       "      <td>62.0</td>\n",
       "      <td>82.7</td>\n",
       "      <td>Autauga County, AL</td>\n",
       "      <td>01001</td>\n",
       "      <td>Apr, 1979</td>\n",
       "      <td>1979/04</td>\n",
       "      <td>11.14</td>\n",
       "      <td>0.0</td>\n",
       "      <td>93.7</td>\n",
       "    </tr>\n",
       "    <tr>\n",
       "      <th>4</th>\n",
       "      <td>Autauga County, AL - May, 1979</td>\n",
       "      <td>Autauga County, AL</td>\n",
       "      <td>01001</td>\n",
       "      <td>May, 1979</td>\n",
       "      <td>1979/05</td>\n",
       "      <td>78.77</td>\n",
       "      <td>66.3</td>\n",
       "      <td>84.5</td>\n",
       "      <td>Autauga County, AL</td>\n",
       "      <td>01001</td>\n",
       "      <td>May, 1979</td>\n",
       "      <td>1979/05</td>\n",
       "      <td>3.45</td>\n",
       "      <td>0.0</td>\n",
       "      <td>27.2</td>\n",
       "    </tr>\n",
       "    <tr>\n",
       "      <th>...</th>\n",
       "      <td>...</td>\n",
       "      <td>...</td>\n",
       "      <td>...</td>\n",
       "      <td>...</td>\n",
       "      <td>...</td>\n",
       "      <td>...</td>\n",
       "      <td>...</td>\n",
       "      <td>...</td>\n",
       "      <td>...</td>\n",
       "      <td>...</td>\n",
       "      <td>...</td>\n",
       "      <td>...</td>\n",
       "      <td>...</td>\n",
       "      <td>...</td>\n",
       "      <td>...</td>\n",
       "    </tr>\n",
       "    <tr>\n",
       "      <th>1231951</th>\n",
       "      <td>Weston County, WY - Aug, 2011</td>\n",
       "      <td>Weston County, WY</td>\n",
       "      <td>56045</td>\n",
       "      <td>Aug, 2011</td>\n",
       "      <td>2011/08</td>\n",
       "      <td>88.68</td>\n",
       "      <td>69.0</td>\n",
       "      <td>99.4</td>\n",
       "      <td>Weston County, WY</td>\n",
       "      <td>56045</td>\n",
       "      <td>Aug, 2011</td>\n",
       "      <td>2011/08</td>\n",
       "      <td>1.03</td>\n",
       "      <td>0.0</td>\n",
       "      <td>32.9</td>\n",
       "    </tr>\n",
       "    <tr>\n",
       "      <th>1231952</th>\n",
       "      <td>Weston County, WY - Sep, 2011</td>\n",
       "      <td>Weston County, WY</td>\n",
       "      <td>56045</td>\n",
       "      <td>Sep, 2011</td>\n",
       "      <td>2011/09</td>\n",
       "      <td>76.75</td>\n",
       "      <td>45.0</td>\n",
       "      <td>94.0</td>\n",
       "      <td>Weston County, WY</td>\n",
       "      <td>56045</td>\n",
       "      <td>Sep, 2011</td>\n",
       "      <td>2011/09</td>\n",
       "      <td>0.56</td>\n",
       "      <td>0.0</td>\n",
       "      <td>16.3</td>\n",
       "    </tr>\n",
       "    <tr>\n",
       "      <th>1231953</th>\n",
       "      <td>Weston County, WY - Oct, 2011</td>\n",
       "      <td>Weston County, WY</td>\n",
       "      <td>56045</td>\n",
       "      <td>Oct, 2011</td>\n",
       "      <td>2011/10</td>\n",
       "      <td>61.91</td>\n",
       "      <td>33.2</td>\n",
       "      <td>88.7</td>\n",
       "      <td>Weston County, WY</td>\n",
       "      <td>56045</td>\n",
       "      <td>Oct, 2011</td>\n",
       "      <td>2011/10</td>\n",
       "      <td>0.89</td>\n",
       "      <td>0.0</td>\n",
       "      <td>16.3</td>\n",
       "    </tr>\n",
       "    <tr>\n",
       "      <th>1231954</th>\n",
       "      <td>Weston County, WY - Nov, 2011</td>\n",
       "      <td>Weston County, WY</td>\n",
       "      <td>56045</td>\n",
       "      <td>Nov, 2011</td>\n",
       "      <td>2011/11</td>\n",
       "      <td>42.87</td>\n",
       "      <td>17.5</td>\n",
       "      <td>60.0</td>\n",
       "      <td>Weston County, WY</td>\n",
       "      <td>56045</td>\n",
       "      <td>Nov, 2011</td>\n",
       "      <td>2011/11</td>\n",
       "      <td>0.36</td>\n",
       "      <td>0.0</td>\n",
       "      <td>12.1</td>\n",
       "    </tr>\n",
       "    <tr>\n",
       "      <th>1231955</th>\n",
       "      <td>Weston County, WY - Dec, 2011</td>\n",
       "      <td>Weston County, WY</td>\n",
       "      <td>56045</td>\n",
       "      <td>Dec, 2011</td>\n",
       "      <td>2011/12</td>\n",
       "      <td>33.56</td>\n",
       "      <td>5.8</td>\n",
       "      <td>52.3</td>\n",
       "      <td>Weston County, WY</td>\n",
       "      <td>56045</td>\n",
       "      <td>Dec, 2011</td>\n",
       "      <td>2011/12</td>\n",
       "      <td>0.17</td>\n",
       "      <td>0.0</td>\n",
       "      <td>5.7</td>\n",
       "    </tr>\n",
       "  </tbody>\n",
       "</table>\n",
       "<p>1231956 rows × 15 columns</p>\n",
       "</div>"
      ],
      "text/plain": [
       "                                    UID            County_x County Code_x  \\\n",
       "0        Autauga County, AL - Jan, 1979  Autauga County, AL         01001   \n",
       "1        Autauga County, AL - Feb, 1979  Autauga County, AL         01001   \n",
       "2        Autauga County, AL - Mar, 1979  Autauga County, AL         01001   \n",
       "3        Autauga County, AL - Apr, 1979  Autauga County, AL         01001   \n",
       "4        Autauga County, AL - May, 1979  Autauga County, AL         01001   \n",
       "...                                 ...                 ...           ...   \n",
       "1231951   Weston County, WY - Aug, 2011   Weston County, WY         56045   \n",
       "1231952   Weston County, WY - Sep, 2011   Weston County, WY         56045   \n",
       "1231953   Weston County, WY - Oct, 2011   Weston County, WY         56045   \n",
       "1231954   Weston County, WY - Nov, 2011   Weston County, WY         56045   \n",
       "1231955   Weston County, WY - Dec, 2011   Weston County, WY         56045   \n",
       "\n",
       "        Month, Year_x Month, Year Code_x  avg_dailyMaxAirTemp_F  \\\n",
       "0           Jan, 1979            1979/01                  48.44   \n",
       "1           Feb, 1979            1979/02                  54.11   \n",
       "2           Mar, 1979            1979/03                  65.65   \n",
       "3           Apr, 1979            1979/04                  72.90   \n",
       "4           May, 1979            1979/05                  78.77   \n",
       "...               ...                ...                    ...   \n",
       "1231951     Aug, 2011            2011/08                  88.68   \n",
       "1231952     Sep, 2011            2011/09                  76.75   \n",
       "1231953     Oct, 2011            2011/10                  61.91   \n",
       "1231954     Nov, 2011            2011/11                  42.87   \n",
       "1231955     Dec, 2011            2011/12                  33.56   \n",
       "\n",
       "         min_dailyMaxAirTemp_F  max_dailyMaxAirTemp_F            County_y  \\\n",
       "0                         29.9                   67.1  Autauga County, AL   \n",
       "1                         33.5                   74.6  Autauga County, AL   \n",
       "2                         47.4                   78.1  Autauga County, AL   \n",
       "3                         62.0                   82.7  Autauga County, AL   \n",
       "4                         66.3                   84.5  Autauga County, AL   \n",
       "...                        ...                    ...                 ...   \n",
       "1231951                   69.0                   99.4   Weston County, WY   \n",
       "1231952                   45.0                   94.0   Weston County, WY   \n",
       "1231953                   33.2                   88.7   Weston County, WY   \n",
       "1231954                   17.5                   60.0   Weston County, WY   \n",
       "1231955                    5.8                   52.3   Weston County, WY   \n",
       "\n",
       "        County Code_y Month, Year_y Month, Year Code_y  avg_daily_precip_mm  \\\n",
       "0               01001     Jan, 1979            1979/01                 5.59   \n",
       "1               01001     Feb, 1979            1979/02                 5.33   \n",
       "2               01001     Mar, 1979            1979/03                 5.72   \n",
       "3               01001     Apr, 1979            1979/04                11.14   \n",
       "4               01001     May, 1979            1979/05                 3.45   \n",
       "...               ...           ...                ...                  ...   \n",
       "1231951         56045     Aug, 2011            2011/08                 1.03   \n",
       "1231952         56045     Sep, 2011            2011/09                 0.56   \n",
       "1231953         56045     Oct, 2011            2011/10                 0.89   \n",
       "1231954         56045     Nov, 2011            2011/11                 0.36   \n",
       "1231955         56045     Dec, 2011            2011/12                 0.17   \n",
       "\n",
       "         min_daily_precip_mm  max_daily_precip_mm  \n",
       "0                        0.0                 52.6  \n",
       "1                        0.0                 34.8  \n",
       "2                        0.0                124.0  \n",
       "3                        0.0                 93.7  \n",
       "4                        0.0                 27.2  \n",
       "...                      ...                  ...  \n",
       "1231951                  0.0                 32.9  \n",
       "1231952                  0.0                 16.3  \n",
       "1231953                  0.0                 16.3  \n",
       "1231954                  0.0                 12.1  \n",
       "1231955                  0.0                  5.7  \n",
       "\n",
       "[1231956 rows x 15 columns]"
      ]
     },
     "execution_count": 62,
     "metadata": {},
     "output_type": "execute_result"
    }
   ],
   "source": [
    "precip_airTemp"
   ]
  },
  {
   "cell_type": "code",
   "execution_count": 63,
   "id": "66d78aaf-2e11-4da0-aa0a-73809a3937b0",
   "metadata": {},
   "outputs": [],
   "source": [
    "precip_airTemp['state_abbrv'] = [i[-2:] for i in precip_airTemp['County_x']]"
   ]
  },
  {
   "cell_type": "code",
   "execution_count": 65,
   "id": "751242ea-e806-478d-8337-035e80103e6b",
   "metadata": {},
   "outputs": [
    {
     "data": {
      "text/html": [
       "<div>\n",
       "<style scoped>\n",
       "    .dataframe tbody tr th:only-of-type {\n",
       "        vertical-align: middle;\n",
       "    }\n",
       "\n",
       "    .dataframe tbody tr th {\n",
       "        vertical-align: top;\n",
       "    }\n",
       "\n",
       "    .dataframe thead th {\n",
       "        text-align: right;\n",
       "    }\n",
       "</style>\n",
       "<table border=\"1\" class=\"dataframe\">\n",
       "  <thead>\n",
       "    <tr style=\"text-align: right;\">\n",
       "      <th></th>\n",
       "      <th>UID</th>\n",
       "      <th>County_x</th>\n",
       "      <th>County Code_x</th>\n",
       "      <th>Month, Year_x</th>\n",
       "      <th>Month, Year Code_x</th>\n",
       "      <th>avg_dailyMaxAirTemp_F</th>\n",
       "      <th>min_dailyMaxAirTemp_F</th>\n",
       "      <th>max_dailyMaxAirTemp_F</th>\n",
       "      <th>County_y</th>\n",
       "      <th>County Code_y</th>\n",
       "      <th>Month, Year_y</th>\n",
       "      <th>Month, Year Code_y</th>\n",
       "      <th>avg_daily_precip_mm</th>\n",
       "      <th>min_daily_precip_mm</th>\n",
       "      <th>max_daily_precip_mm</th>\n",
       "      <th>state_abbrv</th>\n",
       "    </tr>\n",
       "  </thead>\n",
       "  <tbody>\n",
       "    <tr>\n",
       "      <th>0</th>\n",
       "      <td>Autauga County, AL - Jan, 1979</td>\n",
       "      <td>Autauga County, AL</td>\n",
       "      <td>01001</td>\n",
       "      <td>Jan, 1979</td>\n",
       "      <td>1979/01</td>\n",
       "      <td>48.44</td>\n",
       "      <td>29.9</td>\n",
       "      <td>67.1</td>\n",
       "      <td>Autauga County, AL</td>\n",
       "      <td>01001</td>\n",
       "      <td>Jan, 1979</td>\n",
       "      <td>1979/01</td>\n",
       "      <td>5.59</td>\n",
       "      <td>0.0</td>\n",
       "      <td>52.6</td>\n",
       "      <td>AL</td>\n",
       "    </tr>\n",
       "    <tr>\n",
       "      <th>1</th>\n",
       "      <td>Autauga County, AL - Feb, 1979</td>\n",
       "      <td>Autauga County, AL</td>\n",
       "      <td>01001</td>\n",
       "      <td>Feb, 1979</td>\n",
       "      <td>1979/02</td>\n",
       "      <td>54.11</td>\n",
       "      <td>33.5</td>\n",
       "      <td>74.6</td>\n",
       "      <td>Autauga County, AL</td>\n",
       "      <td>01001</td>\n",
       "      <td>Feb, 1979</td>\n",
       "      <td>1979/02</td>\n",
       "      <td>5.33</td>\n",
       "      <td>0.0</td>\n",
       "      <td>34.8</td>\n",
       "      <td>AL</td>\n",
       "    </tr>\n",
       "  </tbody>\n",
       "</table>\n",
       "</div>"
      ],
      "text/plain": [
       "                              UID            County_x County Code_x  \\\n",
       "0  Autauga County, AL - Jan, 1979  Autauga County, AL         01001   \n",
       "1  Autauga County, AL - Feb, 1979  Autauga County, AL         01001   \n",
       "\n",
       "  Month, Year_x Month, Year Code_x  avg_dailyMaxAirTemp_F  \\\n",
       "0     Jan, 1979            1979/01                  48.44   \n",
       "1     Feb, 1979            1979/02                  54.11   \n",
       "\n",
       "   min_dailyMaxAirTemp_F  max_dailyMaxAirTemp_F            County_y  \\\n",
       "0                   29.9                   67.1  Autauga County, AL   \n",
       "1                   33.5                   74.6  Autauga County, AL   \n",
       "\n",
       "  County Code_y Month, Year_y Month, Year Code_y  avg_daily_precip_mm  \\\n",
       "0         01001     Jan, 1979            1979/01                 5.59   \n",
       "1         01001     Feb, 1979            1979/02                 5.33   \n",
       "\n",
       "   min_daily_precip_mm  max_daily_precip_mm state_abbrv  \n",
       "0                  0.0                 52.6          AL  \n",
       "1                  0.0                 34.8          AL  "
      ]
     },
     "execution_count": 65,
     "metadata": {},
     "output_type": "execute_result"
    }
   ],
   "source": [
    "precip_airTemp.head(2)"
   ]
  },
  {
   "cell_type": "code",
   "execution_count": 66,
   "id": "5438ef60-552b-4080-ab3d-53d2834e5a0c",
   "metadata": {},
   "outputs": [],
   "source": [
    "precip_airTemp.drop(columns=['UID','County_y', 'County Code_y', 'Month, Year_y', 'Month, Year Code_y'], inplace=True)"
   ]
  },
  {
   "cell_type": "code",
   "execution_count": 67,
   "id": "49b13650-0054-4885-9cd2-113b84f33af6",
   "metadata": {},
   "outputs": [],
   "source": [
    "precip_airTemp.rename(columns={'County_x': 'county_name', 'County Code_x': 'FIPS', 'Month, Year_x': 'month_year_long', 'Month, Year Code_x': 'month_year_short'}, inplace=True)"
   ]
  },
  {
   "cell_type": "code",
   "execution_count": 68,
   "id": "3e0f77af-3b48-4fdf-be14-d7000496b227",
   "metadata": {},
   "outputs": [],
   "source": [
    "precip_airTemp['state_abbrv'] = precip_airTemp['state_abbrv'].astype('category')"
   ]
  },
  {
   "cell_type": "code",
   "execution_count": 69,
   "id": "dac674c6-3aae-46fb-a457-fe2cd1cc19b9",
   "metadata": {},
   "outputs": [],
   "source": [
    "# creating a Unique Identifier to join later with other climate dfs\n",
    "final_compression_opts = dict(method='zip',\n",
    "                        archive_name='cprecip_airTemp_1979_2011.csv')\n",
    "\n",
    "precip_airTemp.to_csv('./data/01_climate_data/01_climate_data_CLEAN/precip_airTemp_wFIPS_1979_2011.zip', compression=final_compression_opts)"
   ]
  },
  {
   "cell_type": "code",
   "execution_count": 70,
   "id": "5f624df9-c18a-4e5e-9188-4e2798f196fd",
   "metadata": {},
   "outputs": [
    {
     "data": {
      "text/plain": [
       "80.723906"
      ]
     },
     "execution_count": 70,
     "metadata": {},
     "output_type": "execute_result"
    }
   ],
   "source": [
    "precip_airTemp.memory_usage(deep=True).sum() / 1_000_000"
   ]
  },
  {
   "cell_type": "code",
   "execution_count": 73,
   "id": "762f3b72-da59-4c31-aac9-b46010dbb747",
   "metadata": {},
   "outputs": [
    {
     "data": {
      "text/plain": [
       "254"
      ]
     },
     "execution_count": 73,
     "metadata": {},
     "output_type": "execute_result"
    }
   ],
   "source": [
    "len(precip_airTemp[precip_airTemp['state_abbrv'] == 'TX']['FIPS'].unique())"
   ]
  },
  {
   "cell_type": "code",
   "execution_count": null,
   "id": "cb32d600-474e-4d01-8ca0-211cb3b439ea",
   "metadata": {},
   "outputs": [],
   "source": [
    "combined_df"
   ]
  },
  {
   "cell_type": "code",
   "execution_count": null,
   "id": "bc37a4a8-1ad6-489e-8dd9-6f60b3833197",
   "metadata": {},
   "outputs": [],
   "source": [
    "combined_df.memory_usage(deep=True) / 1_000_000"
   ]
  },
  {
   "cell_type": "markdown",
   "id": "bd5a2d5c-ddb4-4c64-a9cd-bfd5977a6807",
   "metadata": {},
   "source": [
    "# Reading in Marcus' Health Data\n",
    "\n",
    "tricky, but I think I can do it"
   ]
  },
  {
   "cell_type": "code",
   "execution_count": 47,
   "id": "b21db998-d3bb-4184-b6b9-b759bdd581cc",
   "metadata": {},
   "outputs": [],
   "source": [
    "cvd_files = os.listdir('./data/03_health_data/IHME_USA_COUNTY_CVD_MORTALITY_RATES_1980_2014/')\n",
    "inf_files = os.listdir('./data/03_health_data/IHME_USA_COUNTY_INFECT_DIS_MORT_1980_2014/')\n",
    "resp_files = os.listdir('./data/03_health_data/IHME_USA_COUNTY_RESP_DISEASE_MORTALITY_1980_2014/')\n",
    "cancer_files = os.listdir('./data/03_health_data/HME_USA_COUNTY_CANCER_MORTALITY_RATES_1980_2014/')\n",
    "substance_injury_files = os.listdir('./data/03_health_data/IHME_USA_COUNTY_USE_INJ_MORTALITY_1980_2014/')\n",
    "\n",
    "#obesity_files = os.listdir('./data/IHME_USA_OBESITY_PHYSICAL_ACTIVITY_2001_2011.csv')\n",
    "cvd_files.remove('.ipynb_checkpoints')\n",
    "inf_files.remove('.ipynb_checkpoints')\n",
    "#resp_files.remove('.ipynb_checkpoints')\n",
    "#cancer_files.remove('.ipynb_checkpoints')\n",
    "#substance_injury_files.remove('.ipynb_checkpoints')"
   ]
  },
  {
   "cell_type": "code",
   "execution_count": null,
   "id": "cf485625-b17b-4d60-92d5-e7e6636c32da",
   "metadata": {
    "tags": []
   },
   "outputs": [],
   "source": [
    "substance_injury_files"
   ]
  },
  {
   "cell_type": "code",
   "execution_count": null,
   "id": "fb537567-7394-4ca7-aec8-0b4fca7d5fb1",
   "metadata": {},
   "outputs": [],
   "source": [
    "# states = []\n",
    "# for file in cvd_files:\n",
    "#     state = file.split('_')[-2]\n",
    "#     states.append(state.title())"
   ]
  },
  {
   "cell_type": "code",
   "execution_count": null,
   "id": "79299fa7-d4ab-4bdc-a27c-e298fcf1f8e9",
   "metadata": {},
   "outputs": [],
   "source": [
    "# # test a workflow for cleaning on state's file\n",
    "# filename = 'IHME_USA_COUNTY_CVD_MORTALITY_RATES_1980_2014_' + states[10].upper() + '_Y2017M05D16.CSV'\n",
    "# filepath = './data/IHME_USA_COUNTY_CVD_MORTALITY_RATES_1980_2014/' + filename\n",
    "# #print(filepath)\n",
    "# test = pd.read_csv(filepath)\n",
    "# test = test[test['location_name'] != states[10]]\n",
    "\n",
    "# test[['FIPS', 'cause_id', 'sex_id', 'year_id']] = test[['FIPS', 'cause_id', 'sex_id', 'year_id']].astype('string')\n",
    "# test['UID'] = test['FIPS'] + '-' + test['cause_id'] + '-' + test['sex_id'] + '-' + test['year_id']"
   ]
  },
  {
   "cell_type": "code",
   "execution_count": 48,
   "id": "e4729909-87fa-432b-8c43-862f00f1b42b",
   "metadata": {},
   "outputs": [],
   "source": [
    "# universal function to process data in all folders\n",
    "def process_health_data(file):\n",
    "    state = file.split('_')[-2].title()\n",
    "    stat_type = file.split('_')[3]\n",
    "    \n",
    "    #set filepath based on stat_type\n",
    "    if stat_type == 'CVD':\n",
    "        folder = './data/03_health_data/IHME_USA_COUNTY_CVD_MORTALITY_RATES_1980_2014/'\n",
    "    elif stat_type == 'INFECT':\n",
    "        folder = './data/03_health_data/IHME_USA_COUNTY_INFECT_DIS_MORT_1980_2014/'\n",
    "    elif stat_type == 'RESP':\n",
    "        folder = './data/03_health_data/IHME_USA_COUNTY_RESP_DISEASE_MORTALITY_1980_2014/'\n",
    "    elif stat_type == 'CANCER':\n",
    "        folder = './data/03_health_data/HME_USA_COUNTY_CANCER_MORTALITY_RATES_1980_2014/'\n",
    "    elif stat_type == 'USE':\n",
    "        folder = './data/03_health_data/IHME_USA_COUNTY_USE_INJ_MORTALITY_1980_2014/'\n",
    "    full_path = folder + file\n",
    "    #print(full_path)\n",
    "    \n",
    "    #read in csv\n",
    "    df = pd.read_csv(full_path)\n",
    "    # drop rows that are sums of whole state\n",
    "    df = df[df['location_name'] != state]\n",
    "    \n",
    "    #recase cols to save memory and so we can create a UID later\n",
    "    # UID is formatted: 'FIPS-cause_id-sex_id-year_id'\n",
    "    df[['FIPS', 'cause_id', 'sex_id', 'year_id']] = df[['FIPS', 'cause_id', 'sex_id', 'year_id']].astype('string')\n",
    "    df['UID'] = df['FIPS'] + '-' + df['cause_id'] + '-' + df['sex_id'] + '-' + df['year_id']\n",
    "    \n",
    "    #recast variables as category for file size handling\n",
    "    #df[['location_name', 'FIPS', 'cause_id', 'cause_name', 'sex_id', 'sex', 'year_id', 'UID']] = df[['location_name', 'FIPS', 'cause_id', 'cause_name', 'sex_id', 'sex', 'year_id', 'UID']].astype('category')\n",
    "    \n",
    "    return df"
   ]
  },
  {
   "cell_type": "code",
   "execution_count": 91,
   "id": "689b3c16-1aeb-4840-9799-baa1ca04c234",
   "metadata": {},
   "outputs": [
    {
     "name": "stdout",
     "output_type": "stream",
     "text": [
      "<class 'pandas.core.frame.DataFrame'>\n",
      "Int64Index: 278390 entries, 105 to 281784\n",
      "Data columns (total 12 columns):\n",
      " #   Column         Non-Null Count   Dtype   \n",
      "---  ------         --------------   -----   \n",
      " 0   location_id    278390 non-null  int64   \n",
      " 1   location_name  278390 non-null  category\n",
      " 2   FIPS           278390 non-null  category\n",
      " 3   cause_id       278390 non-null  category\n",
      " 4   cause_name     278390 non-null  category\n",
      " 5   sex_id         278390 non-null  category\n",
      " 6   sex            278390 non-null  category\n",
      " 7   year_id        278390 non-null  category\n",
      " 8   mx             278390 non-null  float64 \n",
      " 9   upper          278390 non-null  float64 \n",
      " 10  lower          278390 non-null  float64 \n",
      " 11  UID            278390 non-null  category\n",
      "dtypes: category(8), float64(3), int64(1)\n",
      "memory usage: 23.7 MB\n"
     ]
    }
   ],
   "source": [
    "process_health_data(cancer_files[3]).info()"
   ]
  },
  {
   "cell_type": "code",
   "execution_count": 139,
   "id": "b2adaa97-9950-475b-9535-cecec1c87a09",
   "metadata": {
    "tags": []
   },
   "outputs": [],
   "source": [
    "# process cardiovascular mortality data\n",
    "full_cvd_df = [process_health_data(file) for file in cvd_files]\n",
    "full_cvd_df = pd.concat(full_cvd_df)\n",
    "\n",
    "#recast variables as category for file size handling\n",
    "full_cvd_df[['location_name', 'FIPS', 'cause_id', 'cause_name', 'sex_id', 'sex', 'year_id', 'UID']] = full_cvd_df[['location_name', 'FIPS', 'cause_id', 'cause_name', 'sex_id', 'sex', 'year_id', 'UID']].astype('category')\n",
    "\n",
    "# full_cvd_df_1980 = full_cvd_df[full_cvd_df['year_id'] == '1980']\n",
    "# full_cvd_df_1980[:50]"
   ]
  },
  {
   "cell_type": "code",
   "execution_count": 140,
   "id": "11a4ddc4-c0d9-4894-bed8-893fb17b697f",
   "metadata": {},
   "outputs": [
    {
     "data": {
      "text/html": [
       "<div>\n",
       "<style scoped>\n",
       "    .dataframe tbody tr th:only-of-type {\n",
       "        vertical-align: middle;\n",
       "    }\n",
       "\n",
       "    .dataframe tbody tr th {\n",
       "        vertical-align: top;\n",
       "    }\n",
       "\n",
       "    .dataframe thead th {\n",
       "        text-align: right;\n",
       "    }\n",
       "</style>\n",
       "<table border=\"1\" class=\"dataframe\">\n",
       "  <thead>\n",
       "    <tr style=\"text-align: right;\">\n",
       "      <th></th>\n",
       "      <th>measure_id</th>\n",
       "      <th>measure_name</th>\n",
       "      <th>location_id</th>\n",
       "      <th>location_name</th>\n",
       "      <th>FIPS</th>\n",
       "      <th>cause_id</th>\n",
       "      <th>cause_name</th>\n",
       "      <th>sex_id</th>\n",
       "      <th>sex</th>\n",
       "      <th>age_id</th>\n",
       "      <th>age_name</th>\n",
       "      <th>year_id</th>\n",
       "      <th>metric</th>\n",
       "      <th>mx</th>\n",
       "      <th>upper</th>\n",
       "      <th>lower</th>\n",
       "      <th>UID</th>\n",
       "    </tr>\n",
       "  </thead>\n",
       "  <tbody>\n",
       "    <tr>\n",
       "      <th>105</th>\n",
       "      <td>1</td>\n",
       "      <td>Deaths</td>\n",
       "      <td>2222</td>\n",
       "      <td>Beaverhead County</td>\n",
       "      <td>30001</td>\n",
       "      <td>491</td>\n",
       "      <td>Cardiovascular diseases</td>\n",
       "      <td>1</td>\n",
       "      <td>Male</td>\n",
       "      <td>27</td>\n",
       "      <td>Age-standardized</td>\n",
       "      <td>1980</td>\n",
       "      <td>Rate</td>\n",
       "      <td>629.352118</td>\n",
       "      <td>704.298390</td>\n",
       "      <td>562.459255</td>\n",
       "      <td>30001-491-1-1980</td>\n",
       "    </tr>\n",
       "    <tr>\n",
       "      <th>106</th>\n",
       "      <td>1</td>\n",
       "      <td>Deaths</td>\n",
       "      <td>2222</td>\n",
       "      <td>Beaverhead County</td>\n",
       "      <td>30001</td>\n",
       "      <td>491</td>\n",
       "      <td>Cardiovascular diseases</td>\n",
       "      <td>1</td>\n",
       "      <td>Male</td>\n",
       "      <td>27</td>\n",
       "      <td>Age-standardized</td>\n",
       "      <td>1981</td>\n",
       "      <td>Rate</td>\n",
       "      <td>622.091399</td>\n",
       "      <td>692.320932</td>\n",
       "      <td>562.103676</td>\n",
       "      <td>30001-491-1-1981</td>\n",
       "    </tr>\n",
       "    <tr>\n",
       "      <th>107</th>\n",
       "      <td>1</td>\n",
       "      <td>Deaths</td>\n",
       "      <td>2222</td>\n",
       "      <td>Beaverhead County</td>\n",
       "      <td>30001</td>\n",
       "      <td>491</td>\n",
       "      <td>Cardiovascular diseases</td>\n",
       "      <td>1</td>\n",
       "      <td>Male</td>\n",
       "      <td>27</td>\n",
       "      <td>Age-standardized</td>\n",
       "      <td>1982</td>\n",
       "      <td>Rate</td>\n",
       "      <td>590.455653</td>\n",
       "      <td>653.424627</td>\n",
       "      <td>533.480891</td>\n",
       "      <td>30001-491-1-1982</td>\n",
       "    </tr>\n",
       "  </tbody>\n",
       "</table>\n",
       "</div>"
      ],
      "text/plain": [
       "     measure_id measure_name  location_id      location_name   FIPS cause_id  \\\n",
       "105           1       Deaths         2222  Beaverhead County  30001      491   \n",
       "106           1       Deaths         2222  Beaverhead County  30001      491   \n",
       "107           1       Deaths         2222  Beaverhead County  30001      491   \n",
       "\n",
       "                  cause_name sex_id   sex  age_id          age_name year_id  \\\n",
       "105  Cardiovascular diseases      1  Male      27  Age-standardized    1980   \n",
       "106  Cardiovascular diseases      1  Male      27  Age-standardized    1981   \n",
       "107  Cardiovascular diseases      1  Male      27  Age-standardized    1982   \n",
       "\n",
       "    metric          mx       upper       lower               UID  \n",
       "105   Rate  629.352118  704.298390  562.459255  30001-491-1-1980  \n",
       "106   Rate  622.091399  692.320932  562.103676  30001-491-1-1981  \n",
       "107   Rate  590.455653  653.424627  533.480891  30001-491-1-1982  "
      ]
     },
     "execution_count": 140,
     "metadata": {},
     "output_type": "execute_result"
    }
   ],
   "source": [
    "full_cvd_df.head(3)"
   ]
  },
  {
   "cell_type": "code",
   "execution_count": 141,
   "id": "fa03ae05-7d5b-4fe6-9d65-6a75b8766643",
   "metadata": {},
   "outputs": [
    {
     "data": {
      "text/plain": [
       "{'491': 'Cardiovascular diseases',\n",
       " '492': 'Rheumatic heart disease',\n",
       " '493': 'Ischemic heart disease',\n",
       " '494': 'Cerebrovascular disease',\n",
       " '495': 'Ischemic stroke',\n",
       " '496': 'Hemorrhagic stroke',\n",
       " '498': 'Hypertensive heart disease',\n",
       " '499': 'Cardiomyopathy and myocarditis',\n",
       " '500': 'Atrial fibrillation and flutter',\n",
       " '501': 'Aortic aneurysm',\n",
       " '502': 'Peripheral vascular disease',\n",
       " '503': 'Endocarditis',\n",
       " '507': 'Other cardiovascular and circulatory diseases'}"
      ]
     },
     "execution_count": 141,
     "metadata": {},
     "output_type": "execute_result"
    }
   ],
   "source": [
    "# get cvd cause ids\n",
    "cvd_cause_ids = list(full_cvd_df['cause_id'].unique())\n",
    "cvd_cause_names = list(full_cvd_df['cause_name'].unique())\n",
    "cvd_causes= {cvd_cause_ids[i]: cvd_cause_names[i] for i in range(len(cvd_cause_ids))}\n",
    "cvd_causes"
   ]
  },
  {
   "cell_type": "code",
   "execution_count": 130,
   "id": "85cc3be7-0fe3-4bb3-b18b-5ad67b5bdb6b",
   "metadata": {},
   "outputs": [],
   "source": [
    "#full_cvd_df = full_cvd_df[full_cvd_df['sex'] == 'Both']"
   ]
  },
  {
   "cell_type": "code",
   "execution_count": 142,
   "id": "1fc0d06c-da3e-47fd-8216-2b45971abcaf",
   "metadata": {},
   "outputs": [],
   "source": [
    "full_cvd_df.drop(columns=['measure_id', 'location_id', 'measure_name', 'age_name', 'metric', 'UID', 'age_id', 'upper', 'lower', 'sex_id'], inplace=True)"
   ]
  },
  {
   "cell_type": "code",
   "execution_count": 143,
   "id": "8228e4de-eb31-4606-b274-ffd43465d756",
   "metadata": {},
   "outputs": [
    {
     "name": "stdout",
     "output_type": "stream",
     "text": [
      "<class 'pandas.core.frame.DataFrame'>\n",
      "Int64Index: 4290195 entries, 105 to 121484\n",
      "Data columns (total 7 columns):\n",
      " #   Column         Dtype   \n",
      "---  ------         -----   \n",
      " 0   location_name  category\n",
      " 1   FIPS           category\n",
      " 2   cause_id       category\n",
      " 3   cause_name     category\n",
      " 4   sex            category\n",
      " 5   year_id        category\n",
      " 6   mx             float64 \n",
      "dtypes: category(6), float64(1)\n",
      "memory usage: 98.4 MB\n"
     ]
    }
   ],
   "source": [
    "full_cvd_df.info()"
   ]
  },
  {
   "cell_type": "code",
   "execution_count": 261,
   "id": "a288c086-a9a9-4c9b-853e-79b80ceae712",
   "metadata": {},
   "outputs": [
    {
     "data": {
      "text/plain": [
       "['30001', '30003', '30005', '30007', '30009', ..., '39167', '39169', '39171', '39173', '39175']\n",
       "Length: 3143\n",
       "Categories (3143, object): ['10001', '10003', '10005', '1001', ..., '9009', '9011', '9013', '9015']"
      ]
     },
     "execution_count": 261,
     "metadata": {},
     "output_type": "execute_result"
    }
   ],
   "source": [
    "full_cvd_df['FIPS'].unique()"
   ]
  },
  {
   "cell_type": "code",
   "execution_count": 263,
   "id": "cb08ed23-9e54-435d-ada1-e5a0581c2f4a",
   "metadata": {},
   "outputs": [
    {
     "data": {
      "text/plain": [
       "Index            34.321560\n",
       "location_name     8.780426\n",
       "FIPS              8.841025\n",
       "cause_id          4.291531\n",
       "cause_name        4.291802\n",
       "sex               4.290488\n",
       "year_id           4.293402\n",
       "mx               34.321560\n",
       "dtype: float64"
      ]
     },
     "execution_count": 263,
     "metadata": {},
     "output_type": "execute_result"
    }
   ],
   "source": [
    "full_cvd_df.memory_usage(deep=True) / 1_000_000 #get mb"
   ]
  },
  {
   "cell_type": "code",
   "execution_count": 146,
   "id": "081a34e8-b0c4-4af7-bc58-cdcf14de2ca8",
   "metadata": {},
   "outputs": [],
   "source": [
    "# creating a Unique Identifier to join later with other climate dfs\n",
    "cvd_df_compression_opts = dict(method='zip',\n",
    "                        archive_name='full_cvd_df.csv')\n",
    "\n",
    "full_cvd_df.to_csv('./data/03_health_data/01_health_data_CLEAN/cvd_mortality.zip', compression=cvd_df_compression_opts)"
   ]
  },
  {
   "cell_type": "code",
   "execution_count": 72,
   "id": "277b1e6d-6137-4276-b675-2ead1b5ccf15",
   "metadata": {},
   "outputs": [],
   "source": [
    "# process infectious disease mortality data\n",
    "full_inf_df = [process_health_data(file) for file in inf_files]\n",
    "full_inf_df = pd.concat(full_inf_df)"
   ]
  },
  {
   "cell_type": "code",
   "execution_count": 76,
   "id": "2b79fe51-2b16-44a1-9e49-197acc0c0ec5",
   "metadata": {},
   "outputs": [
    {
     "data": {
      "text/plain": [
       "{'297': 'Tuberculosis',\n",
       " '298': 'HIV/AIDS',\n",
       " '302': 'Diarrheal diseases',\n",
       " '322': 'Lower respiratory infections',\n",
       " '332': 'Meningitis',\n",
       " '400': 'Hepatitis'}"
      ]
     },
     "execution_count": 76,
     "metadata": {},
     "output_type": "execute_result"
    }
   ],
   "source": [
    "inf_cause_ids = list(full_inf_df['cause_id'].unique())\n",
    "inf_cause_names = list(full_inf_df['cause_name'].unique())\n",
    "inf_causes = {inf_cause_ids[i]: inf_cause_names[i] for i in range(len(inf_cause_ids))}\n",
    "inf_causes"
   ]
  },
  {
   "cell_type": "code",
   "execution_count": 78,
   "id": "895a9b2a-ae63-40e9-9cb6-5b7696154db9",
   "metadata": {},
   "outputs": [
    {
     "data": {
      "text/plain": [
       "Index             15.896160\n",
       "measure_id        15.896160\n",
       "measure_name     125.182260\n",
       "location_id       15.896160\n",
       "location_name    141.150240\n",
       "FIPS             122.956470\n",
       "cause_id           1.987552\n",
       "cause_name         1.987619\n",
       "sex_id             1.987302\n",
       "sex                1.987313\n",
       "age_id            15.896160\n",
       "age_name         145.052460\n",
       "year_id            1.990227\n",
       "metric           121.208220\n",
       "mx                15.896160\n",
       "lower             15.896160\n",
       "upper             15.896160\n",
       "UID              144.806760\n",
       "dtype: float64"
      ]
     },
     "execution_count": 78,
     "metadata": {},
     "output_type": "execute_result"
    }
   ],
   "source": [
    "full_inf_df.memory_usage(deep=True) / 1_000_000 #get mb"
   ]
  },
  {
   "cell_type": "code",
   "execution_count": 77,
   "id": "59454499-da0f-4011-84d9-80c036350234",
   "metadata": {},
   "outputs": [],
   "source": [
    "# process respiratory disease mortality data\n",
    "full_resp_df = [process_health_data(file) for file in resp_files]\n",
    "full_resp_df = pd.concat(full_resp_df)"
   ]
  },
  {
   "cell_type": "code",
   "execution_count": 90,
   "id": "3984149e-b336-44d6-ac77-4ad41ebe18c2",
   "metadata": {},
   "outputs": [
    {
     "name": "stdout",
     "output_type": "stream",
     "text": [
      "<class 'pandas.core.frame.DataFrame'>\n",
      "Int64Index: 3311700 entries, 105 to 108149\n",
      "Data columns (total 17 columns):\n",
      " #   Column         Dtype   \n",
      "---  ------         -----   \n",
      " 0   measure_id     int64   \n",
      " 1   measure_name   object  \n",
      " 2   location_id    int64   \n",
      " 3   location_name  object  \n",
      " 4   FIPS           object  \n",
      " 5   cause_id       category\n",
      " 6   cause_name     category\n",
      " 7   sex_id         category\n",
      " 8   sex            category\n",
      " 9   age_id         int64   \n",
      " 10  age_name       object  \n",
      " 11  year_id        category\n",
      " 12  metric         object  \n",
      " 13  mx             float64 \n",
      " 14  lower          float64 \n",
      " 15  upper          float64 \n",
      " 16  UID            object  \n",
      "dtypes: category(5), float64(3), int64(3), object(6)\n",
      "memory usage: 344.3+ MB\n"
     ]
    }
   ],
   "source": [
    "full_resp_df.info()"
   ]
  },
  {
   "cell_type": "code",
   "execution_count": 82,
   "id": "7909a136-c67b-41ac-a9c5-97dbf33eac2e",
   "metadata": {
    "tags": []
   },
   "outputs": [
    {
     "data": {
      "text/plain": [
       "{'508': 'Chronic respiratory diseases',\n",
       " '509': 'Chronic obstructive pulmonary disease',\n",
       " '510': 'Pneumoconiosis',\n",
       " '511': 'Silicosis',\n",
       " '512': 'Asbestosis',\n",
       " '513': 'Coal workers pneumoconiosis',\n",
       " '514': 'Other pneumoconiosis',\n",
       " '515': 'Asthma',\n",
       " '516': 'Interstitial lung disease and pulmonary sarcoidosis',\n",
       " '520': 'Other chronic respiratory diseases'}"
      ]
     },
     "execution_count": 82,
     "metadata": {},
     "output_type": "execute_result"
    }
   ],
   "source": [
    "resp_cause_ids = list(full_resp_df['cause_id'].unique())\n",
    "resp_cause_names = list(full_resp_df['cause_name'].unique())\n",
    "resp_causes = {resp_cause_ids[i]: resp_cause_names[i] for i in range(len(resp_cause_ids))}\n",
    "resp_causes"
   ]
  },
  {
   "cell_type": "code",
   "execution_count": 83,
   "id": "cd2d3f35-6809-4f39-b521-6c498765f0cf",
   "metadata": {},
   "outputs": [
    {
     "data": {
      "text/plain": [
       "Index             26.493600\n",
       "measure_id        26.493600\n",
       "measure_name     208.637100\n",
       "location_id       26.493600\n",
       "location_name    235.250400\n",
       "FIPS             204.927450\n",
       "cause_id           3.312600\n",
       "cause_name         3.312806\n",
       "sex_id             3.311982\n",
       "sex                3.311993\n",
       "age_id            26.493600\n",
       "age_name         241.754100\n",
       "year_id            3.314907\n",
       "metric           202.013700\n",
       "mx                26.493600\n",
       "lower             26.493600\n",
       "upper             26.493600\n",
       "UID              241.344600\n",
       "dtype: float64"
      ]
     },
     "execution_count": 83,
     "metadata": {},
     "output_type": "execute_result"
    }
   ],
   "source": [
    "full_resp_df.memory_usage(deep=True) / 1_000_000 #get mb"
   ]
  },
  {
   "cell_type": "code",
   "execution_count": 84,
   "id": "e3b812f7-6a26-4306-85a6-ff5f454bb0a7",
   "metadata": {},
   "outputs": [],
   "source": [
    "# process cancer mortality data\n",
    "full_cancer_df = [process_health_data(file) for file in cancer_files]\n",
    "full_cancer_df = pd.concat(full_cancer_df)"
   ]
  },
  {
   "cell_type": "code",
   "execution_count": 86,
   "id": "9713de7a-3e19-44a7-9c9a-dd168d71b5e5",
   "metadata": {},
   "outputs": [
    {
     "data": {
      "text/plain": [
       "{'410': 'Neoplasms',\n",
       " '444': 'Lip and oral cavity cancer',\n",
       " '447': 'Nasopharynx cancer',\n",
       " '450': 'Other pharynx cancer',\n",
       " '411': 'Esophageal cancer',\n",
       " '414': 'Stomach cancer',\n",
       " '441': 'Colon and rectum cancer',\n",
       " '417': 'Liver cancer',\n",
       " '453': 'Gallbladder and biliary tract cancer',\n",
       " '456': 'Pancreatic cancer',\n",
       " '423': 'Larynx cancer',\n",
       " '426': 'Tracheal, bronchus, and lung cancer',\n",
       " '459': 'Malignant skin melanoma',\n",
       " '462': 'Non-melanoma skin cancer',\n",
       " '429': 'Breast cancer',\n",
       " '432': 'Cervical cancer',\n",
       " '435': 'Uterine cancer',\n",
       " '465': 'Ovarian cancer',\n",
       " '438': 'Prostate cancer',\n",
       " '468': 'Testicular cancer',\n",
       " '471': 'Kidney cancer',\n",
       " '474': 'Bladder cancer',\n",
       " '477': 'Brain and nervous system cancer',\n",
       " '480': 'Thyroid cancer',\n",
       " '483': 'Mesothelioma',\n",
       " '484': 'Hodgkin lymphoma',\n",
       " '485': 'Non-Hodgkin lymphoma',\n",
       " '486': 'Multiple myeloma',\n",
       " '487': 'Leukemia',\n",
       " '845': 'Acute lymphoid leukemia',\n",
       " '846': 'Chronic lymphoid leukemia',\n",
       " '847': 'Acute myeloid leukemia',\n",
       " '848': 'Chronic myeloid leukemia',\n",
       " '488': 'Other neoplasms'}"
      ]
     },
     "execution_count": 86,
     "metadata": {},
     "output_type": "execute_result"
    }
   ],
   "source": [
    "cancer_cause_ids = list(full_cancer_df['cause_id'].unique())\n",
    "cancer_cause_names = list(full_cancer_df['cause_name'].unique())\n",
    "cancer_causes = {cancer_cause_ids[i]: cancer_cause_names[i] for i in range(len(cancer_cause_ids))}\n",
    "cancer_causes"
   ]
  },
  {
   "cell_type": "code",
   "execution_count": 89,
   "id": "f9e2f1ea-53f5-4f45-b42f-b552bf18c5ea",
   "metadata": {},
   "outputs": [
    {
     "name": "stdout",
     "output_type": "stream",
     "text": [
      "<class 'pandas.core.frame.DataFrame'>\n",
      "Int64Index: 10670485 entries, 105 to 410794\n",
      "Data columns (total 12 columns):\n",
      " #   Column         Dtype  \n",
      "---  ------         -----  \n",
      " 0   location_id    int64  \n",
      " 1   location_name  object \n",
      " 2   FIPS           object \n",
      " 3   cause_id       object \n",
      " 4   cause_name     object \n",
      " 5   sex_id         object \n",
      " 6   sex            object \n",
      " 7   year_id        object \n",
      " 8   mx             float64\n",
      " 9   upper          float64\n",
      " 10  lower          float64\n",
      " 11  UID            object \n",
      "dtypes: float64(3), int64(1), object(8)\n",
      "memory usage: 1.0+ GB\n"
     ]
    }
   ],
   "source": [
    "full_cancer_df[['location_name']]"
   ]
  },
  {
   "cell_type": "code",
   "execution_count": 87,
   "id": "2ed0ca8f-97ba-4fd6-971f-bf15657c3bb0",
   "metadata": {},
   "outputs": [
    {
     "data": {
      "text/plain": [
       "Index             85.363880\n",
       "location_id       85.363880\n",
       "location_name    758.069550\n",
       "FIPS             660.487065\n",
       "cause_id         640.229100\n",
       "cause_name       807.216690\n",
       "sex_id           618.888130\n",
       "sex              657.939905\n",
       "year_id          650.899585\n",
       "mx                85.363880\n",
       "upper             85.363880\n",
       "lower             85.363880\n",
       "UID              777.862400\n",
       "dtype: float64"
      ]
     },
     "execution_count": 87,
     "metadata": {},
     "output_type": "execute_result"
    }
   ],
   "source": [
    "full_cancer_df.memory_usage(deep=True) / 1_000_000 #get mb"
   ]
  },
  {
   "cell_type": "code",
   "execution_count": 88,
   "id": "8ed53efb-796d-4718-ae94-481123cf3ab4",
   "metadata": {},
   "outputs": [],
   "source": [
    "# process substance use / self injury mortality data\n",
    "full_substances_inj_df = [process_health_data(file) for file in substance_injury_files]\n",
    "full_substances_inj_df = pd.concat(full_substances_inj_df)"
   ]
  },
  {
   "cell_type": "code",
   "execution_count": null,
   "id": "bceaf4ac-edf0-4c11-8c1a-62e1dca9221c",
   "metadata": {},
   "outputs": [],
   "source": [
    "sub_inj_ids = list(full)"
   ]
  },
  {
   "cell_type": "code",
   "execution_count": 662,
   "id": "b2373867-ec54-465e-98f1-1795e5c183cf",
   "metadata": {},
   "outputs": [
    {
     "data": {
      "text/plain": [
       "Index            10.597440\n",
       "measure_id       10.597440\n",
       "measure_name     83.454840\n",
       "location_id      10.597440\n",
       "location_name    94.100160\n",
       "FIPS             81.970980\n",
       "cause_id          1.325092\n",
       "cause_name        1.325150\n",
       "sex_id            1.324962\n",
       "sex               1.324973\n",
       "age_id           10.597440\n",
       "age_name         96.701640\n",
       "year_id           1.327887\n",
       "metric           80.805480\n",
       "mx               10.597440\n",
       "lower            10.597440\n",
       "upper            10.597440\n",
       "UID              96.537840\n",
       "measure_ID       10.597440\n",
       "dtype: float64"
      ]
     },
     "execution_count": 662,
     "metadata": {},
     "output_type": "execute_result"
    }
   ],
   "source": [
    "full_substances_inj_df.memory_usage(deep=True) / 1_000_000 #get mb"
   ]
  },
  {
   "cell_type": "code",
   "execution_count": null,
   "id": "31652b97-c50e-42e8-be41-20ebb3a85d40",
   "metadata": {},
   "outputs": [],
   "source": []
  }
 ],
 "metadata": {
  "kernelspec": {
   "display_name": "Python 3",
   "language": "python",
   "name": "python3"
  },
  "language_info": {
   "codemirror_mode": {
    "name": "ipython",
    "version": 3
   },
   "file_extension": ".py",
   "mimetype": "text/x-python",
   "name": "python",
   "nbconvert_exporter": "python",
   "pygments_lexer": "ipython3",
   "version": "3.8.8"
  }
 },
 "nbformat": 4,
 "nbformat_minor": 5
}
