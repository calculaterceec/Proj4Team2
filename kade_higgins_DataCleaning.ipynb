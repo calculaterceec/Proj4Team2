{
 "cells": [
  {
   "cell_type": "markdown",
   "id": "02f072a0-0fec-4210-b79a-a930641adbf5",
   "metadata": {},
   "source": [
    "# Reading and Cleaning Climate Data"
   ]
  },
  {
   "cell_type": "code",
   "execution_count": 118,
   "id": "78246110-48e1-45ac-87dc-aa6a50ca5cc7",
   "metadata": {},
   "outputs": [],
   "source": [
    "import pandas as pd\n",
    "import numpy as np\n",
    "import matplotlib.pyplot as plt\n",
    "import seaborn as sns\n",
    "import os"
   ]
  },
  {
   "cell_type": "code",
   "execution_count": 3,
   "id": "0fbd5338-c9d9-4ac9-8b17-1e206e3fd5f9",
   "metadata": {},
   "outputs": [],
   "source": [
    "# cdc wonder Daily Air Temp by County (aggregated by month)\n",
    "# Jan 1, 1979 - Dec 31, 2011\n",
    "temp_df = pd.read_csv('data/climate_data/2011_AirTemp_byState.txt', delimiter=\"\\t\", header=0)\n",
    "particulateMatter_df = pd.read_csv('data/climate_data/2011_fineParticulateMatter_µgm3.txt', delimiter=\"\\t\", header=0)"
   ]
  },
  {
   "cell_type": "markdown",
   "id": "e8374b7c-6249-4d4f-90be-048d96bf3024",
   "metadata": {},
   "source": [
    "# Read in Temperature Data"
   ]
  },
  {
   "cell_type": "code",
   "execution_count": 409,
   "id": "1859e2b8-953f-49c8-bacc-581d6876632e",
   "metadata": {},
   "outputs": [],
   "source": [
    "temperature_files = os.listdir('./data/01_climate_data/monthlyAirTemp_byCounty_RAW/')\n",
    "temperature_files.remove('.ipynb_checkpoints')"
   ]
  },
  {
   "cell_type": "code",
   "execution_count": 410,
   "id": "f9725b88-50b0-4725-96e2-89480af224ff",
   "metadata": {},
   "outputs": [],
   "source": [
    "temp_1979_df = pd.read_csv('./data/01_climate_data/monthlyAirTemp_byCounty_RAW/dailyAirTemp_byCounty_1979.txt', delimiter='\\t', header=0)\n",
    "temp_1979_df = temp_1979_df[temp_1979_df['County'].isna() == False]\n",
    "temp_1979_df = temp_1979_df[temp_1979_df['Notes'] != 'Total']"
   ]
  },
  {
   "cell_type": "code",
   "execution_count": 411,
   "id": "5cd706e1-5dd1-4fbc-9fd5-839f400ecdf3",
   "metadata": {},
   "outputs": [
    {
     "data": {
      "text/plain": [
       "Index(['Notes', 'County', 'County Code', 'Month, Year', 'Month, Year Code',\n",
       "       'Avg Daily Max Air Temperature (F)',\n",
       "       'Record Count for Daily Max Air Temp (F)',\n",
       "       'Min Temp for Daily Max Air Temp (F)',\n",
       "       'Max Temp for Daily Max Air Temp (F)',\n",
       "       'Avg Daily Min Air Temperature (F)',\n",
       "       'Record Count for Daily Min Air Temp (F)',\n",
       "       'Min Temp for Daily Min Air Temp (F)',\n",
       "       'Max Temp for Daily Min Air Temp (F)', 'Avg Daily Max Heat Index (F)',\n",
       "       'Record Count for Daily Max Heat Index (F)',\n",
       "       'Min for Daily Max Heat Index (F)', 'Max for Daily Max Heat Index (F)'],\n",
       "      dtype='object')"
      ]
     },
     "execution_count": 411,
     "metadata": {},
     "output_type": "execute_result"
    }
   ],
   "source": [
    "temp_1979_df.columns"
   ]
  },
  {
   "cell_type": "code",
   "execution_count": 412,
   "id": "61d5d3e8-c467-41b9-b02e-814c486d0f4e",
   "metadata": {},
   "outputs": [],
   "source": [
    "temp_1979_df = temp_1979_df[['County', 'County Code', 'Month, Year', 'Month, Year Code', 'Record Count for Daily Max Air Temp (F)' ,'Avg Daily Max Air Temperature (F)', 'Min Temp for Daily Max Air Temp (F)', 'Max Temp for Daily Max Air Temp (F)']]"
   ]
  },
  {
   "cell_type": "code",
   "execution_count": 413,
   "id": "7c49c73f-0aae-4dbf-ab8f-5b95189cc2f5",
   "metadata": {},
   "outputs": [],
   "source": [
    "# making the above easier with a function to grab data in folder, read it in, remove unwanted stuff and return a clean df\n",
    "def process_temp_data(filename):\n",
    "    file_string = './data/01_climate_data/monthlyAirTemp_byCounty_RAW/' + filename\n",
    "    temp_df = pd.read_csv(file_string, delimiter='\\t', header=0)\n",
    "    \n",
    "    #drop unneccesary rows\n",
    "    temp_df = temp_df[temp_df['County'].isna() == False]\n",
    "    temp_df = temp_df[temp_df['Notes'] != 'Total'] #drop the total rows\n",
    "    \n",
    "    # create UID\n",
    "    temp_df['UID'] = temp_df['County'] + \" - \" + temp_df['Month, Year']\n",
    "    \n",
    "    #get only needed columns\n",
    "    output_df = temp_df[['UID', 'County', 'County Code', 'Month, Year', 'Month, Year Code','Avg Daily Max Air Temperature (F)', 'Min Temp for Daily Max Air Temp (F)', 'Max Temp for Daily Max Air Temp (F)']]\n",
    "    output_df = output_df.rename(columns={'Avg Daily Max Air Temperature (F)': 'avg_dailyMaxAirTemp_F', 'Min Temp for Daily Max Air Temp (F)': 'min_dailyMaxAirTemp_F', 'Max Temp for Daily Max Air Temp (F)': 'max_dailyMaxAirTemp_F'})\n",
    "    return output_df"
   ]
  },
  {
   "cell_type": "code",
   "execution_count": 414,
   "id": "2a93a35f-49a9-4b18-a924-f5d33ba1c140",
   "metadata": {},
   "outputs": [],
   "source": [
    "# run process data function on all data in temperature files\n",
    "air_temperature_df = [process_temp_data(file) for file in temperature_files]\n",
    "air_temperature_df = pd.concat(air_temperature_df)\n",
    "\n",
    "# sort the values\n",
    "air_temperature_df.sort_values(by=['County Code', 'Month, Year Code'], inplace=True)"
   ]
  },
  {
   "cell_type": "code",
   "execution_count": 415,
   "id": "935a4444-23ca-447b-b78f-c9e888346ac0",
   "metadata": {},
   "outputs": [],
   "source": [
    "# turn objects to categories to save memory\n",
    "air_temperature_df['County'] = air_temperature_df['County'].astype('category')\n",
    "air_temperature_df['Month, Year'] = air_temperature_df['Month, Year'].astype('category')\n",
    "air_temperature_df['Month, Year Code'] = air_temperature_df['Month, Year Code'].astype('category')"
   ]
  },
  {
   "cell_type": "code",
   "execution_count": 416,
   "id": "585aa2bf-5bb1-45ef-8533-06b1806698a5",
   "metadata": {},
   "outputs": [],
   "source": [
    "# #write out clean data to csv\n",
    "# temp_compression_opts = dict(method='zip',\n",
    "#                         archive_name='airTempMonthly_1979_2011.csv')\n",
    "\n",
    "\n",
    "# air_temperature_df.to_csv('./data/01_climate_data/01_climate_data_CLEAN/airTempMonthly_1979_2011.zip', index=False, compression=temp_compression_opts)"
   ]
  },
  {
   "cell_type": "code",
   "execution_count": 408,
   "id": "b0e45375-6c34-4489-8e29-1a4d324a0a89",
   "metadata": {},
   "outputs": [],
   "source": [
    "# # read in clean csv just to test it works\n",
    "# data = pd.read_csv('./data/01_climate_data/01_climate_data_CLEAN/airTempMonthly_1979_2011.csv')\n",
    "# data.info()"
   ]
  },
  {
   "cell_type": "markdown",
   "id": "307192b5-d19e-4efa-b1b1-03bd58e7bc8a",
   "metadata": {},
   "source": [
    "# Read in the Particulate Matter Data"
   ]
  },
  {
   "cell_type": "code",
   "execution_count": 417,
   "id": "c31c757c-2247-42ac-a18d-8bdc5736cda4",
   "metadata": {},
   "outputs": [],
   "source": [
    "# make list of files in particulate matter\n",
    "particle_files = os.listdir('./data/01_climate_data/monthlyParticulateMatter_RAW/')\n",
    "#particle_files"
   ]
  },
  {
   "cell_type": "code",
   "execution_count": 418,
   "id": "baf444bd-fc4f-4da8-aa8b-fb2087f1ae7e",
   "metadata": {},
   "outputs": [],
   "source": [
    "test_pfm_df = pd.read_csv('./data/01_climate_data/monthlyParticulateMatter_RAW/monthlyFPM_byCounty_2009.txt', delimiter=\"\\t\", header=0)"
   ]
  },
  {
   "cell_type": "code",
   "execution_count": 419,
   "id": "96fc7fd5-060d-4433-adf6-582e907ddec7",
   "metadata": {},
   "outputs": [
    {
     "data": {
      "text/html": [
       "<div>\n",
       "<style scoped>\n",
       "    .dataframe tbody tr th:only-of-type {\n",
       "        vertical-align: middle;\n",
       "    }\n",
       "\n",
       "    .dataframe tbody tr th {\n",
       "        vertical-align: top;\n",
       "    }\n",
       "\n",
       "    .dataframe thead th {\n",
       "        text-align: right;\n",
       "    }\n",
       "</style>\n",
       "<table border=\"1\" class=\"dataframe\">\n",
       "  <thead>\n",
       "    <tr style=\"text-align: right;\">\n",
       "      <th></th>\n",
       "      <th>Notes</th>\n",
       "      <th>County</th>\n",
       "      <th>County Code</th>\n",
       "      <th>Month, Year</th>\n",
       "      <th>Month, Year Code</th>\n",
       "      <th>Avg Fine Particulate Matter (�g/m�)</th>\n",
       "      <th># of Observations for Fine Particulate Matter</th>\n",
       "      <th>Min Fine Particulate Matter</th>\n",
       "      <th>Max Fine Particulate Matter</th>\n",
       "      <th>Avg Fine Particulate Matter Standard Deviation</th>\n",
       "    </tr>\n",
       "  </thead>\n",
       "  <tbody>\n",
       "    <tr>\n",
       "      <th>0</th>\n",
       "      <td>NaN</td>\n",
       "      <td>Autauga County, AL</td>\n",
       "      <td>1001.0</td>\n",
       "      <td>Jan, 2009</td>\n",
       "      <td>2009/01</td>\n",
       "      <td>10.61</td>\n",
       "      <td>372.0</td>\n",
       "      <td>3.9</td>\n",
       "      <td>19.2</td>\n",
       "      <td>4.33</td>\n",
       "    </tr>\n",
       "    <tr>\n",
       "      <th>1</th>\n",
       "      <td>NaN</td>\n",
       "      <td>Autauga County, AL</td>\n",
       "      <td>1001.0</td>\n",
       "      <td>Feb, 2009</td>\n",
       "      <td>2009/02</td>\n",
       "      <td>12.11</td>\n",
       "      <td>336.0</td>\n",
       "      <td>3.7</td>\n",
       "      <td>28.7</td>\n",
       "      <td>5.69</td>\n",
       "    </tr>\n",
       "  </tbody>\n",
       "</table>\n",
       "</div>"
      ],
      "text/plain": [
       "  Notes              County  County Code Month, Year Month, Year Code  \\\n",
       "0   NaN  Autauga County, AL       1001.0   Jan, 2009          2009/01   \n",
       "1   NaN  Autauga County, AL       1001.0   Feb, 2009          2009/02   \n",
       "\n",
       "   Avg Fine Particulate Matter (�g/m�)  \\\n",
       "0                                10.61   \n",
       "1                                12.11   \n",
       "\n",
       "   # of Observations for Fine Particulate Matter  Min Fine Particulate Matter  \\\n",
       "0                                          372.0                          3.9   \n",
       "1                                          336.0                          3.7   \n",
       "\n",
       "   Max Fine Particulate Matter  Avg Fine Particulate Matter Standard Deviation  \n",
       "0                         19.2                                            4.33  \n",
       "1                         28.7                                            5.69  "
      ]
     },
     "execution_count": 419,
     "metadata": {},
     "output_type": "execute_result"
    }
   ],
   "source": [
    "test_pfm_df.head(2)"
   ]
  },
  {
   "cell_type": "code",
   "execution_count": 420,
   "id": "67e8070f-b4b1-423d-9f3d-fc65aaeaf4c6",
   "metadata": {},
   "outputs": [],
   "source": [
    "test_pfm_df = test_pfm_df[test_pfm_df['County'].isna() == False]\n",
    "test_pfm_df = test_pfm_df[test_pfm_df['Notes'] != 'Total']"
   ]
  },
  {
   "cell_type": "code",
   "execution_count": 421,
   "id": "a0dccdea-cd69-4b3e-82b4-3f84056c84ff",
   "metadata": {},
   "outputs": [
    {
     "data": {
      "text/plain": [
       "Index(['Notes', 'County', 'County Code', 'Month, Year', 'Month, Year Code',\n",
       "       'Avg Fine Particulate Matter (�g/m�)',\n",
       "       '# of Observations for Fine Particulate Matter',\n",
       "       'Min Fine Particulate Matter', 'Max Fine Particulate Matter',\n",
       "       'Avg Fine Particulate Matter Standard Deviation'],\n",
       "      dtype='object')"
      ]
     },
     "execution_count": 421,
     "metadata": {},
     "output_type": "execute_result"
    }
   ],
   "source": [
    "test_pfm_df.columns"
   ]
  },
  {
   "cell_type": "code",
   "execution_count": 422,
   "id": "927d70f9-6754-4edd-b43b-9393e0848e8a",
   "metadata": {},
   "outputs": [],
   "source": [
    "def process_fpm_data(filename):\n",
    "    file_string = './data/01_climate_data/monthlyParticulateMatter_RAW/' + filename\n",
    "    fpm_df = pd.read_csv(file_string, delimiter='\\t', header=0)\n",
    "    \n",
    "    #drop unneccesary rows\n",
    "    fpm_df = fpm_df[fpm_df['County'].isna() == False]\n",
    "    fpm_df = fpm_df[fpm_df['Notes'] != 'Total'] #drop the total rows\n",
    "    \n",
    "    # create UID\n",
    "    fpm_df['UID'] = fpm_df['County'] + \" - \" + fpm_df['Month, Year']\n",
    "    \n",
    "    #get only needed columns\n",
    "    output_df = fpm_df[['UID', 'County', 'County Code', 'Month, Year', 'Month, Year Code', 'Avg Fine Particulate Matter (�g/m�)' ,'Min Fine Particulate Matter', 'Max Fine Particulate Matter']]\n",
    "    final_df = output_df.rename(columns={'Avg Fine Particulate Matter (�g/m�)': 'avg_FPM', 'Min Fine Particulate Matter': 'min_FPM', 'Max Fine Particulate Matter': 'max_FPM'})\n",
    "    return final_df"
   ]
  },
  {
   "cell_type": "code",
   "execution_count": 423,
   "id": "a9798d44-edd3-47e2-83bb-6d9852235f8e",
   "metadata": {},
   "outputs": [
    {
     "data": {
      "text/html": [
       "<div>\n",
       "<style scoped>\n",
       "    .dataframe tbody tr th:only-of-type {\n",
       "        vertical-align: middle;\n",
       "    }\n",
       "\n",
       "    .dataframe tbody tr th {\n",
       "        vertical-align: top;\n",
       "    }\n",
       "\n",
       "    .dataframe thead th {\n",
       "        text-align: right;\n",
       "    }\n",
       "</style>\n",
       "<table border=\"1\" class=\"dataframe\">\n",
       "  <thead>\n",
       "    <tr style=\"text-align: right;\">\n",
       "      <th></th>\n",
       "      <th>County</th>\n",
       "      <th>County Code</th>\n",
       "      <th>Month, Year</th>\n",
       "      <th>Month, Year Code</th>\n",
       "      <th>avg_FPM</th>\n",
       "      <th>min_FPM</th>\n",
       "      <th>max_FPM</th>\n",
       "    </tr>\n",
       "  </thead>\n",
       "  <tbody>\n",
       "    <tr>\n",
       "      <th>0</th>\n",
       "      <td>Autauga County, AL</td>\n",
       "      <td>1001.0</td>\n",
       "      <td>Jan, 2011</td>\n",
       "      <td>2011/01</td>\n",
       "      <td>11.64</td>\n",
       "      <td>3.5</td>\n",
       "      <td>21.2</td>\n",
       "    </tr>\n",
       "    <tr>\n",
       "      <th>1</th>\n",
       "      <td>Autauga County, AL</td>\n",
       "      <td>1001.0</td>\n",
       "      <td>Feb, 2011</td>\n",
       "      <td>2011/02</td>\n",
       "      <td>13.08</td>\n",
       "      <td>5.8</td>\n",
       "      <td>29.4</td>\n",
       "    </tr>\n",
       "  </tbody>\n",
       "</table>\n",
       "</div>"
      ],
      "text/plain": [
       "               County  County Code Month, Year Month, Year Code  avg_FPM  \\\n",
       "0  Autauga County, AL       1001.0   Jan, 2011          2011/01    11.64   \n",
       "1  Autauga County, AL       1001.0   Feb, 2011          2011/02    13.08   \n",
       "\n",
       "   min_FPM  max_FPM  \n",
       "0      3.5     21.2  \n",
       "1      5.8     29.4  "
      ]
     },
     "execution_count": 423,
     "metadata": {},
     "output_type": "execute_result"
    }
   ],
   "source": [
    "read_fpm_data(particle_files[2]).head(2)"
   ]
  },
  {
   "cell_type": "code",
   "execution_count": 424,
   "id": "d82bde1a-71bc-4e3c-a05b-85b2cad20212",
   "metadata": {},
   "outputs": [],
   "source": [
    "# run process data function on all data in temperature files\n",
    "fine_particulate_matter_df = [process_fpm_data(file) for file in particle_files]\n",
    "fine_particulate_matter_df = pd.concat(fine_particulate_matter_df)\n",
    "\n",
    "# sort the values\n",
    "fine_particulate_matter_df.sort_values(by=['County Code', 'Month, Year Code'], inplace=True)"
   ]
  },
  {
   "cell_type": "code",
   "execution_count": 425,
   "id": "f37af041-7779-4e8c-83f3-8f0d12ccb7de",
   "metadata": {},
   "outputs": [],
   "source": [
    "# turn objects to categories to save memory\n",
    "fine_particulate_matter_df['County'] = fine_particulate_matter_df['County'].astype('category')\n",
    "fine_particulate_matter_df['Month, Year'] = fine_particulate_matter_df['Month, Year'].astype('category')\n",
    "fine_particulate_matter_df['Month, Year Code'] = fine_particulate_matter_df['Month, Year Code'].astype('category')"
   ]
  },
  {
   "cell_type": "code",
   "execution_count": 444,
   "id": "777f347f-850d-45e3-9e0e-e25bb46baf68",
   "metadata": {},
   "outputs": [
    {
     "data": {
      "text/html": [
       "<div>\n",
       "<style scoped>\n",
       "    .dataframe tbody tr th:only-of-type {\n",
       "        vertical-align: middle;\n",
       "    }\n",
       "\n",
       "    .dataframe tbody tr th {\n",
       "        vertical-align: top;\n",
       "    }\n",
       "\n",
       "    .dataframe thead th {\n",
       "        text-align: right;\n",
       "    }\n",
       "</style>\n",
       "<table border=\"1\" class=\"dataframe\">\n",
       "  <thead>\n",
       "    <tr style=\"text-align: right;\">\n",
       "      <th></th>\n",
       "      <th>UID</th>\n",
       "      <th>County</th>\n",
       "      <th>County Code</th>\n",
       "      <th>Month, Year</th>\n",
       "      <th>Month, Year Code</th>\n",
       "      <th>avg_FPM</th>\n",
       "      <th>min_FPM</th>\n",
       "      <th>max_FPM</th>\n",
       "    </tr>\n",
       "  </thead>\n",
       "  <tbody>\n",
       "    <tr>\n",
       "      <th>0</th>\n",
       "      <td>Autauga County, AL - Jan, 2003</td>\n",
       "      <td>Autauga County, AL</td>\n",
       "      <td>1001.0</td>\n",
       "      <td>Jan, 2003</td>\n",
       "      <td>2003/01</td>\n",
       "      <td>11.37</td>\n",
       "      <td>2.5</td>\n",
       "      <td>18.2</td>\n",
       "    </tr>\n",
       "    <tr>\n",
       "      <th>1</th>\n",
       "      <td>Autauga County, AL - Feb, 2003</td>\n",
       "      <td>Autauga County, AL</td>\n",
       "      <td>1001.0</td>\n",
       "      <td>Feb, 2003</td>\n",
       "      <td>2003/02</td>\n",
       "      <td>11.27</td>\n",
       "      <td>1.2</td>\n",
       "      <td>22.4</td>\n",
       "    </tr>\n",
       "    <tr>\n",
       "      <th>2</th>\n",
       "      <td>Autauga County, AL - Mar, 2003</td>\n",
       "      <td>Autauga County, AL</td>\n",
       "      <td>1001.0</td>\n",
       "      <td>Mar, 2003</td>\n",
       "      <td>2003/03</td>\n",
       "      <td>12.56</td>\n",
       "      <td>2.4</td>\n",
       "      <td>27.1</td>\n",
       "    </tr>\n",
       "    <tr>\n",
       "      <th>3</th>\n",
       "      <td>Autauga County, AL - Apr, 2003</td>\n",
       "      <td>Autauga County, AL</td>\n",
       "      <td>1001.0</td>\n",
       "      <td>Apr, 2003</td>\n",
       "      <td>2003/04</td>\n",
       "      <td>15.77</td>\n",
       "      <td>5.4</td>\n",
       "      <td>33.5</td>\n",
       "    </tr>\n",
       "    <tr>\n",
       "      <th>4</th>\n",
       "      <td>Autauga County, AL - May, 2003</td>\n",
       "      <td>Autauga County, AL</td>\n",
       "      <td>1001.0</td>\n",
       "      <td>May, 2003</td>\n",
       "      <td>2003/05</td>\n",
       "      <td>17.13</td>\n",
       "      <td>7.0</td>\n",
       "      <td>32.0</td>\n",
       "    </tr>\n",
       "    <tr>\n",
       "      <th>...</th>\n",
       "      <td>...</td>\n",
       "      <td>...</td>\n",
       "      <td>...</td>\n",
       "      <td>...</td>\n",
       "      <td>...</td>\n",
       "      <td>...</td>\n",
       "      <td>...</td>\n",
       "      <td>...</td>\n",
       "    </tr>\n",
       "    <tr>\n",
       "      <th>40437</th>\n",
       "      <td>Weston County, WY - Aug, 2011</td>\n",
       "      <td>Weston County, WY</td>\n",
       "      <td>56045.0</td>\n",
       "      <td>Aug, 2011</td>\n",
       "      <td>2011/08</td>\n",
       "      <td>10.39</td>\n",
       "      <td>3.6</td>\n",
       "      <td>21.6</td>\n",
       "    </tr>\n",
       "    <tr>\n",
       "      <th>40438</th>\n",
       "      <td>Weston County, WY - Sep, 2011</td>\n",
       "      <td>Weston County, WY</td>\n",
       "      <td>56045.0</td>\n",
       "      <td>Sep, 2011</td>\n",
       "      <td>2011/09</td>\n",
       "      <td>9.82</td>\n",
       "      <td>3.7</td>\n",
       "      <td>21.2</td>\n",
       "    </tr>\n",
       "    <tr>\n",
       "      <th>40439</th>\n",
       "      <td>Weston County, WY - Oct, 2011</td>\n",
       "      <td>Weston County, WY</td>\n",
       "      <td>56045.0</td>\n",
       "      <td>Oct, 2011</td>\n",
       "      <td>2011/10</td>\n",
       "      <td>9.77</td>\n",
       "      <td>2.7</td>\n",
       "      <td>18.5</td>\n",
       "    </tr>\n",
       "    <tr>\n",
       "      <th>40440</th>\n",
       "      <td>Weston County, WY - Nov, 2011</td>\n",
       "      <td>Weston County, WY</td>\n",
       "      <td>56045.0</td>\n",
       "      <td>Nov, 2011</td>\n",
       "      <td>2011/11</td>\n",
       "      <td>10.81</td>\n",
       "      <td>4.0</td>\n",
       "      <td>20.3</td>\n",
       "    </tr>\n",
       "    <tr>\n",
       "      <th>40441</th>\n",
       "      <td>Weston County, WY - Dec, 2011</td>\n",
       "      <td>Weston County, WY</td>\n",
       "      <td>56045.0</td>\n",
       "      <td>Dec, 2011</td>\n",
       "      <td>2011/12</td>\n",
       "      <td>15.12</td>\n",
       "      <td>4.0</td>\n",
       "      <td>37.7</td>\n",
       "    </tr>\n",
       "  </tbody>\n",
       "</table>\n",
       "<p>335988 rows × 8 columns</p>\n",
       "</div>"
      ],
      "text/plain": [
       "                                  UID              County  County Code  \\\n",
       "0      Autauga County, AL - Jan, 2003  Autauga County, AL       1001.0   \n",
       "1      Autauga County, AL - Feb, 2003  Autauga County, AL       1001.0   \n",
       "2      Autauga County, AL - Mar, 2003  Autauga County, AL       1001.0   \n",
       "3      Autauga County, AL - Apr, 2003  Autauga County, AL       1001.0   \n",
       "4      Autauga County, AL - May, 2003  Autauga County, AL       1001.0   \n",
       "...                               ...                 ...          ...   \n",
       "40437   Weston County, WY - Aug, 2011   Weston County, WY      56045.0   \n",
       "40438   Weston County, WY - Sep, 2011   Weston County, WY      56045.0   \n",
       "40439   Weston County, WY - Oct, 2011   Weston County, WY      56045.0   \n",
       "40440   Weston County, WY - Nov, 2011   Weston County, WY      56045.0   \n",
       "40441   Weston County, WY - Dec, 2011   Weston County, WY      56045.0   \n",
       "\n",
       "      Month, Year Month, Year Code  avg_FPM  min_FPM  max_FPM  \n",
       "0       Jan, 2003          2003/01    11.37      2.5     18.2  \n",
       "1       Feb, 2003          2003/02    11.27      1.2     22.4  \n",
       "2       Mar, 2003          2003/03    12.56      2.4     27.1  \n",
       "3       Apr, 2003          2003/04    15.77      5.4     33.5  \n",
       "4       May, 2003          2003/05    17.13      7.0     32.0  \n",
       "...           ...              ...      ...      ...      ...  \n",
       "40437   Aug, 2011          2011/08    10.39      3.6     21.6  \n",
       "40438   Sep, 2011          2011/09     9.82      3.7     21.2  \n",
       "40439   Oct, 2011          2011/10     9.77      2.7     18.5  \n",
       "40440   Nov, 2011          2011/11    10.81      4.0     20.3  \n",
       "40441   Dec, 2011          2011/12    15.12      4.0     37.7  \n",
       "\n",
       "[335988 rows x 8 columns]"
      ]
     },
     "execution_count": 444,
     "metadata": {},
     "output_type": "execute_result"
    }
   ],
   "source": [
    "fine_particulate_matter_df"
   ]
  },
  {
   "cell_type": "code",
   "execution_count": 426,
   "id": "fb745270-12ce-4146-babb-ed5578a2a261",
   "metadata": {},
   "outputs": [],
   "source": [
    "# # creating a Unique Identifier to join later with other climate dfs\n",
    "# fpm_compression_opts = dict(method='zip',\n",
    "#                         archive_name='fpm_monthlyByCounty_2003_2011.csv')\n",
    "\n",
    "\n",
    "# fine_particulate_matter_df.to_csv('./data/01_climate_data/01_climate_data_CLEAN/fpm_monthly_byCounty_2003_2011.zip', index=False, compression=fpm_compression_opts)"
   ]
  },
  {
   "cell_type": "markdown",
   "id": "d715ede4-f6d5-4789-84e6-ea95411ec2d3",
   "metadata": {},
   "source": [
    "# Read in the Heat Wave Days"
   ]
  },
  {
   "cell_type": "code",
   "execution_count": 380,
   "id": "7059b95e-41f5-4bc4-b067-104f73882e4d",
   "metadata": {},
   "outputs": [],
   "source": [
    "heat_files = os.listdir('./data/01_climate_data/heatWaveDays_RAW/')\n",
    "#heat_files"
   ]
  },
  {
   "cell_type": "code",
   "execution_count": 381,
   "id": "4c511cce-5550-4f87-8163-223a6c6dcb70",
   "metadata": {},
   "outputs": [
    {
     "data": {
      "text/html": [
       "<div>\n",
       "<style scoped>\n",
       "    .dataframe tbody tr th:only-of-type {\n",
       "        vertical-align: middle;\n",
       "    }\n",
       "\n",
       "    .dataframe tbody tr th {\n",
       "        vertical-align: top;\n",
       "    }\n",
       "\n",
       "    .dataframe thead th {\n",
       "        text-align: right;\n",
       "    }\n",
       "</style>\n",
       "<table border=\"1\" class=\"dataframe\">\n",
       "  <thead>\n",
       "    <tr style=\"text-align: right;\">\n",
       "      <th></th>\n",
       "      <th>Notes</th>\n",
       "      <th>County</th>\n",
       "      <th>County Code</th>\n",
       "      <th>Year</th>\n",
       "      <th>Year Code</th>\n",
       "      <th>Heat Wave Days Based on Daily Maximum Temperature</th>\n",
       "      <th>Average Heat Wave Days Based on Daily Maximum Temperature</th>\n",
       "      <th>Average Heat Wave Days Based on Daily Maximum Temperature Standard Deviation</th>\n",
       "      <th>Heat Wave Days Based on Daily Maximum Heat Index</th>\n",
       "      <th>Average Heat Wave Days Based on Daily Maximum Heat Index</th>\n",
       "      <th>Average Heat Wave Days Based on Daily Maximum Heat Index Standard Deviation</th>\n",
       "      <th>Heat Wave Days Based on Net Daily Heat Stress</th>\n",
       "      <th>Average Heat Wave Days Based on Net Daily Heat Stress</th>\n",
       "      <th>Average Heat Wave Days Based on Net Daily Heat Stress Standard Deviation</th>\n",
       "      <th>Population</th>\n",
       "      <th>Average Population</th>\n",
       "    </tr>\n",
       "  </thead>\n",
       "  <tbody>\n",
       "    <tr>\n",
       "      <th>0</th>\n",
       "      <td>NaN</td>\n",
       "      <td>Autauga County, AL</td>\n",
       "      <td>1001.0</td>\n",
       "      <td>1982.0</td>\n",
       "      <td>1982.0</td>\n",
       "      <td>0</td>\n",
       "      <td>0.0</td>\n",
       "      <td>0.0</td>\n",
       "      <td>0</td>\n",
       "      <td>0.0</td>\n",
       "      <td>0.0</td>\n",
       "      <td>0</td>\n",
       "      <td>0.0</td>\n",
       "      <td>0.0</td>\n",
       "      <td>32015</td>\n",
       "      <td>32015.00</td>\n",
       "    </tr>\n",
       "  </tbody>\n",
       "</table>\n",
       "</div>"
      ],
      "text/plain": [
       "  Notes              County  County Code    Year  Year Code  \\\n",
       "0   NaN  Autauga County, AL       1001.0  1982.0     1982.0   \n",
       "\n",
       "  Heat Wave Days Based on Daily Maximum Temperature  \\\n",
       "0                                                 0   \n",
       "\n",
       "   Average Heat Wave Days Based on Daily Maximum Temperature  \\\n",
       "0                                                0.0           \n",
       "\n",
       "   Average Heat Wave Days Based on Daily Maximum Temperature Standard Deviation  \\\n",
       "0                                                0.0                              \n",
       "\n",
       "  Heat Wave Days Based on Daily Maximum Heat Index  \\\n",
       "0                                                0   \n",
       "\n",
       "   Average Heat Wave Days Based on Daily Maximum Heat Index  \\\n",
       "0                                                0.0          \n",
       "\n",
       "   Average Heat Wave Days Based on Daily Maximum Heat Index Standard Deviation  \\\n",
       "0                                                0.0                             \n",
       "\n",
       "  Heat Wave Days Based on Net Daily Heat Stress  \\\n",
       "0                                             0   \n",
       "\n",
       "   Average Heat Wave Days Based on Net Daily Heat Stress  \\\n",
       "0                                                0.0       \n",
       "\n",
       "   Average Heat Wave Days Based on Net Daily Heat Stress Standard Deviation  \\\n",
       "0                                                0.0                          \n",
       "\n",
       "  Population Average Population  \n",
       "0      32015           32015.00  "
      ]
     },
     "execution_count": 381,
     "metadata": {},
     "output_type": "execute_result"
    }
   ],
   "source": [
    "test_df = pd.read_csv('./data/01_climate_data/heatWaveDays_RAW/heatWaveDays_1982_1985.txt', delimiter='\\t', header=0)\n",
    "test_df[test_df['County'].isna() == False].head(1)"
   ]
  },
  {
   "cell_type": "code",
   "execution_count": 382,
   "id": "fbff9a41-14c0-4aaf-8d21-84489c958fb1",
   "metadata": {},
   "outputs": [
    {
     "data": {
      "text/plain": [
       "Index(['Notes', 'County', 'County Code', 'Year', 'Year Code',\n",
       "       'Heat Wave Days Based on Daily Maximum Temperature',\n",
       "       'Average Heat Wave Days Based on Daily Maximum Temperature',\n",
       "       'Average Heat Wave Days Based on Daily Maximum Temperature Standard Deviation',\n",
       "       'Heat Wave Days Based on Daily Maximum Heat Index',\n",
       "       'Average Heat Wave Days Based on Daily Maximum Heat Index',\n",
       "       'Average Heat Wave Days Based on Daily Maximum Heat Index Standard Deviation',\n",
       "       'Heat Wave Days Based on Net Daily Heat Stress',\n",
       "       'Average Heat Wave Days Based on Net Daily Heat Stress',\n",
       "       'Average Heat Wave Days Based on Net Daily Heat Stress Standard Deviation',\n",
       "       'Population', 'Average Population'],\n",
       "      dtype='object')"
      ]
     },
     "execution_count": 382,
     "metadata": {},
     "output_type": "execute_result"
    }
   ],
   "source": [
    "test_df.columns"
   ]
  },
  {
   "cell_type": "code",
   "execution_count": 383,
   "id": "7bac87f4-ec0c-4765-ac73-0c07a5416320",
   "metadata": {},
   "outputs": [],
   "source": [
    "def process_heat_wave_data(filename):\n",
    "    file_string = './data/01_climate_data/heatWaveDays_RAW/' + filename\n",
    "    hw_df = pd.read_csv(file_string, delimiter='\\t', header=0)\n",
    "    \n",
    "    #drop unneccesary rows\n",
    "    hw_df = hw_df[hw_df['County'].isna() == False]\n",
    "    hw_df = hw_df[hw_df['Notes'] != 'Total'] #drop the total rows\n",
    "    \n",
    "    #county code to int\n",
    "    #hw_df = hw_df.astype({'County Code': 'int64'})\n",
    "    \n",
    "    # No UID in this df, since it doesn't have the Month, Year col\n",
    "\n",
    "    \n",
    "    #get only needed columns\n",
    "    output_df = hw_df[['County', 'County Code', 'Year', 'Heat Wave Days Based on Daily Maximum Temperature', 'Heat Wave Days Based on Daily Maximum Heat Index', 'Heat Wave Days Based on Net Daily Heat Stress']]\n",
    "    final_df = output_df.rename(columns={'Heat Wave Days Based on Daily Maximum Temperature': 'count_hwDays_onDailyMaxTemp', 'Heat Wave Days Based on Daily Maximum Heat Index': 'count_hwDays_onDailyMaxHeatIndex', 'Heat Wave Days Based on Net Daily Heat Stress': 'count_hwDays_onDailyNetHeatStress'})\n",
    "    return final_df"
   ]
  },
  {
   "cell_type": "code",
   "execution_count": 384,
   "id": "6f169167-f97c-451d-8cf1-d57ced9c4ef4",
   "metadata": {},
   "outputs": [],
   "source": [
    "heat_wave_df = [process_heat_wave_data(file) for file in heat_files]\n",
    "heat_wave_df = pd.concat(heat_wave_df)\n",
    "heat_wave_df.sort_values(by=['County Code', 'Year'], inplace=True)"
   ]
  },
  {
   "cell_type": "code",
   "execution_count": 385,
   "id": "331bb0cc-a350-475b-8c34-7cbc5302c745",
   "metadata": {},
   "outputs": [],
   "source": [
    "heat_wave_df.to_csv('./data/01_climate_data/01_climate_data_CLEAN/heat_wave_days_1981_2010.csv', index=False)"
   ]
  },
  {
   "cell_type": "code",
   "execution_count": 235,
   "id": "ceb99690-65ad-4e12-8485-aad60f2287f0",
   "metadata": {},
   "outputs": [],
   "source": [
    "# test = pd.read_csv('./data/01_climate_data/01_climate_data_CLEAN/heat_wave_days_1981_2010.csv')\n",
    "# test.info()"
   ]
  },
  {
   "cell_type": "markdown",
   "id": "795116f4-fa0f-43e4-b1d4-1323342d6c70",
   "metadata": {},
   "source": [
    "# Read in Precipitation"
   ]
  },
  {
   "cell_type": "code",
   "execution_count": 427,
   "id": "a8e3c533-de52-44d2-8b18-4b95ec120a12",
   "metadata": {},
   "outputs": [],
   "source": [
    "test_precip = pd.read_csv('./data/01_climate_data/monthlyPrecipitation_RAW/monthlyPrecip_byCounty_1979.txt', delimiter=\"\\t\", header=0)\n",
    "#test_precip"
   ]
  },
  {
   "cell_type": "code",
   "execution_count": 428,
   "id": "59430045-2d0f-4b03-83e9-fb176fa332bd",
   "metadata": {
    "tags": []
   },
   "outputs": [],
   "source": [
    "precipitation_files = os.listdir('./data/01_climate_data/monthlyPrecipitation_RAW/')\n",
    "#precipitation_files"
   ]
  },
  {
   "cell_type": "code",
   "execution_count": 429,
   "id": "da0a428c-9645-469a-a517-5a1cc19c236f",
   "metadata": {},
   "outputs": [],
   "source": [
    "test_precip = test_precip[test_precip['County'].isna() != True]"
   ]
  },
  {
   "cell_type": "code",
   "execution_count": 430,
   "id": "b4692b13-1335-4a03-b079-603e668b85ab",
   "metadata": {},
   "outputs": [],
   "source": [
    "test_precip = test_precip.astype({'County Code': 'int64'})"
   ]
  },
  {
   "cell_type": "code",
   "execution_count": 431,
   "id": "8797fe24-2e92-4f69-b953-6af4c03c425e",
   "metadata": {},
   "outputs": [
    {
     "name": "stdout",
     "output_type": "stream",
     "text": [
      "<class 'pandas.core.frame.DataFrame'>\n",
      "Int64Index: 40443 entries, 0 to 40442\n",
      "Data columns (total 9 columns):\n",
      " #   Column                                     Non-Null Count  Dtype  \n",
      "---  ------                                     --------------  -----  \n",
      " 0   Notes                                      3111 non-null   object \n",
      " 1   County                                     40443 non-null  object \n",
      " 2   County Code                                40443 non-null  int64  \n",
      " 3   Month, Year                                37332 non-null  object \n",
      " 4   Month, Year Code                           37332 non-null  object \n",
      " 5   Avg Daily Precipitation (mm)               40443 non-null  float64\n",
      " 6   # of Observations for Daily Precipitation  40443 non-null  float64\n",
      " 7   Min Daily Precipitation                    40443 non-null  float64\n",
      " 8   Max Daily Precipitation                    40443 non-null  float64\n",
      "dtypes: float64(4), int64(1), object(4)\n",
      "memory usage: 3.1+ MB\n"
     ]
    }
   ],
   "source": [
    "test_precip.info()"
   ]
  },
  {
   "cell_type": "code",
   "execution_count": 432,
   "id": "c0e3b781-3277-4cad-932a-76cc243d24da",
   "metadata": {},
   "outputs": [],
   "source": [
    "test_precip['UID'] = test_precip['County'] + \" - \" + test_precip['Month, Year Code']"
   ]
  },
  {
   "cell_type": "code",
   "execution_count": 433,
   "id": "8702635e-2403-49be-a95c-c4fb82512f12",
   "metadata": {},
   "outputs": [],
   "source": [
    "def process_precip(filename):\n",
    "    file_string = './data/01_climate_data/monthlyPrecipitation_RAW/' + filename\n",
    "    precip_df = pd.read_csv(file_string, delimiter='\\t', header=0)\n",
    "    \n",
    "    #drop unneccesary rows\n",
    "    precip_df = precip_df[precip_df['County'].isna() == False]\n",
    "    precip_df = precip_df[precip_df['Notes'] != 'Total'] #drop the total rows\n",
    "    \n",
    "    #county code to int\n",
    "    #precip_df = precip_df.astype({'County Code': 'int64'})\n",
    "    \n",
    "    # create UID\n",
    "    precip_df['UID'] = precip_df['County'] + \" - \" + precip_df['Month, Year']\n",
    "    \n",
    "    #get only needed columns\n",
    "    output_df = precip_df[['UID', 'County', 'County Code', 'Month, Year', 'Month, Year Code', 'Avg Daily Precipitation (mm)' ,'Min Daily Precipitation', 'Max Daily Precipitation']]\n",
    "    final_df = output_df.rename(columns={'Avg Daily Precipitation (mm)': 'avg_daily_precip_mm', 'Min Daily Precipitation': 'min_daily_precip_mm', 'Max Daily Precipitation': 'max_daily_precip_mm'})\n",
    "    return final_df"
   ]
  },
  {
   "cell_type": "code",
   "execution_count": 434,
   "id": "eadf043b-2c7c-43e2-b564-6c2eb35f421d",
   "metadata": {},
   "outputs": [],
   "source": [
    "precipitation_df = [process_precip(file) for file in precipitation_files]\n",
    "precipitation_df = pd.concat(precipitation_df)"
   ]
  },
  {
   "cell_type": "code",
   "execution_count": 435,
   "id": "5e0b720e-084f-4aaa-9d0c-957a617295a5",
   "metadata": {},
   "outputs": [],
   "source": [
    "precipitation_df.sort_values(by=['County', 'Month, Year Code'], inplace=True)"
   ]
  },
  {
   "cell_type": "code",
   "execution_count": 436,
   "id": "63520656-e446-47b9-b832-a0b9b35caa8b",
   "metadata": {},
   "outputs": [
    {
     "data": {
      "text/plain": [
       "Index                    9.855648\n",
       "UID                    107.115228\n",
       "County                  92.331756\n",
       "County Code              9.855648\n",
       "Month, Year             81.309096\n",
       "Month, Year Code        78.845184\n",
       "avg_daily_precip_mm      9.855648\n",
       "min_daily_precip_mm      9.855648\n",
       "max_daily_precip_mm      9.855648\n",
       "dtype: float64"
      ]
     },
     "execution_count": 436,
     "metadata": {},
     "output_type": "execute_result"
    }
   ],
   "source": [
    "precipitation_df.memory_usage(deep=True) / 1_000_000"
   ]
  },
  {
   "cell_type": "code",
   "execution_count": 437,
   "id": "813ba427-5694-4567-8d06-973adad772d4",
   "metadata": {},
   "outputs": [
    {
     "data": {
      "text/plain": [
       "Index(['UID', 'County', 'County Code', 'Month, Year', 'Month, Year Code',\n",
       "       'avg_daily_precip_mm', 'min_daily_precip_mm', 'max_daily_precip_mm'],\n",
       "      dtype='object')"
      ]
     },
     "execution_count": 437,
     "metadata": {},
     "output_type": "execute_result"
    }
   ],
   "source": [
    "precipitation_df.columns"
   ]
  },
  {
   "cell_type": "code",
   "execution_count": 438,
   "id": "1961472b-5663-4c73-8c5b-c861efa26c04",
   "metadata": {},
   "outputs": [],
   "source": [
    "# turn objects to categories to save memory\n",
    "precipitation_df['County'] = precipitation_df['County'].astype('category')\n",
    "precipitation_df['Month, Year'] = precipitation_df['Month, Year'].astype('category')\n",
    "precipitation_df['Month, Year Code'] = precipitation_df['Month, Year Code'].astype('category')"
   ]
  },
  {
   "cell_type": "code",
   "execution_count": 439,
   "id": "88d31975-60a8-4a09-acf2-4a311c7fbfe4",
   "metadata": {},
   "outputs": [
    {
     "data": {
      "text/plain": [
       "Index                    9.855648\n",
       "UID                    107.115228\n",
       "County                   2.763161\n",
       "County Code              9.855648\n",
       "Month, Year              2.506600\n",
       "Month, Year Code         2.505808\n",
       "avg_daily_precip_mm      9.855648\n",
       "min_daily_precip_mm      9.855648\n",
       "max_daily_precip_mm      9.855648\n",
       "dtype: float64"
      ]
     },
     "execution_count": 439,
     "metadata": {},
     "output_type": "execute_result"
    }
   ],
   "source": [
    "precipitation_df.memory_usage(deep=True) / 1_000_000"
   ]
  },
  {
   "cell_type": "code",
   "execution_count": 443,
   "id": "03e365a1-4d9d-46c8-8398-e6a88253ffd5",
   "metadata": {},
   "outputs": [
    {
     "data": {
      "text/html": [
       "<div>\n",
       "<style scoped>\n",
       "    .dataframe tbody tr th:only-of-type {\n",
       "        vertical-align: middle;\n",
       "    }\n",
       "\n",
       "    .dataframe tbody tr th {\n",
       "        vertical-align: top;\n",
       "    }\n",
       "\n",
       "    .dataframe thead th {\n",
       "        text-align: right;\n",
       "    }\n",
       "</style>\n",
       "<table border=\"1\" class=\"dataframe\">\n",
       "  <thead>\n",
       "    <tr style=\"text-align: right;\">\n",
       "      <th></th>\n",
       "      <th>UID</th>\n",
       "      <th>County</th>\n",
       "      <th>County Code</th>\n",
       "      <th>Month, Year</th>\n",
       "      <th>Month, Year Code</th>\n",
       "      <th>avg_daily_precip_mm</th>\n",
       "      <th>min_daily_precip_mm</th>\n",
       "      <th>max_daily_precip_mm</th>\n",
       "    </tr>\n",
       "  </thead>\n",
       "  <tbody>\n",
       "    <tr>\n",
       "      <th>29666</th>\n",
       "      <td>Abbeville County, SC - Jan, 1979</td>\n",
       "      <td>Abbeville County, SC</td>\n",
       "      <td>45001.0</td>\n",
       "      <td>Jan, 1979</td>\n",
       "      <td>1979/01</td>\n",
       "      <td>5.20</td>\n",
       "      <td>0.0</td>\n",
       "      <td>51.0</td>\n",
       "    </tr>\n",
       "    <tr>\n",
       "      <th>29667</th>\n",
       "      <td>Abbeville County, SC - Feb, 1979</td>\n",
       "      <td>Abbeville County, SC</td>\n",
       "      <td>45001.0</td>\n",
       "      <td>Feb, 1979</td>\n",
       "      <td>1979/02</td>\n",
       "      <td>6.61</td>\n",
       "      <td>0.0</td>\n",
       "      <td>42.9</td>\n",
       "    </tr>\n",
       "    <tr>\n",
       "      <th>29668</th>\n",
       "      <td>Abbeville County, SC - Mar, 1979</td>\n",
       "      <td>Abbeville County, SC</td>\n",
       "      <td>45001.0</td>\n",
       "      <td>Mar, 1979</td>\n",
       "      <td>1979/03</td>\n",
       "      <td>2.76</td>\n",
       "      <td>0.0</td>\n",
       "      <td>36.6</td>\n",
       "    </tr>\n",
       "    <tr>\n",
       "      <th>29669</th>\n",
       "      <td>Abbeville County, SC - Apr, 1979</td>\n",
       "      <td>Abbeville County, SC</td>\n",
       "      <td>45001.0</td>\n",
       "      <td>Apr, 1979</td>\n",
       "      <td>1979/04</td>\n",
       "      <td>6.75</td>\n",
       "      <td>0.0</td>\n",
       "      <td>55.0</td>\n",
       "    </tr>\n",
       "    <tr>\n",
       "      <th>29670</th>\n",
       "      <td>Abbeville County, SC - May, 1979</td>\n",
       "      <td>Abbeville County, SC</td>\n",
       "      <td>45001.0</td>\n",
       "      <td>May, 1979</td>\n",
       "      <td>1979/05</td>\n",
       "      <td>5.21</td>\n",
       "      <td>0.0</td>\n",
       "      <td>36.9</td>\n",
       "    </tr>\n",
       "    <tr>\n",
       "      <th>...</th>\n",
       "      <td>...</td>\n",
       "      <td>...</td>\n",
       "      <td>...</td>\n",
       "      <td>...</td>\n",
       "      <td>...</td>\n",
       "      <td>...</td>\n",
       "      <td>...</td>\n",
       "      <td>...</td>\n",
       "    </tr>\n",
       "    <tr>\n",
       "      <th>31116</th>\n",
       "      <td>Ziebach County, SD - Aug, 2011</td>\n",
       "      <td>Ziebach County, SD</td>\n",
       "      <td>46137.0</td>\n",
       "      <td>Aug, 2011</td>\n",
       "      <td>2011/08</td>\n",
       "      <td>1.67</td>\n",
       "      <td>0.0</td>\n",
       "      <td>16.9</td>\n",
       "    </tr>\n",
       "    <tr>\n",
       "      <th>31117</th>\n",
       "      <td>Ziebach County, SD - Sep, 2011</td>\n",
       "      <td>Ziebach County, SD</td>\n",
       "      <td>46137.0</td>\n",
       "      <td>Sep, 2011</td>\n",
       "      <td>2011/09</td>\n",
       "      <td>0.43</td>\n",
       "      <td>0.0</td>\n",
       "      <td>9.9</td>\n",
       "    </tr>\n",
       "    <tr>\n",
       "      <th>31118</th>\n",
       "      <td>Ziebach County, SD - Oct, 2011</td>\n",
       "      <td>Ziebach County, SD</td>\n",
       "      <td>46137.0</td>\n",
       "      <td>Oct, 2011</td>\n",
       "      <td>2011/10</td>\n",
       "      <td>0.76</td>\n",
       "      <td>0.0</td>\n",
       "      <td>20.8</td>\n",
       "    </tr>\n",
       "    <tr>\n",
       "      <th>31119</th>\n",
       "      <td>Ziebach County, SD - Nov, 2011</td>\n",
       "      <td>Ziebach County, SD</td>\n",
       "      <td>46137.0</td>\n",
       "      <td>Nov, 2011</td>\n",
       "      <td>2011/11</td>\n",
       "      <td>0.17</td>\n",
       "      <td>0.0</td>\n",
       "      <td>11.9</td>\n",
       "    </tr>\n",
       "    <tr>\n",
       "      <th>31120</th>\n",
       "      <td>Ziebach County, SD - Dec, 2011</td>\n",
       "      <td>Ziebach County, SD</td>\n",
       "      <td>46137.0</td>\n",
       "      <td>Dec, 2011</td>\n",
       "      <td>2011/12</td>\n",
       "      <td>0.12</td>\n",
       "      <td>0.0</td>\n",
       "      <td>2.0</td>\n",
       "    </tr>\n",
       "  </tbody>\n",
       "</table>\n",
       "<p>1231956 rows × 8 columns</p>\n",
       "</div>"
      ],
      "text/plain": [
       "                                    UID                County  County Code  \\\n",
       "29666  Abbeville County, SC - Jan, 1979  Abbeville County, SC      45001.0   \n",
       "29667  Abbeville County, SC - Feb, 1979  Abbeville County, SC      45001.0   \n",
       "29668  Abbeville County, SC - Mar, 1979  Abbeville County, SC      45001.0   \n",
       "29669  Abbeville County, SC - Apr, 1979  Abbeville County, SC      45001.0   \n",
       "29670  Abbeville County, SC - May, 1979  Abbeville County, SC      45001.0   \n",
       "...                                 ...                   ...          ...   \n",
       "31116    Ziebach County, SD - Aug, 2011    Ziebach County, SD      46137.0   \n",
       "31117    Ziebach County, SD - Sep, 2011    Ziebach County, SD      46137.0   \n",
       "31118    Ziebach County, SD - Oct, 2011    Ziebach County, SD      46137.0   \n",
       "31119    Ziebach County, SD - Nov, 2011    Ziebach County, SD      46137.0   \n",
       "31120    Ziebach County, SD - Dec, 2011    Ziebach County, SD      46137.0   \n",
       "\n",
       "      Month, Year Month, Year Code  avg_daily_precip_mm  min_daily_precip_mm  \\\n",
       "29666   Jan, 1979          1979/01                 5.20                  0.0   \n",
       "29667   Feb, 1979          1979/02                 6.61                  0.0   \n",
       "29668   Mar, 1979          1979/03                 2.76                  0.0   \n",
       "29669   Apr, 1979          1979/04                 6.75                  0.0   \n",
       "29670   May, 1979          1979/05                 5.21                  0.0   \n",
       "...           ...              ...                  ...                  ...   \n",
       "31116   Aug, 2011          2011/08                 1.67                  0.0   \n",
       "31117   Sep, 2011          2011/09                 0.43                  0.0   \n",
       "31118   Oct, 2011          2011/10                 0.76                  0.0   \n",
       "31119   Nov, 2011          2011/11                 0.17                  0.0   \n",
       "31120   Dec, 2011          2011/12                 0.12                  0.0   \n",
       "\n",
       "       max_daily_precip_mm  \n",
       "29666                 51.0  \n",
       "29667                 42.9  \n",
       "29668                 36.6  \n",
       "29669                 55.0  \n",
       "29670                 36.9  \n",
       "...                    ...  \n",
       "31116                 16.9  \n",
       "31117                  9.9  \n",
       "31118                 20.8  \n",
       "31119                 11.9  \n",
       "31120                  2.0  \n",
       "\n",
       "[1231956 rows x 8 columns]"
      ]
     },
     "execution_count": 443,
     "metadata": {},
     "output_type": "execute_result"
    }
   ],
   "source": [
    "precipitation_df"
   ]
  },
  {
   "cell_type": "code",
   "execution_count": 440,
   "id": "5f4ac255-37be-44af-8352-3582233efd83",
   "metadata": {},
   "outputs": [],
   "source": [
    "# creating a Unique Identifier to join later with other climate dfs\n",
    "# precip_compression_opts = dict(method='zip',\n",
    "#                         archive_name='precipitation_monthlyByCounty_1979_2011.csv')\n",
    "\n",
    "# precipitation_df.to_csv('./data/01_climate_data/01_climate_data_CLEAN/precipitation_monthlyByCounty_1979_2011.zip', compression=precip_compression_opts)"
   ]
  },
  {
   "cell_type": "code",
   "execution_count": null,
   "id": "2e2d409c-8e16-42b5-af49-06e459b089f1",
   "metadata": {},
   "outputs": [],
   "source": []
  },
  {
   "cell_type": "markdown",
   "id": "b742de02-f30f-4b99-9f8f-ca4dbaebaafb",
   "metadata": {},
   "source": [
    "# Combining all Climate Dfs into One\n",
    "\n",
    "Here we will combine all climate data into one master data frame (sans the heat wave data, since that is not monthly), and write out to a zipped csv. This is to save on file size for github file size limits."
   ]
  },
  {
   "cell_type": "code",
   "execution_count": 463,
   "id": "dc6b3cfd-7a66-4d03-be1b-d785f140cf69",
   "metadata": {
    "tags": []
   },
   "outputs": [],
   "source": [
    "#all dfs to merge: precipitation_df, fine_particulate_matter_df, air_temperature_df\n",
    "# contextual - heat_wave_df\n",
    "precip_airTemp = pd.merge(air_temperature_df, precipitation_df, left_on='UID', right_on='UID')\n",
    "combined_df = pd.merge(precip_airTemp, fine_particulate_matter_df, left_on='UID', right_on='UID', how='outer')"
   ]
  },
  {
   "cell_type": "code",
   "execution_count": 464,
   "id": "7bc534d4-0e58-442e-8515-79ee5c794a52",
   "metadata": {},
   "outputs": [
    {
     "data": {
      "text/plain": [
       "Index(['UID', 'County_x', 'County Code_x', 'Month, Year_x',\n",
       "       'Month, Year Code_x', 'avg_dailyMaxAirTemp_F', 'min_dailyMaxAirTemp_F',\n",
       "       'max_dailyMaxAirTemp_F', 'County_y', 'County Code_y', 'Month, Year_y',\n",
       "       'Month, Year Code_y', 'avg_daily_precip_mm', 'min_daily_precip_mm',\n",
       "       'max_daily_precip_mm', 'County', 'County Code', 'Month, Year',\n",
       "       'Month, Year Code', 'avg_FPM', 'min_FPM', 'max_FPM'],\n",
       "      dtype='object')"
      ]
     },
     "execution_count": 464,
     "metadata": {},
     "output_type": "execute_result"
    }
   ],
   "source": [
    "combined_df.columns"
   ]
  },
  {
   "cell_type": "code",
   "execution_count": 465,
   "id": "5438ef60-552b-4080-ab3d-53d2834e5a0c",
   "metadata": {},
   "outputs": [],
   "source": [
    "combined_df.drop(columns=['UID','County_y', 'County Code_y', 'Month, Year_y', 'Month, Year Code_y', 'County', 'County Code', 'Month, Year', 'Month, Year Code'], inplace=True)"
   ]
  },
  {
   "cell_type": "code",
   "execution_count": 466,
   "id": "49b13650-0054-4885-9cd2-113b84f33af6",
   "metadata": {},
   "outputs": [],
   "source": [
    "combined_df.rename(columns={'County_x': 'county_name', 'County Code_x': 'county_FIPS', 'Month, Year_x': 'month_year_long', 'Month, Year Code_x': 'month_year_short'}, inplace=True)"
   ]
  },
  {
   "cell_type": "code",
   "execution_count": 467,
   "id": "32ceae85-3466-4935-b0e9-0eb4626d61f4",
   "metadata": {},
   "outputs": [
    {
     "data": {
      "text/plain": [
       "Index(['county_name', 'county_FIPS', 'month_year_long', 'month_year_short',\n",
       "       'avg_dailyMaxAirTemp_F', 'min_dailyMaxAirTemp_F',\n",
       "       'max_dailyMaxAirTemp_F', 'avg_daily_precip_mm', 'min_daily_precip_mm',\n",
       "       'max_daily_precip_mm', 'avg_FPM', 'min_FPM', 'max_FPM'],\n",
       "      dtype='object')"
      ]
     },
     "execution_count": 467,
     "metadata": {},
     "output_type": "execute_result"
    }
   ],
   "source": [
    "combined_df.columns"
   ]
  },
  {
   "cell_type": "code",
   "execution_count": 469,
   "id": "dac674c6-3aae-46fb-a457-fe2cd1cc19b9",
   "metadata": {},
   "outputs": [],
   "source": [
    "# creating a Unique Identifier to join later with other climate dfs\n",
    "final_compression_opts = dict(method='zip',\n",
    "                        archive_name='combined_data_no_heatWave_1979_2011.csv')\n",
    "\n",
    "combined_df.to_csv('./data/01_climate_data/01_climate_data_CLEAN/combined_data_no_heatWave_1979_2011.zip', compression=final_compression_opts)"
   ]
  },
  {
   "cell_type": "code",
   "execution_count": 468,
   "id": "5f624df9-c18a-4e5e-9188-4e2798f196fd",
   "metadata": {},
   "outputs": [
    {
     "data": {
      "text/plain": [
       "Index                    9.855648\n",
       "county_name              2.763161\n",
       "county_FIPS              9.855648\n",
       "month_year_long          2.506600\n",
       "month_year_short         2.505808\n",
       "avg_dailyMaxAirTemp_F    9.855648\n",
       "min_dailyMaxAirTemp_F    9.855648\n",
       "max_dailyMaxAirTemp_F    9.855648\n",
       "avg_daily_precip_mm      9.855648\n",
       "min_daily_precip_mm      9.855648\n",
       "max_daily_precip_mm      9.855648\n",
       "avg_FPM                  9.855648\n",
       "min_FPM                  9.855648\n",
       "max_FPM                  9.855648\n",
       "dtype: float64"
      ]
     },
     "execution_count": 468,
     "metadata": {},
     "output_type": "execute_result"
    }
   ],
   "source": [
    "combined_df.memory_usage(deep=True) / 1_000_000"
   ]
  },
  {
   "cell_type": "code",
   "execution_count": 462,
   "id": "cb32d600-474e-4d01-8ca0-211cb3b439ea",
   "metadata": {},
   "outputs": [
    {
     "data": {
      "text/html": [
       "<div>\n",
       "<style scoped>\n",
       "    .dataframe tbody tr th:only-of-type {\n",
       "        vertical-align: middle;\n",
       "    }\n",
       "\n",
       "    .dataframe tbody tr th {\n",
       "        vertical-align: top;\n",
       "    }\n",
       "\n",
       "    .dataframe thead th {\n",
       "        text-align: right;\n",
       "    }\n",
       "</style>\n",
       "<table border=\"1\" class=\"dataframe\">\n",
       "  <thead>\n",
       "    <tr style=\"text-align: right;\">\n",
       "      <th></th>\n",
       "      <th>UID</th>\n",
       "      <th>county_name</th>\n",
       "      <th>county_FIPS</th>\n",
       "      <th>month_year_long</th>\n",
       "      <th>month_year_short</th>\n",
       "      <th>avg_dailyMaxAirTemp_F</th>\n",
       "      <th>min_dailyMaxAirTemp_F</th>\n",
       "      <th>max_dailyMaxAirTemp_F</th>\n",
       "      <th>avg_daily_precip_mm</th>\n",
       "      <th>min_daily_precip_mm</th>\n",
       "      <th>max_daily_precip_mm</th>\n",
       "      <th>avg_FPM</th>\n",
       "      <th>min_FPM</th>\n",
       "      <th>max_FPM</th>\n",
       "    </tr>\n",
       "  </thead>\n",
       "  <tbody>\n",
       "    <tr>\n",
       "      <th>0</th>\n",
       "      <td>Autauga County, AL - Jan, 1979</td>\n",
       "      <td>Autauga County, AL</td>\n",
       "      <td>1001.0</td>\n",
       "      <td>Jan, 1979</td>\n",
       "      <td>1979/01</td>\n",
       "      <td>48.44</td>\n",
       "      <td>29.9</td>\n",
       "      <td>67.1</td>\n",
       "      <td>5.59</td>\n",
       "      <td>0.0</td>\n",
       "      <td>52.6</td>\n",
       "      <td>NaN</td>\n",
       "      <td>NaN</td>\n",
       "      <td>NaN</td>\n",
       "    </tr>\n",
       "    <tr>\n",
       "      <th>1</th>\n",
       "      <td>Autauga County, AL - Feb, 1979</td>\n",
       "      <td>Autauga County, AL</td>\n",
       "      <td>1001.0</td>\n",
       "      <td>Feb, 1979</td>\n",
       "      <td>1979/02</td>\n",
       "      <td>54.11</td>\n",
       "      <td>33.5</td>\n",
       "      <td>74.6</td>\n",
       "      <td>5.33</td>\n",
       "      <td>0.0</td>\n",
       "      <td>34.8</td>\n",
       "      <td>NaN</td>\n",
       "      <td>NaN</td>\n",
       "      <td>NaN</td>\n",
       "    </tr>\n",
       "    <tr>\n",
       "      <th>2</th>\n",
       "      <td>Autauga County, AL - Mar, 1979</td>\n",
       "      <td>Autauga County, AL</td>\n",
       "      <td>1001.0</td>\n",
       "      <td>Mar, 1979</td>\n",
       "      <td>1979/03</td>\n",
       "      <td>65.65</td>\n",
       "      <td>47.4</td>\n",
       "      <td>78.1</td>\n",
       "      <td>5.72</td>\n",
       "      <td>0.0</td>\n",
       "      <td>124.0</td>\n",
       "      <td>NaN</td>\n",
       "      <td>NaN</td>\n",
       "      <td>NaN</td>\n",
       "    </tr>\n",
       "    <tr>\n",
       "      <th>3</th>\n",
       "      <td>Autauga County, AL - Apr, 1979</td>\n",
       "      <td>Autauga County, AL</td>\n",
       "      <td>1001.0</td>\n",
       "      <td>Apr, 1979</td>\n",
       "      <td>1979/04</td>\n",
       "      <td>72.90</td>\n",
       "      <td>62.0</td>\n",
       "      <td>82.7</td>\n",
       "      <td>11.14</td>\n",
       "      <td>0.0</td>\n",
       "      <td>93.7</td>\n",
       "      <td>NaN</td>\n",
       "      <td>NaN</td>\n",
       "      <td>NaN</td>\n",
       "    </tr>\n",
       "    <tr>\n",
       "      <th>4</th>\n",
       "      <td>Autauga County, AL - May, 1979</td>\n",
       "      <td>Autauga County, AL</td>\n",
       "      <td>1001.0</td>\n",
       "      <td>May, 1979</td>\n",
       "      <td>1979/05</td>\n",
       "      <td>78.77</td>\n",
       "      <td>66.3</td>\n",
       "      <td>84.5</td>\n",
       "      <td>3.45</td>\n",
       "      <td>0.0</td>\n",
       "      <td>27.2</td>\n",
       "      <td>NaN</td>\n",
       "      <td>NaN</td>\n",
       "      <td>NaN</td>\n",
       "    </tr>\n",
       "    <tr>\n",
       "      <th>...</th>\n",
       "      <td>...</td>\n",
       "      <td>...</td>\n",
       "      <td>...</td>\n",
       "      <td>...</td>\n",
       "      <td>...</td>\n",
       "      <td>...</td>\n",
       "      <td>...</td>\n",
       "      <td>...</td>\n",
       "      <td>...</td>\n",
       "      <td>...</td>\n",
       "      <td>...</td>\n",
       "      <td>...</td>\n",
       "      <td>...</td>\n",
       "      <td>...</td>\n",
       "    </tr>\n",
       "    <tr>\n",
       "      <th>1231951</th>\n",
       "      <td>Weston County, WY - Aug, 2011</td>\n",
       "      <td>Weston County, WY</td>\n",
       "      <td>56045.0</td>\n",
       "      <td>Aug, 2011</td>\n",
       "      <td>2011/08</td>\n",
       "      <td>88.68</td>\n",
       "      <td>69.0</td>\n",
       "      <td>99.4</td>\n",
       "      <td>1.03</td>\n",
       "      <td>0.0</td>\n",
       "      <td>32.9</td>\n",
       "      <td>10.39</td>\n",
       "      <td>3.6</td>\n",
       "      <td>21.6</td>\n",
       "    </tr>\n",
       "    <tr>\n",
       "      <th>1231952</th>\n",
       "      <td>Weston County, WY - Sep, 2011</td>\n",
       "      <td>Weston County, WY</td>\n",
       "      <td>56045.0</td>\n",
       "      <td>Sep, 2011</td>\n",
       "      <td>2011/09</td>\n",
       "      <td>76.75</td>\n",
       "      <td>45.0</td>\n",
       "      <td>94.0</td>\n",
       "      <td>0.56</td>\n",
       "      <td>0.0</td>\n",
       "      <td>16.3</td>\n",
       "      <td>9.82</td>\n",
       "      <td>3.7</td>\n",
       "      <td>21.2</td>\n",
       "    </tr>\n",
       "    <tr>\n",
       "      <th>1231953</th>\n",
       "      <td>Weston County, WY - Oct, 2011</td>\n",
       "      <td>Weston County, WY</td>\n",
       "      <td>56045.0</td>\n",
       "      <td>Oct, 2011</td>\n",
       "      <td>2011/10</td>\n",
       "      <td>61.91</td>\n",
       "      <td>33.2</td>\n",
       "      <td>88.7</td>\n",
       "      <td>0.89</td>\n",
       "      <td>0.0</td>\n",
       "      <td>16.3</td>\n",
       "      <td>9.77</td>\n",
       "      <td>2.7</td>\n",
       "      <td>18.5</td>\n",
       "    </tr>\n",
       "    <tr>\n",
       "      <th>1231954</th>\n",
       "      <td>Weston County, WY - Nov, 2011</td>\n",
       "      <td>Weston County, WY</td>\n",
       "      <td>56045.0</td>\n",
       "      <td>Nov, 2011</td>\n",
       "      <td>2011/11</td>\n",
       "      <td>42.87</td>\n",
       "      <td>17.5</td>\n",
       "      <td>60.0</td>\n",
       "      <td>0.36</td>\n",
       "      <td>0.0</td>\n",
       "      <td>12.1</td>\n",
       "      <td>10.81</td>\n",
       "      <td>4.0</td>\n",
       "      <td>20.3</td>\n",
       "    </tr>\n",
       "    <tr>\n",
       "      <th>1231955</th>\n",
       "      <td>Weston County, WY - Dec, 2011</td>\n",
       "      <td>Weston County, WY</td>\n",
       "      <td>56045.0</td>\n",
       "      <td>Dec, 2011</td>\n",
       "      <td>2011/12</td>\n",
       "      <td>33.56</td>\n",
       "      <td>5.8</td>\n",
       "      <td>52.3</td>\n",
       "      <td>0.17</td>\n",
       "      <td>0.0</td>\n",
       "      <td>5.7</td>\n",
       "      <td>15.12</td>\n",
       "      <td>4.0</td>\n",
       "      <td>37.7</td>\n",
       "    </tr>\n",
       "  </tbody>\n",
       "</table>\n",
       "<p>1231956 rows × 14 columns</p>\n",
       "</div>"
      ],
      "text/plain": [
       "                                    UID         county_name  county_FIPS  \\\n",
       "0        Autauga County, AL - Jan, 1979  Autauga County, AL       1001.0   \n",
       "1        Autauga County, AL - Feb, 1979  Autauga County, AL       1001.0   \n",
       "2        Autauga County, AL - Mar, 1979  Autauga County, AL       1001.0   \n",
       "3        Autauga County, AL - Apr, 1979  Autauga County, AL       1001.0   \n",
       "4        Autauga County, AL - May, 1979  Autauga County, AL       1001.0   \n",
       "...                                 ...                 ...          ...   \n",
       "1231951   Weston County, WY - Aug, 2011   Weston County, WY      56045.0   \n",
       "1231952   Weston County, WY - Sep, 2011   Weston County, WY      56045.0   \n",
       "1231953   Weston County, WY - Oct, 2011   Weston County, WY      56045.0   \n",
       "1231954   Weston County, WY - Nov, 2011   Weston County, WY      56045.0   \n",
       "1231955   Weston County, WY - Dec, 2011   Weston County, WY      56045.0   \n",
       "\n",
       "        month_year_long month_year_short  avg_dailyMaxAirTemp_F  \\\n",
       "0             Jan, 1979          1979/01                  48.44   \n",
       "1             Feb, 1979          1979/02                  54.11   \n",
       "2             Mar, 1979          1979/03                  65.65   \n",
       "3             Apr, 1979          1979/04                  72.90   \n",
       "4             May, 1979          1979/05                  78.77   \n",
       "...                 ...              ...                    ...   \n",
       "1231951       Aug, 2011          2011/08                  88.68   \n",
       "1231952       Sep, 2011          2011/09                  76.75   \n",
       "1231953       Oct, 2011          2011/10                  61.91   \n",
       "1231954       Nov, 2011          2011/11                  42.87   \n",
       "1231955       Dec, 2011          2011/12                  33.56   \n",
       "\n",
       "         min_dailyMaxAirTemp_F  max_dailyMaxAirTemp_F  avg_daily_precip_mm  \\\n",
       "0                         29.9                   67.1                 5.59   \n",
       "1                         33.5                   74.6                 5.33   \n",
       "2                         47.4                   78.1                 5.72   \n",
       "3                         62.0                   82.7                11.14   \n",
       "4                         66.3                   84.5                 3.45   \n",
       "...                        ...                    ...                  ...   \n",
       "1231951                   69.0                   99.4                 1.03   \n",
       "1231952                   45.0                   94.0                 0.56   \n",
       "1231953                   33.2                   88.7                 0.89   \n",
       "1231954                   17.5                   60.0                 0.36   \n",
       "1231955                    5.8                   52.3                 0.17   \n",
       "\n",
       "         min_daily_precip_mm  max_daily_precip_mm  avg_FPM  min_FPM  max_FPM  \n",
       "0                        0.0                 52.6      NaN      NaN      NaN  \n",
       "1                        0.0                 34.8      NaN      NaN      NaN  \n",
       "2                        0.0                124.0      NaN      NaN      NaN  \n",
       "3                        0.0                 93.7      NaN      NaN      NaN  \n",
       "4                        0.0                 27.2      NaN      NaN      NaN  \n",
       "...                      ...                  ...      ...      ...      ...  \n",
       "1231951                  0.0                 32.9    10.39      3.6     21.6  \n",
       "1231952                  0.0                 16.3     9.82      3.7     21.2  \n",
       "1231953                  0.0                 16.3     9.77      2.7     18.5  \n",
       "1231954                  0.0                 12.1    10.81      4.0     20.3  \n",
       "1231955                  0.0                  5.7    15.12      4.0     37.7  \n",
       "\n",
       "[1231956 rows x 14 columns]"
      ]
     },
     "execution_count": 462,
     "metadata": {},
     "output_type": "execute_result"
    }
   ],
   "source": [
    "combined_df"
   ]
  },
  {
   "cell_type": "code",
   "execution_count": 460,
   "id": "d000bd85-ccf9-4cb6-89f2-59e40c18ab63",
   "metadata": {},
   "outputs": [],
   "source": [
    "combined_df['UID'] = combined_df['UID'].astype('category')"
   ]
  },
  {
   "cell_type": "code",
   "execution_count": 461,
   "id": "bc37a4a8-1ad6-489e-8dd9-6f60b3833197",
   "metadata": {},
   "outputs": [
    {
     "data": {
      "text/plain": [
       "Index                      9.855648\n",
       "UID                      145.859668\n",
       "county_name                2.763161\n",
       "county_FIPS                9.855648\n",
       "month_year_long            2.506600\n",
       "month_year_short           2.505808\n",
       "avg_dailyMaxAirTemp_F      9.855648\n",
       "min_dailyMaxAirTemp_F      9.855648\n",
       "max_dailyMaxAirTemp_F      9.855648\n",
       "avg_daily_precip_mm        9.855648\n",
       "min_daily_precip_mm        9.855648\n",
       "max_daily_precip_mm        9.855648\n",
       "avg_FPM                    9.855648\n",
       "min_FPM                    9.855648\n",
       "max_FPM                    9.855648\n",
       "dtype: float64"
      ]
     },
     "execution_count": 461,
     "metadata": {},
     "output_type": "execute_result"
    }
   ],
   "source": [
    "combined_df.memory_usage(deep=True) / 1_000_000"
   ]
  },
  {
   "cell_type": "markdown",
   "id": "bd5a2d5c-ddb4-4c64-a9cd-bfd5977a6807",
   "metadata": {},
   "source": [
    "# Inspecting Health Data"
   ]
  },
  {
   "cell_type": "code",
   "execution_count": 99,
   "id": "b21db998-d3bb-4184-b6b9-b759bdd581cc",
   "metadata": {},
   "outputs": [],
   "source": [
    "tx_county_inf_df = pd.read_csv('./data/IHME_USA_COUNTY_INFECT_DIS_MORT_1980_2014/IHME_USA_COUNTY_INFECT_DIS_MORT_1980_2014_TEXAS_Y2018M03D27.csv')"
   ]
  },
  {
   "cell_type": "code",
   "execution_count": 100,
   "id": "116fd16e-de19-4a57-8eb2-6aaa4714ce8c",
   "metadata": {},
   "outputs": [],
   "source": [
    "tx_county_diseases_df = tx_county_inf_df[tx_county_inf_df['location_name'] != 'Texas']"
   ]
  },
  {
   "cell_type": "code",
   "execution_count": 101,
   "id": "3debfaa0-4d09-4c83-98e1-e8a789548542",
   "metadata": {},
   "outputs": [],
   "source": [
    "travis_county = tx_county_diseases_df[tx_county_diseases_df['location_name'] == 'Travis County']"
   ]
  },
  {
   "cell_type": "code",
   "execution_count": 111,
   "id": "b6fbbde0-8ae7-41d3-af58-7a69819e2171",
   "metadata": {},
   "outputs": [
    {
     "data": {
      "text/html": [
       "<div>\n",
       "<style scoped>\n",
       "    .dataframe tbody tr th:only-of-type {\n",
       "        vertical-align: middle;\n",
       "    }\n",
       "\n",
       "    .dataframe tbody tr th {\n",
       "        vertical-align: top;\n",
       "    }\n",
       "\n",
       "    .dataframe thead th {\n",
       "        text-align: right;\n",
       "    }\n",
       "</style>\n",
       "<table border=\"1\" class=\"dataframe\">\n",
       "  <thead>\n",
       "    <tr style=\"text-align: right;\">\n",
       "      <th></th>\n",
       "      <th>mx</th>\n",
       "    </tr>\n",
       "    <tr>\n",
       "      <th>cause_name</th>\n",
       "      <th></th>\n",
       "    </tr>\n",
       "  </thead>\n",
       "  <tbody>\n",
       "    <tr>\n",
       "      <th>Diarrheal diseases</th>\n",
       "      <td>0.900644</td>\n",
       "    </tr>\n",
       "    <tr>\n",
       "      <th>HIV/AIDS</th>\n",
       "      <td>7.402651</td>\n",
       "    </tr>\n",
       "    <tr>\n",
       "      <th>Hepatitis</th>\n",
       "      <td>1.225379</td>\n",
       "    </tr>\n",
       "    <tr>\n",
       "      <th>Lower respiratory infections</th>\n",
       "      <td>27.736082</td>\n",
       "    </tr>\n",
       "    <tr>\n",
       "      <th>Meningitis</th>\n",
       "      <td>0.771712</td>\n",
       "    </tr>\n",
       "    <tr>\n",
       "      <th>Tuberculosis</th>\n",
       "      <td>0.994986</td>\n",
       "    </tr>\n",
       "  </tbody>\n",
       "</table>\n",
       "</div>"
      ],
      "text/plain": [
       "                                     mx\n",
       "cause_name                             \n",
       "Diarrheal diseases             0.900644\n",
       "HIV/AIDS                       7.402651\n",
       "Hepatitis                      1.225379\n",
       "Lower respiratory infections  27.736082\n",
       "Meningitis                     0.771712\n",
       "Tuberculosis                   0.994986"
      ]
     },
     "execution_count": 111,
     "metadata": {},
     "output_type": "execute_result"
    }
   ],
   "source": [
    "travis_county.groupby(by='cause_name')[['mx']].mean()"
   ]
  },
  {
   "cell_type": "code",
   "execution_count": 115,
   "id": "dd4297b5-0677-433c-9572-3e02bee1bd17",
   "metadata": {},
   "outputs": [],
   "source": [
    "travis_county = travis_county[travis_county['sex'] == 'Both']"
   ]
  },
  {
   "cell_type": "code",
   "execution_count": 117,
   "id": "daae2cd2-3539-4a96-8ec5-187ef34dcc34",
   "metadata": {},
   "outputs": [
    {
     "data": {
      "text/html": [
       "<div>\n",
       "<style scoped>\n",
       "    .dataframe tbody tr th:only-of-type {\n",
       "        vertical-align: middle;\n",
       "    }\n",
       "\n",
       "    .dataframe tbody tr th {\n",
       "        vertical-align: top;\n",
       "    }\n",
       "\n",
       "    .dataframe thead th {\n",
       "        text-align: right;\n",
       "    }\n",
       "</style>\n",
       "<table border=\"1\" class=\"dataframe\">\n",
       "  <thead>\n",
       "    <tr style=\"text-align: right;\">\n",
       "      <th></th>\n",
       "      <th></th>\n",
       "      <th>mx</th>\n",
       "    </tr>\n",
       "    <tr>\n",
       "      <th>cause_name</th>\n",
       "      <th>year_id</th>\n",
       "      <th></th>\n",
       "    </tr>\n",
       "  </thead>\n",
       "  <tbody>\n",
       "    <tr>\n",
       "      <th rowspan=\"5\" valign=\"top\">Diarrheal diseases</th>\n",
       "      <th>1980</th>\n",
       "      <td>0.385311</td>\n",
       "    </tr>\n",
       "    <tr>\n",
       "      <th>1981</th>\n",
       "      <td>0.388981</td>\n",
       "    </tr>\n",
       "    <tr>\n",
       "      <th>1982</th>\n",
       "      <td>0.356885</td>\n",
       "    </tr>\n",
       "    <tr>\n",
       "      <th>1983</th>\n",
       "      <td>0.356249</td>\n",
       "    </tr>\n",
       "    <tr>\n",
       "      <th>1984</th>\n",
       "      <td>0.358335</td>\n",
       "    </tr>\n",
       "    <tr>\n",
       "      <th>...</th>\n",
       "      <th>...</th>\n",
       "      <td>...</td>\n",
       "    </tr>\n",
       "    <tr>\n",
       "      <th rowspan=\"5\" valign=\"top\">Tuberculosis</th>\n",
       "      <th>2010</th>\n",
       "      <td>0.355401</td>\n",
       "    </tr>\n",
       "    <tr>\n",
       "      <th>2011</th>\n",
       "      <td>0.324735</td>\n",
       "    </tr>\n",
       "    <tr>\n",
       "      <th>2012</th>\n",
       "      <td>0.331754</td>\n",
       "    </tr>\n",
       "    <tr>\n",
       "      <th>2013</th>\n",
       "      <td>0.311370</td>\n",
       "    </tr>\n",
       "    <tr>\n",
       "      <th>2014</th>\n",
       "      <td>0.319193</td>\n",
       "    </tr>\n",
       "  </tbody>\n",
       "</table>\n",
       "<p>210 rows × 1 columns</p>\n",
       "</div>"
      ],
      "text/plain": [
       "                                  mx\n",
       "cause_name         year_id          \n",
       "Diarrheal diseases 1980     0.385311\n",
       "                   1981     0.388981\n",
       "                   1982     0.356885\n",
       "                   1983     0.356249\n",
       "                   1984     0.358335\n",
       "...                              ...\n",
       "Tuberculosis       2010     0.355401\n",
       "                   2011     0.324735\n",
       "                   2012     0.331754\n",
       "                   2013     0.311370\n",
       "                   2014     0.319193\n",
       "\n",
       "[210 rows x 1 columns]"
      ]
     },
     "execution_count": 117,
     "metadata": {},
     "output_type": "execute_result"
    }
   ],
   "source": [
    "travis_county.groupby(by=['cause_name', 'year_id'])[['mx']].mean()"
   ]
  },
  {
   "cell_type": "code",
   "execution_count": 79,
   "id": "5b7190b9-4773-4b04-adc1-993a41b4f658",
   "metadata": {},
   "outputs": [
    {
     "data": {
      "text/plain": [
       "<AxesSubplot:ylabel='Count'>"
      ]
     },
     "execution_count": 79,
     "metadata": {},
     "output_type": "execute_result"
    },
    {
     "data": {
      "image/png": "[encoded data removed]",
      "text/plain": [
       "<Figure size 432x288 with 1 Axes>"
      ]
     },
     "metadata": {
      "needs_background": "light"
     },
     "output_type": "display_data"
    }
   ],
   "source": [
    "sns.histplot(travis_county.groupby(by=['cause_name', 'year_id'])[['mx']].mean())"
   ]
  },
  {
   "cell_type": "code",
   "execution_count": null,
   "id": "4b27a41f-60d1-4057-b6ff-bc398621a8e5",
   "metadata": {},
   "outputs": [],
   "source": []
  }
 ],
 "metadata": {
  "kernelspec": {
   "display_name": "Python 3",
   "language": "python",
   "name": "python3"
  },
  "language_info": {
   "codemirror_mode": {
    "name": "ipython",
    "version": 3
   },
   "file_extension": ".py",
   "mimetype": "text/x-python",
   "name": "python",
   "nbconvert_exporter": "python",
   "pygments_lexer": "ipython3",
   "version": "3.8.8"
  }
 },
 "nbformat": 4,
 "nbformat_minor": 5
}
