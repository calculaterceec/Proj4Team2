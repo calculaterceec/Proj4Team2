{
 "cells": [
  {
   "cell_type": "markdown",
   "id": "02f072a0-0fec-4210-b79a-a930641adbf5",
   "metadata": {},
   "source": [
    "# Reading and Cleaning Climate Data"
   ]
  },
  {
   "cell_type": "code",
   "execution_count": 3,
   "id": "78246110-48e1-45ac-87dc-aa6a50ca5cc7",
   "metadata": {},
   "outputs": [],
   "source": [
    "import pandas as pd\n",
    "import numpy as np\n",
    "import matplotlib.pyplot as plt\n",
    "import seaborn as sns\n",
    "import os"
   ]
  },
  {
   "cell_type": "code",
   "execution_count": 2,
   "id": "0fbd5338-c9d9-4ac9-8b17-1e206e3fd5f9",
   "metadata": {},
   "outputs": [],
   "source": [
    "# cdc wonder Daily Air Temp by County (aggregated by month)\n",
    "# Jan 1, 1979 - Dec 31, 2011\n",
    "#temp_df = pd.read_csv('data/climate_data/2011_AirTemp_byState.txt', delimiter=\"\\t\", header=0)\n",
    "#particulateMatter_df = pd.read_csv('data/climate_data/2011_fineParticulateMatter_µgm3.txt', delimiter=\"\\t\", header=0)"
   ]
  },
  {
   "cell_type": "markdown",
   "id": "e8374b7c-6249-4d4f-90be-048d96bf3024",
   "metadata": {},
   "source": [
    "# Read in Temperature Data"
   ]
  },
  {
   "cell_type": "code",
   "execution_count": 5,
   "id": "1859e2b8-953f-49c8-bacc-581d6876632e",
   "metadata": {},
   "outputs": [],
   "source": [
    "temperature_files = os.listdir('../data/01_climate_data/monthlyAirTemp_byCounty_RAW/')\n",
    "temperature_files.remove('.ipynb_checkpoints')"
   ]
  },
  {
   "cell_type": "code",
   "execution_count": 4,
   "id": "87644df6-6b83-4d5a-919b-e41891232366",
   "metadata": {},
   "outputs": [],
   "source": [
    "#temperature_files"
   ]
  },
  {
   "cell_type": "code",
   "execution_count": 6,
   "id": "69958fdb-a5d9-462c-bd4c-5a07053ea809",
   "metadata": {},
   "outputs": [],
   "source": [
    "# temp_1979_df = pd.read_csv('./data/01_climate_data/monthlyAirTemp_byCounty_RAW/dailyAirTemp_byCounty_1979.txt', delimiter='\\t', header=0)\n",
    "# temp_1979_df = temp_1979_df[temp_1979_df['County'].isna() == False]\n",
    "# temp_1979_df = temp_1979_df[temp_1979_df['Notes'] != 'Total']\n",
    "\n",
    "# temp_1979_df.columns\n",
    "\n",
    "# temp_1979_df = temp_1979_df[['County', 'County Code', 'Month, Year', 'Month, Year Code', 'Record Count for Daily Max Air Temp (F)' ,'Avg Daily Max Air Temperature (F)', 'Min Temp for Daily Max Air Temp (F)', 'Max Temp for Daily Max Air Temp (F)']]"
   ]
  },
  {
   "cell_type": "code",
   "execution_count": 6,
   "id": "7c49c73f-0aae-4dbf-ab8f-5b95189cc2f5",
   "metadata": {},
   "outputs": [],
   "source": [
    "# making the above easier with a function to grab data in folder, read it in, remove unwanted stuff and return a clean df\n",
    "def process_temp_data(filename):\n",
    "    file_string = '../data/01_climate_data/monthlyAirTemp_byCounty_RAW/' + filename\n",
    "    temp_df = pd.read_csv(file_string, delimiter='\\t', header=0, parse_dates=['Month, Year Code'], dtype={'County Code': object})\n",
    "    \n",
    "    #drop unneccesary rows\n",
    "    temp_df = temp_df[temp_df['County'].isna() == False]\n",
    "    temp_df = temp_df[temp_df['Notes'] != 'Total'] #drop the total rows\n",
    "    \n",
    "    # create UID\n",
    "    temp_df['UID'] = temp_df['County'] + \" - \" + temp_df['Month, Year']\n",
    "    \n",
    "    #get only needed columns\n",
    "    output_df = temp_df[['UID', 'County', 'County Code', 'Month, Year', 'Month, Year Code','Avg Daily Max Air Temperature (F)', 'Min Temp for Daily Max Air Temp (F)', 'Max Temp for Daily Max Air Temp (F)']]\n",
    "    output_df = output_df.rename(columns={'Avg Daily Max Air Temperature (F)': 'avg_dailyMaxAirTemp_F', 'Min Temp for Daily Max Air Temp (F)': 'min_dailyMaxAirTemp_F', 'Max Temp for Daily Max Air Temp (F)': 'max_dailyMaxAirTemp_F'})\n",
    "    return output_df"
   ]
  },
  {
   "cell_type": "code",
   "execution_count": 7,
   "id": "2a93a35f-49a9-4b18-a924-f5d33ba1c140",
   "metadata": {},
   "outputs": [],
   "source": [
    "# run process data function on all data in temperature files\n",
    "air_temperature_df = [process_temp_data(file) for file in temperature_files]\n",
    "air_temperature_df = pd.concat(air_temperature_df)\n",
    "\n",
    "# sort the values\n",
    "air_temperature_df.sort_values(by=['County Code', 'Month, Year Code'], inplace=True)"
   ]
  },
  {
   "cell_type": "code",
   "execution_count": 8,
   "id": "e883619c-3496-48df-9f70-cc4451fdaaf4",
   "metadata": {},
   "outputs": [
    {
     "data": {
      "text/plain": [
       "Index                      9.855648\n",
       "UID                      107.115228\n",
       "County                    92.331756\n",
       "County Code               76.381272\n",
       "Month, Year               81.309096\n",
       "Month, Year Code           9.855648\n",
       "avg_dailyMaxAirTemp_F      9.855648\n",
       "min_dailyMaxAirTemp_F      9.855648\n",
       "max_dailyMaxAirTemp_F      9.855648\n",
       "dtype: float64"
      ]
     },
     "execution_count": 8,
     "metadata": {},
     "output_type": "execute_result"
    }
   ],
   "source": [
    "air_temperature_df.memory_usage(deep=True) / 1_000_000"
   ]
  },
  {
   "cell_type": "code",
   "execution_count": 9,
   "id": "935a4444-23ca-447b-b78f-c9e888346ac0",
   "metadata": {},
   "outputs": [],
   "source": [
    "# turn objects to categories to save memory\n",
    "air_temperature_df['County'] = air_temperature_df['County'].astype('category')\n",
    "air_temperature_df['Month, Year'] = air_temperature_df['Month, Year'].astype('category')\n",
    "air_temperature_df['Month, Year Code'] = air_temperature_df['Month, Year Code'].astype('category')"
   ]
  },
  {
   "cell_type": "code",
   "execution_count": 416,
   "id": "585aa2bf-5bb1-45ef-8533-06b1806698a5",
   "metadata": {},
   "outputs": [],
   "source": [
    "# #write out clean data to csv\n",
    "# temp_compression_opts = dict(method='zip',\n",
    "#                         archive_name='airTempMonthly_1979_2011.csv')\n",
    "\n",
    "\n",
    "# air_temperature_df.to_csv('./data/01_climate_data/01_climate_data_CLEAN/airTempMonthly_1979_2011.zip', index=False, compression=temp_compression_opts)"
   ]
  },
  {
   "cell_type": "code",
   "execution_count": 408,
   "id": "b0e45375-6c34-4489-8e29-1a4d324a0a89",
   "metadata": {},
   "outputs": [],
   "source": [
    "# # read in clean csv just to test it works\n",
    "# data = pd.read_csv('./data/01_climate_data/01_climate_data_CLEAN/airTempMonthly_1979_2011.csv')\n",
    "# data.info()"
   ]
  },
  {
   "cell_type": "markdown",
   "id": "307192b5-d19e-4efa-b1b1-03bd58e7bc8a",
   "metadata": {},
   "source": [
    "# Read in the Particulate Matter Data"
   ]
  },
  {
   "cell_type": "code",
   "execution_count": 10,
   "id": "9498b076-9fd8-4e72-a735-b7bf26254505",
   "metadata": {},
   "outputs": [],
   "source": [
    "# # make list of files in particulate matter\n",
    "particle_files = os.listdir('../data/01_climate_data/monthlyParticulateMatter_RAW/')\n",
    "# #particle_files\n",
    "\n",
    "# test_pfm_df = pd.read_csv('./data/01_climate_data/monthlyParticulateMatter_RAW/monthlyFPM_byCounty_2009.txt', delimiter=\"\\t\", header=0)\n",
    "\n",
    "# test_pfm_df.head(2)\n",
    "\n",
    "# test_pfm_df = test_pfm_df[test_pfm_df['County'].isna() == False]\n",
    "# test_pfm_df = test_pfm_df[test_pfm_df['Notes'] != 'Total']\n",
    "\n",
    "# test_pfm_df.columns"
   ]
  },
  {
   "cell_type": "code",
   "execution_count": 11,
   "id": "927d70f9-6754-4edd-b43b-9393e0848e8a",
   "metadata": {},
   "outputs": [],
   "source": [
    "def process_fpm_data(filename):\n",
    "    file_string = '../data/01_climate_data/monthlyParticulateMatter_RAW/' + filename\n",
    "    fpm_df = pd.read_csv(file_string, delimiter='\\t', header=0, parse_dates=['Month, Year Code'], dtype={'County Code': object}, encoding='unicode_escape')\n",
    "    \n",
    "    #drop unneccesary rows\n",
    "    fpm_df = fpm_df[fpm_df['County'].isna() == False]\n",
    "    fpm_df = fpm_df[fpm_df['Notes'] != 'Total'] #drop the total rows\n",
    "    \n",
    "    # create UID\n",
    "    fpm_df['UID'] = fpm_df['County'] + \" - \" + fpm_df['Month, Year']\n",
    "    \n",
    "    #get only needed columns\n",
    "    output_df = fpm_df[['UID', 'County', 'County Code', 'Month, Year', 'Month, Year Code', 'Avg Fine Particulate Matter (�g/m�)' ,'Min Fine Particulate Matter', 'Max Fine Particulate Matter']]\n",
    "    final_df = output_df.rename(columns={'Avg Fine Particulate Matter (�g/m�)': 'avg_FPM', 'Min Fine Particulate Matter': 'min_FPM', 'Max Fine Particulate Matter': 'max_FPM'})\n",
    "    return final_df"
   ]
  },
  {
   "cell_type": "code",
   "execution_count": 13,
   "id": "ed59c38d-1732-4f89-ab92-d4340f298346",
   "metadata": {},
   "outputs": [],
   "source": [
    "# #process_fpm_data(particle_files[2]).head(2)\n",
    "\n",
    "# # run process data function on all data in temperature files\n",
    "# fine_particulate_matter_df = [process_fpm_data(file) for file in particle_files]\n",
    "# fine_particulate_matter_df = pd.concat(fine_particulate_matter_df)\n",
    "\n",
    "# # sort the values\n",
    "# fine_particulate_matter_df.sort_values(by=['County Code', 'Month, Year Code'], inplace=True)\n",
    "\n",
    "# # turn objects to categories to save memory\n",
    "# fine_particulate_matter_df['County'] = fine_particulate_matter_df['County'].astype('category')\n",
    "# fine_particulate_matter_df['Month, Year'] = fine_particulate_matter_df['Month, Year'].astype('category')\n",
    "# fine_particulate_matter_df['Month, Year Code'] = fine_particulate_matter_df['Month, Year Code'].astype('category')\n",
    "\n",
    "# fine_particulate_matter_df"
   ]
  },
  {
   "cell_type": "code",
   "execution_count": 426,
   "id": "fb745270-12ce-4146-babb-ed5578a2a261",
   "metadata": {},
   "outputs": [],
   "source": [
    "# # creating a Unique Identifier to join later with other climate dfs\n",
    "# fpm_compression_opts = dict(method='zip',\n",
    "#                         archive_name='fpm_monthlyByCounty_2003_2011.csv')\n",
    "\n",
    "\n",
    "# fine_particulate_matter_df.to_csv('./data/01_climate_data/01_climate_data_CLEAN/fpm_monthly_byCounty_2003_2011.zip', index=False, compression=fpm_compression_opts)"
   ]
  },
  {
   "cell_type": "markdown",
   "id": "d715ede4-f6d5-4789-84e6-ea95411ec2d3",
   "metadata": {},
   "source": [
    "# Read in the Heat Wave Days"
   ]
  },
  {
   "cell_type": "code",
   "execution_count": 14,
   "id": "7059b95e-41f5-4bc4-b067-104f73882e4d",
   "metadata": {},
   "outputs": [],
   "source": [
    "heat_files = os.listdir('../data/01_climate_data/heatWaveDays_RAW/')\n",
    "#heat_files"
   ]
  },
  {
   "cell_type": "code",
   "execution_count": 25,
   "id": "eb28dd08-fc49-470b-ba76-89931db3954f",
   "metadata": {},
   "outputs": [],
   "source": [
    "# test_df = pd.read_csv('./data/01_climate_data/heatWaveDays_RAW/heatWaveDays_1982_1985.txt', delimiter='\\t', header=0, dtype={'County Code': object})\n",
    "# test_df[test_df['County'].isna() == False].head(1)\n",
    "\n",
    "# test_df.columns"
   ]
  },
  {
   "cell_type": "code",
   "execution_count": 15,
   "id": "7bac87f4-ec0c-4765-ac73-0c07a5416320",
   "metadata": {},
   "outputs": [],
   "source": [
    "def process_heat_wave_data(filename):\n",
    "    file_string = '../data/01_climate_data/heatWaveDays_RAW/' + filename\n",
    "    hw_df = pd.read_csv(file_string, delimiter='\\t', header=0, parse_dates=['Year'], dtype={'County Code': object})\n",
    "    \n",
    "    #drop unneccesary rows\n",
    "    hw_df = hw_df[hw_df['County'].isna() == False]\n",
    "    hw_df = hw_df[hw_df['Notes'] != 'Total'] #drop the total rows\n",
    "    \n",
    "    #county code to int\n",
    "    #hw_df = hw_df.astype({'County Code': 'int64'})\n",
    "    \n",
    "    # No UID in this df, since it doesn't have the Month, Year col\n",
    "\n",
    "    \n",
    "    #get only needed columns\n",
    "    output_df = hw_df[['County', 'County Code', 'Year', 'Heat Wave Days Based on Daily Maximum Temperature', 'Heat Wave Days Based on Daily Maximum Heat Index', 'Heat Wave Days Based on Net Daily Heat Stress']]\n",
    "    final_df = output_df.rename(columns={'Heat Wave Days Based on Daily Maximum Temperature': 'count_hwDays_onDailyMaxTemp', 'Heat Wave Days Based on Daily Maximum Heat Index': 'count_hwDays_onDailyMaxHeatIndex', 'Heat Wave Days Based on Net Daily Heat Stress': 'count_hwDays_onDailyNetHeatStress'})\n",
    "    return final_df"
   ]
  },
  {
   "cell_type": "code",
   "execution_count": 16,
   "id": "6f169167-f97c-451d-8cf1-d57ced9c4ef4",
   "metadata": {},
   "outputs": [],
   "source": [
    "heat_wave_df = [process_heat_wave_data(file) for file in heat_files]\n",
    "heat_wave_df = pd.concat(heat_wave_df)\n",
    "heat_wave_df.sort_values(by=['County Code', 'Year'], inplace=True)"
   ]
  },
  {
   "cell_type": "code",
   "execution_count": 17,
   "id": "b7e3bba5-48d5-4f48-8bd7-3c5b1d1bfc79",
   "metadata": {},
   "outputs": [
    {
     "data": {
      "text/plain": [
       "Index                                0.746160\n",
       "County                               6.990030\n",
       "County Code                          5.782740\n",
       "Year                                 0.746160\n",
       "count_hwDays_onDailyMaxTemp          5.431019\n",
       "count_hwDays_onDailyMaxHeatIndex     5.428730\n",
       "count_hwDays_onDailyNetHeatStress    5.428157\n",
       "dtype: float64"
      ]
     },
     "execution_count": 17,
     "metadata": {},
     "output_type": "execute_result"
    }
   ],
   "source": [
    "heat_wave_df.memory_usage(deep=True) / 1_000_000"
   ]
  },
  {
   "cell_type": "code",
   "execution_count": 18,
   "id": "331bb0cc-a350-475b-8c34-7cbc5302c745",
   "metadata": {},
   "outputs": [],
   "source": [
    "heat_wave_df.to_csv('../data/cleaned/heat_wave_days_1981_2010.csv', index=False)"
   ]
  },
  {
   "cell_type": "markdown",
   "id": "795116f4-fa0f-43e4-b1d4-1323342d6c70",
   "metadata": {},
   "source": [
    "# Read in Precipitation"
   ]
  },
  {
   "cell_type": "code",
   "execution_count": 19,
   "id": "59430045-2d0f-4b03-83e9-fb176fa332bd",
   "metadata": {
    "tags": []
   },
   "outputs": [],
   "source": [
    "precipitation_files = os.listdir('../data/01_climate_data/monthlyPrecipitation_RAW/')\n",
    "#precipitation_files"
   ]
  },
  {
   "cell_type": "code",
   "execution_count": 20,
   "id": "da0a428c-9645-469a-a517-5a1cc19c236f",
   "metadata": {},
   "outputs": [
    {
     "data": {
      "text/html": [
       "<div>\n",
       "<style scoped>\n",
       "    .dataframe tbody tr th:only-of-type {\n",
       "        vertical-align: middle;\n",
       "    }\n",
       "\n",
       "    .dataframe tbody tr th {\n",
       "        vertical-align: top;\n",
       "    }\n",
       "\n",
       "    .dataframe thead th {\n",
       "        text-align: right;\n",
       "    }\n",
       "</style>\n",
       "<table border=\"1\" class=\"dataframe\">\n",
       "  <thead>\n",
       "    <tr style=\"text-align: right;\">\n",
       "      <th></th>\n",
       "      <th>Notes</th>\n",
       "      <th>County</th>\n",
       "      <th>County Code</th>\n",
       "      <th>Month, Year</th>\n",
       "      <th>Month, Year Code</th>\n",
       "      <th>Avg Daily Precipitation (mm)</th>\n",
       "      <th># of Observations for Daily Precipitation</th>\n",
       "      <th>Min Daily Precipitation</th>\n",
       "      <th>Max Daily Precipitation</th>\n",
       "    </tr>\n",
       "  </thead>\n",
       "  <tbody>\n",
       "    <tr>\n",
       "      <th>0</th>\n",
       "      <td>NaN</td>\n",
       "      <td>Autauga County, AL</td>\n",
       "      <td>01001</td>\n",
       "      <td>Jan, 1979</td>\n",
       "      <td>1979/01</td>\n",
       "      <td>5.59</td>\n",
       "      <td>341.0</td>\n",
       "      <td>0.0</td>\n",
       "      <td>52.6</td>\n",
       "    </tr>\n",
       "    <tr>\n",
       "      <th>1</th>\n",
       "      <td>NaN</td>\n",
       "      <td>Autauga County, AL</td>\n",
       "      <td>01001</td>\n",
       "      <td>Feb, 1979</td>\n",
       "      <td>1979/02</td>\n",
       "      <td>5.33</td>\n",
       "      <td>308.0</td>\n",
       "      <td>0.0</td>\n",
       "      <td>34.8</td>\n",
       "    </tr>\n",
       "  </tbody>\n",
       "</table>\n",
       "</div>"
      ],
      "text/plain": [
       "  Notes              County County Code Month, Year Month, Year Code  \\\n",
       "0   NaN  Autauga County, AL       01001   Jan, 1979          1979/01   \n",
       "1   NaN  Autauga County, AL       01001   Feb, 1979          1979/02   \n",
       "\n",
       "   Avg Daily Precipitation (mm)  # of Observations for Daily Precipitation  \\\n",
       "0                          5.59                                      341.0   \n",
       "1                          5.33                                      308.0   \n",
       "\n",
       "   Min Daily Precipitation  Max Daily Precipitation  \n",
       "0                      0.0                     52.6  \n",
       "1                      0.0                     34.8  "
      ]
     },
     "execution_count": 20,
     "metadata": {},
     "output_type": "execute_result"
    }
   ],
   "source": [
    "test_precip = pd.read_csv('../data/01_climate_data/monthlyPrecipitation_RAW/monthlyPrecip_byCounty_1979.txt', delimiter=\"\\t\", header=0, dtype={'County Code': object})\n",
    "#test_precip\n",
    "test_precip = test_precip[test_precip['County'].isna() != True]\n",
    "test_precip.head(2)"
   ]
  },
  {
   "cell_type": "code",
   "execution_count": 22,
   "id": "8702635e-2403-49be-a95c-c4fb82512f12",
   "metadata": {},
   "outputs": [],
   "source": [
    "def process_precip(filename):\n",
    "    file_string = '../data/01_climate_data/monthlyPrecipitation_RAW/' + filename\n",
    "    precip_df = pd.read_csv(file_string, delimiter='\\t', header=0, dtype={'County Code': object}, parse_dates=['Month, Year Code'])\n",
    "    \n",
    "    #drop unneccesary rows\n",
    "    precip_df = precip_df[precip_df['County'].isna() == False]\n",
    "    precip_df = precip_df[precip_df['Notes'] != 'Total'] #drop the total rows\n",
    "    \n",
    "    #county code to int\n",
    "    #precip_df = precip_df.astype({'County Code': 'int64'})\n",
    "    \n",
    "    # create UID\n",
    "    precip_df['UID'] = precip_df['County'] + \" - \" + precip_df['Month, Year']\n",
    "    \n",
    "    #get only needed columns\n",
    "    output_df = precip_df[['UID', 'County', 'County Code', 'Month, Year', 'Month, Year Code', 'Avg Daily Precipitation (mm)' ,'Min Daily Precipitation', 'Max Daily Precipitation']]\n",
    "    final_df = output_df.rename(columns={'Avg Daily Precipitation (mm)': 'avg_daily_precip_mm', 'Min Daily Precipitation': 'min_daily_precip_mm', 'Max Daily Precipitation': 'max_daily_precip_mm'})\n",
    "    return final_df"
   ]
  },
  {
   "cell_type": "code",
   "execution_count": 23,
   "id": "eadf043b-2c7c-43e2-b564-6c2eb35f421d",
   "metadata": {},
   "outputs": [],
   "source": [
    "precipitation_df = [process_precip(file) for file in precipitation_files]\n",
    "precipitation_df = pd.concat(precipitation_df)"
   ]
  },
  {
   "cell_type": "code",
   "execution_count": 24,
   "id": "5e0b720e-084f-4aaa-9d0c-957a617295a5",
   "metadata": {},
   "outputs": [],
   "source": [
    "precipitation_df.sort_values(by=['County', 'Month, Year Code'], inplace=True)"
   ]
  },
  {
   "cell_type": "code",
   "execution_count": 437,
   "id": "548d250c-0c7b-44a1-8066-b2a94c8a91f3",
   "metadata": {},
   "outputs": [],
   "source": [
    "# precipitation_df.memory_usage(deep=True) / 1_000_000\n",
    "\n",
    "# precipitation_df.columns"
   ]
  },
  {
   "cell_type": "code",
   "execution_count": 25,
   "id": "1961472b-5663-4c73-8c5b-c861efa26c04",
   "metadata": {},
   "outputs": [],
   "source": [
    "# turn objects to categories to save memory\n",
    "precipitation_df['County'] = precipitation_df['County'].astype('category')\n",
    "precipitation_df['Month, Year'] = precipitation_df['Month, Year'].astype('category')"
   ]
  },
  {
   "cell_type": "code",
   "execution_count": 26,
   "id": "88d31975-60a8-4a09-acf2-4a311c7fbfe4",
   "metadata": {},
   "outputs": [
    {
     "data": {
      "text/plain": [
       "Index                    9.855648\n",
       "UID                    107.115228\n",
       "County                   2.763161\n",
       "County Code             76.381272\n",
       "Month, Year              2.506600\n",
       "Month, Year Code         9.855648\n",
       "avg_daily_precip_mm      9.855648\n",
       "min_daily_precip_mm      9.855648\n",
       "max_daily_precip_mm      9.855648\n",
       "dtype: float64"
      ]
     },
     "execution_count": 26,
     "metadata": {},
     "output_type": "execute_result"
    }
   ],
   "source": [
    "precipitation_df.memory_usage(deep=True) / 1_000_000"
   ]
  },
  {
   "cell_type": "code",
   "execution_count": 44,
   "id": "03e365a1-4d9d-46c8-8398-e6a88253ffd5",
   "metadata": {},
   "outputs": [
    {
     "data": {
      "text/html": [
       "<div>\n",
       "<style scoped>\n",
       "    .dataframe tbody tr th:only-of-type {\n",
       "        vertical-align: middle;\n",
       "    }\n",
       "\n",
       "    .dataframe tbody tr th {\n",
       "        vertical-align: top;\n",
       "    }\n",
       "\n",
       "    .dataframe thead th {\n",
       "        text-align: right;\n",
       "    }\n",
       "</style>\n",
       "<table border=\"1\" class=\"dataframe\">\n",
       "  <thead>\n",
       "    <tr style=\"text-align: right;\">\n",
       "      <th></th>\n",
       "      <th>UID</th>\n",
       "      <th>County</th>\n",
       "      <th>County Code</th>\n",
       "      <th>Month, Year</th>\n",
       "      <th>Month, Year Code</th>\n",
       "      <th>avg_daily_precip_mm</th>\n",
       "      <th>min_daily_precip_mm</th>\n",
       "      <th>max_daily_precip_mm</th>\n",
       "    </tr>\n",
       "  </thead>\n",
       "  <tbody>\n",
       "    <tr>\n",
       "      <th>29666</th>\n",
       "      <td>Abbeville County, SC - Jan, 1979</td>\n",
       "      <td>Abbeville County, SC</td>\n",
       "      <td>45001</td>\n",
       "      <td>Jan, 1979</td>\n",
       "      <td>1979-01-01</td>\n",
       "      <td>5.20</td>\n",
       "      <td>0.0</td>\n",
       "      <td>51.0</td>\n",
       "    </tr>\n",
       "    <tr>\n",
       "      <th>29667</th>\n",
       "      <td>Abbeville County, SC - Feb, 1979</td>\n",
       "      <td>Abbeville County, SC</td>\n",
       "      <td>45001</td>\n",
       "      <td>Feb, 1979</td>\n",
       "      <td>1979-02-01</td>\n",
       "      <td>6.61</td>\n",
       "      <td>0.0</td>\n",
       "      <td>42.9</td>\n",
       "    </tr>\n",
       "  </tbody>\n",
       "</table>\n",
       "</div>"
      ],
      "text/plain": [
       "                                    UID                County County Code  \\\n",
       "29666  Abbeville County, SC - Jan, 1979  Abbeville County, SC       45001   \n",
       "29667  Abbeville County, SC - Feb, 1979  Abbeville County, SC       45001   \n",
       "\n",
       "      Month, Year Month, Year Code  avg_daily_precip_mm  min_daily_precip_mm  \\\n",
       "29666   Jan, 1979       1979-01-01                 5.20                  0.0   \n",
       "29667   Feb, 1979       1979-02-01                 6.61                  0.0   \n",
       "\n",
       "       max_daily_precip_mm  \n",
       "29666                 51.0  \n",
       "29667                 42.9  "
      ]
     },
     "execution_count": 44,
     "metadata": {},
     "output_type": "execute_result"
    }
   ],
   "source": [
    "precipitation_df.head(2)"
   ]
  },
  {
   "cell_type": "code",
   "execution_count": 440,
   "id": "5f4ac255-37be-44af-8352-3582233efd83",
   "metadata": {},
   "outputs": [],
   "source": [
    "# creating a Unique Identifier to join later with other climate dfs\n",
    "# precip_compression_opts = dict(method='zip',\n",
    "#                         archive_name='precipitation_monthlyByCounty_1979_2011.csv')\n",
    "\n",
    "# precipitation_df.to_csv('./data/01_climate_data/01_climate_data_CLEAN/precipitation_monthlyByCounty_1979_2011.zip', compression=precip_compression_opts)"
   ]
  },
  {
   "cell_type": "markdown",
   "id": "b742de02-f30f-4b99-9f8f-ca4dbaebaafb",
   "metadata": {},
   "source": [
    "# Combining all Climate Dfs into One\n",
    "\n",
    "Here we will combine all climate data into one master data frame (sans the heat wave data, since that is not monthly), and write out to a zipped csv. This is to save on file size for github file size limits."
   ]
  },
  {
   "cell_type": "code",
   "execution_count": 27,
   "id": "dc6b3cfd-7a66-4d03-be1b-d785f140cf69",
   "metadata": {
    "tags": []
   },
   "outputs": [],
   "source": [
    "#all dfs to merge: precipitation_df, fine_particulate_matter_df, air_temperature_df\n",
    "# contextual - heat_wave_df\n",
    "precip_airTemp = pd.merge(air_temperature_df, precipitation_df, left_on='UID', right_on='UID')\n",
    "#combined_df = pd.merge(precip_airTemp, fine_particulate_matter_df, left_on='UID', right_on='UID', how='outer')"
   ]
  },
  {
   "cell_type": "code",
   "execution_count": 28,
   "id": "7bc534d4-0e58-442e-8515-79ee5c794a52",
   "metadata": {},
   "outputs": [
    {
     "data": {
      "text/plain": [
       "Index(['UID', 'County_x', 'County Code_x', 'Month, Year_x',\n",
       "       'Month, Year Code_x', 'avg_dailyMaxAirTemp_F', 'min_dailyMaxAirTemp_F',\n",
       "       'max_dailyMaxAirTemp_F', 'County_y', 'County Code_y', 'Month, Year_y',\n",
       "       'Month, Year Code_y', 'avg_daily_precip_mm', 'min_daily_precip_mm',\n",
       "       'max_daily_precip_mm'],\n",
       "      dtype='object')"
      ]
     },
     "execution_count": 28,
     "metadata": {},
     "output_type": "execute_result"
    }
   ],
   "source": [
    "precip_airTemp.columns"
   ]
  },
  {
   "cell_type": "code",
   "execution_count": 29,
   "id": "5438ef60-552b-4080-ab3d-53d2834e5a0c",
   "metadata": {},
   "outputs": [],
   "source": [
    "precip_airTemp.drop(columns=['UID','County_y', 'County Code_y', 'Month, Year_y', 'Month, Year Code_y'], inplace=True)"
   ]
  },
  {
   "cell_type": "code",
   "execution_count": 30,
   "id": "49b13650-0054-4885-9cd2-113b84f33af6",
   "metadata": {},
   "outputs": [],
   "source": [
    "precip_airTemp.rename(columns={'County_x': 'county_name', 'County Code_x': 'county_FIPS', 'Month, Year_x': 'month_year_long', 'Month, Year Code_x': 'month_year_short'}, inplace=True)"
   ]
  },
  {
   "cell_type": "code",
   "execution_count": 31,
   "id": "961888e9-127d-4b7b-a1ea-6877115d3b5b",
   "metadata": {},
   "outputs": [],
   "source": [
    "# precip_airTemp.memory_usage(deep=True) / 1_000_000\n",
    "\n",
    "# precip_airTemp.info()"
   ]
  },
  {
   "cell_type": "code",
   "execution_count": 32,
   "id": "a5c06ff6-792c-4e9c-8729-d75441ee388b",
   "metadata": {},
   "outputs": [],
   "source": [
    "# turn objects to categories to save memory\n",
    "precip_airTemp['county_name'] = precip_airTemp['county_name'].astype('category')\n",
    "precip_airTemp['county_FIPS'] = precip_airTemp['county_FIPS'].astype('category')\n",
    "precip_airTemp['month_year_long'] = precip_airTemp['month_year_long'].astype('category')"
   ]
  },
  {
   "cell_type": "code",
   "execution_count": 33,
   "id": "15a2e259-1b37-4c70-806f-e98ae405a842",
   "metadata": {},
   "outputs": [
    {
     "data": {
      "text/plain": [
       "Index                    9.855648\n",
       "county_name              2.763161\n",
       "county_FIPS              2.722882\n",
       "month_year_long          2.506600\n",
       "month_year_short         2.483632\n",
       "avg_dailyMaxAirTemp_F    9.855648\n",
       "min_dailyMaxAirTemp_F    9.855648\n",
       "max_dailyMaxAirTemp_F    9.855648\n",
       "avg_daily_precip_mm      9.855648\n",
       "min_daily_precip_mm      9.855648\n",
       "max_daily_precip_mm      9.855648\n",
       "dtype: float64"
      ]
     },
     "execution_count": 33,
     "metadata": {},
     "output_type": "execute_result"
    }
   ],
   "source": [
    "precip_airTemp.memory_usage(deep=True) / 1_000_000"
   ]
  },
  {
   "cell_type": "code",
   "execution_count": 34,
   "id": "dac674c6-3aae-46fb-a457-fe2cd1cc19b9",
   "metadata": {},
   "outputs": [],
   "source": [
    "# creating a Unique Identifier to join later with other climate dfs\n",
    "final_compression_opts = dict(method='zip',\n",
    "                        archive_name='precip_AirTemp_monthly_1979_2011.csv')\n",
    "\n",
    "precip_airTemp.to_csv('../data/cleaned/precip_AirTemp_monthly_1979_2011.zip', compression=final_compression_opts)"
   ]
  },
  {
   "cell_type": "code",
   "execution_count": 35,
   "id": "cb32d600-474e-4d01-8ca0-211cb3b439ea",
   "metadata": {},
   "outputs": [],
   "source": [
    "#precip_airTemp"
   ]
  },
  {
   "cell_type": "markdown",
   "id": "bd5a2d5c-ddb4-4c64-a9cd-bfd5977a6807",
   "metadata": {},
   "source": [
    "# Inspecting Health Data"
   ]
  },
  {
   "cell_type": "code",
   "execution_count": 79,
   "id": "7f22d9e2-79f6-4875-bebd-6ea9d7e9dfe4",
   "metadata": {},
   "outputs": [],
   "source": [
    "# tx_county_inf_df = pd.read_csv('./data/IHME_USA_COUNTY_INFECT_DIS_MORT_1980_2014/IHME_USA_COUNTY_INFECT_DIS_MORT_1980_2014_TEXAS_Y2018M03D27.csv')\n",
    "\n",
    "# tx_county_diseases_df = tx_county_inf_df[tx_county_inf_df['location_name'] != 'Texas']\n",
    "\n",
    "# travis_county = tx_county_diseases_df[tx_county_diseases_df['location_name'] == 'Travis County']\n",
    "\n",
    "# travis_county.groupby(by='cause_name')[['mx']].mean()\n",
    "\n",
    "# travis_county = travis_county[travis_county['sex'] == 'Both']\n",
    "\n",
    "# travis_county.groupby(by=['cause_name', 'year_id'])[['mx']].mean()\n",
    "\n",
    "# sns.histplot(travis_county.groupby(by=['cause_name', 'year_id'])[['mx']].mean())"
   ]
  },
  {
   "cell_type": "code",
   "execution_count": 36,
   "id": "4b27a41f-60d1-4057-b6ff-bc398621a8e5",
   "metadata": {},
   "outputs": [],
   "source": [
    "cvd_files = os.listdir('../data/03_health_data/IHME_USA_COUNTY_CVD_MORTALITY_RATES_1980_2014/')\n",
    "inf_files = os.listdir('../data/03_health_data/IHME_USA_COUNTY_INFECT_DIS_MORT_1980_2014/')\n",
    "resp_files = os.listdir('../data/03_health_data/IHME_USA_COUNTY_RESP_DISEASE_MORTALITY_1980_2014/')\n",
    "#cancer_files = os.listdir('../data/03_health_data/HME_USA_COUNTY_CANCER_MORTALITY_RATES_1980_2014/')\n",
    "#substance_injury_files = os.listdir('../data/03_health_data/IHME_USA_COUNTY_USE_INJ_MORTALITY_1980_2014/')\n",
    "\n",
    "cvd_files.remove('.ipynb_checkpoints')\n",
    "inf_files.remove('.ipynb_checkpoints')"
   ]
  },
  {
   "cell_type": "code",
   "execution_count": 50,
   "id": "363ef29b-73aa-49a8-b4a3-80c2fef96972",
   "metadata": {},
   "outputs": [],
   "source": [
    "# universal function to process data in all folders\n",
    "def process_health_data(file):\n",
    "    state = file.split('_')[-2].title()\n",
    "    stat_type = file.split('_')[3]\n",
    "    \n",
    "    #set filepath based on stat_type\n",
    "    if stat_type == 'CVD':\n",
    "        folder = '../data/03_health_data/IHME_USA_COUNTY_CVD_MORTALITY_RATES_1980_2014/'\n",
    "    elif stat_type == 'INFECT':\n",
    "        folder = '../data/03_health_data/IHME_USA_COUNTY_INFECT_DIS_MORT_1980_2014/'\n",
    "    elif stat_type == 'RESP':\n",
    "        folder = '../data/03_health_data/IHME_USA_COUNTY_RESP_DISEASE_MORTALITY_1980_2014/'\n",
    "    elif stat_type == 'CANCER':\n",
    "        folder = '../data/03_health_data/HME_USA_COUNTY_CANCER_MORTALITY_RATES_1980_2014/'\n",
    "    elif stat_type == 'USE':\n",
    "        folder = '../data/03_health_data/IHME_USA_COUNTY_USE_INJ_MORTALITY_1980_2014/'\n",
    "    full_path = folder + file\n",
    "    #print(full_path)\n",
    "    \n",
    "    #read in csv\n",
    "    df = pd.read_csv(full_path, dtype={'FIPS': object})\n",
    "    # drop rows that are sums of whole state\n",
    "    df = df[df['location_name'] != state]\n",
    "    \n",
    "    #recase cols to save memory and so we can create a UID later\n",
    "    # UID is formatted: 'FIPS-cause_id-sex_id-year_id'\n",
    "    #df[['cause_id', 'sex', 'cause_name', 'location_name', 'FIPS']] = df[['location_name', 'FIPS', 'cause_id', 'sex', 'cause_name']].astype('category')\n",
    "    #df['UID'] = df['FIPS'] + '-' + df['cause_id'] + '-' + df['sex_id'] + '-' + df['year_id']\n",
    "    df.drop(columns=['measure_name', 'age_id', 'age_name', 'metric', 'sex_id', 'measure_id', 'location_id'], inplace=True)\n",
    "    \n",
    "    #recast variables as category for file size handling\n",
    "    #df[['location_name', 'FIPS', 'cause_id', 'cause_name', 'sex_id', 'sex', 'year_id', 'UID']] = df[['location_name', 'FIPS', 'cause_id', 'cause_name', 'sex_id', 'sex', 'year_id', 'UID']].astype('category')\n",
    "    \n",
    "    return df"
   ]
  },
  {
   "cell_type": "code",
   "execution_count": 74,
   "id": "a2def429-3fc5-4977-b94b-47b28da2ca7a",
   "metadata": {
    "tags": []
   },
   "outputs": [],
   "source": [
    "# process cardiovascular mortality data\n",
    "full_cvd_df = [process_health_data(file) for file in cvd_files]\n",
    "full_cvd_df = pd.concat(full_cvd_df)"
   ]
  },
  {
   "cell_type": "code",
   "execution_count": 75,
   "id": "6d231e8e-68a0-4270-90b3-764f98392c10",
   "metadata": {},
   "outputs": [],
   "source": [
    "# process infectious disease mortality data\n",
    "full_inf_df = [process_health_data(file) for file in inf_files]\n",
    "full_inf_df = pd.concat(full_inf_df)"
   ]
  },
  {
   "cell_type": "code",
   "execution_count": 76,
   "id": "1424be8d-03f6-42fb-835d-558211de2c98",
   "metadata": {},
   "outputs": [],
   "source": [
    "# process respiratory disease mortality data\n",
    "full_resp_df = [process_health_data(file) for file in resp_files]\n",
    "full_resp_df = pd.concat(full_resp_df)"
   ]
  },
  {
   "cell_type": "code",
   "execution_count": 77,
   "id": "9f1e30d8-3020-4f3c-83e2-434cc2c5717e",
   "metadata": {},
   "outputs": [],
   "source": [
    "full_cvd_df[['location_name', 'FIPS', 'cause_id', 'cause_name', 'sex', 'year_id']] = full_cvd_df[['location_name', 'FIPS', 'cause_id', 'cause_name', 'sex', 'year_id']].astype('category')\n",
    "\n",
    "full_inf_df[['location_name', 'FIPS', 'cause_id', 'cause_name', 'sex', 'year_id']] = full_inf_df[['location_name', 'FIPS', 'cause_id', 'cause_name', 'sex', 'year_id']].astype('category')\n",
    "\n",
    "full_resp_df[['location_name', 'FIPS', 'cause_id', 'cause_name', 'sex', 'year_id']] = full_resp_df[['location_name', 'FIPS', 'cause_id', 'cause_name', 'sex', 'year_id']].astype('category')\n"
   ]
  },
  {
   "cell_type": "code",
   "execution_count": 112,
   "id": "63258a97-0881-4020-b8e5-15bb67c36c3b",
   "metadata": {},
   "outputs": [],
   "source": [
    "# full_cvd_df.memory_usage(deep=True) / 1_000_000\n",
    "\n",
    "# full_cvd_df.info()"
   ]
  },
  {
   "cell_type": "code",
   "execution_count": 79,
   "id": "40bd6347-3ce2-4c37-9d71-c961357dd530",
   "metadata": {},
   "outputs": [],
   "source": [
    "full_cvd_df.drop(columns=['upper', 'lower'], inplace=True)\n",
    "\n",
    "full_inf_df.drop(columns=['upper', 'lower'], inplace=True)\n",
    "full_resp_df.drop(columns=['upper', 'lower'], inplace=True)"
   ]
  },
  {
   "cell_type": "code",
   "execution_count": 84,
   "id": "4e128dcc-588f-4f5a-9063-03ef06aa0210",
   "metadata": {},
   "outputs": [],
   "source": [
    "full_cvd_df.drop(columns='cause_id', inplace=True)"
   ]
  },
  {
   "cell_type": "code",
   "execution_count": 88,
   "id": "d0924bdb-880c-4316-9082-86b4c177f3a2",
   "metadata": {},
   "outputs": [
    {
     "data": {
      "text/plain": [
       "48.152963"
      ]
     },
     "execution_count": 88,
     "metadata": {},
     "output_type": "execute_result"
    }
   ],
   "source": [
    "full_inf_df.memory_usage(deep=True).sum() / 1_000_000"
   ]
  },
  {
   "cell_type": "code",
   "execution_count": 86,
   "id": "c3e75a30-7f01-44ec-b9e6-e716f701d9c6",
   "metadata": {},
   "outputs": [],
   "source": [
    "# creating a Unique Identifier to join later with other climate dfs\n",
    "cvd_df_compression_opts = dict(method='zip',\n",
    "                        archive_name='full_cvd_df.csv')\n",
    "\n",
    "full_cvd_df.to_csv('../data/cleaned/cvd_mortality.zip', index=False, compression=cvd_df_compression_opts)"
   ]
  },
  {
   "cell_type": "code",
   "execution_count": 89,
   "id": "e532c401-9a7f-47d0-aa5b-30c1bd85f7d3",
   "metadata": {},
   "outputs": [],
   "source": [
    "# creating a Unique Identifier to join later with other climate dfs\n",
    "inf_df_compression_opts = dict(method='zip',\n",
    "                        archive_name='full_inf_df.csv')\n",
    "\n",
    "full_inf_df.to_csv('../data/cleaned/inf_mortality.zip', compression=cvd_df_compression_opts)"
   ]
  },
  {
   "cell_type": "code",
   "execution_count": 90,
   "id": "ced55e00-0ebd-47c3-8aec-861aa1a9e178",
   "metadata": {},
   "outputs": [],
   "source": [
    "# creating a Unique Identifier to join later with other climate dfs\n",
    "inf_resp_compression_opts = dict(method='zip',\n",
    "                        archive_name='full_resp_df.csv')\n",
    "\n",
    "full_resp_df.to_csv('../data/cleaned/resp_mortality.zip', compression=cvd_df_compression_opts)"
   ]
  },
  {
   "cell_type": "code",
   "execution_count": null,
   "id": "c384c26f-fa7e-43ed-9cba-cd42d2603ce4",
   "metadata": {},
   "outputs": [],
   "source": []
  }
 ],
 "metadata": {
  "kernelspec": {
   "display_name": "Python 3",
   "language": "python",
   "name": "python3"
  },
  "language_info": {
   "codemirror_mode": {
    "name": "ipython",
    "version": 3
   },
   "file_extension": ".py",
   "mimetype": "text/x-python",
   "name": "python",
   "nbconvert_exporter": "python",
   "pygments_lexer": "ipython3",
   "version": "3.8.8"
  }
 },
 "nbformat": 4,
 "nbformat_minor": 5
}
