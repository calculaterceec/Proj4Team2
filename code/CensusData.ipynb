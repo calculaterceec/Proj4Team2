{
 "cells": [
  {
   "cell_type": "code",
   "execution_count": 7,
   "id": "eb20d548-a000-413f-9f6e-36de173f4703",
   "metadata": {},
   "outputs": [],
   "source": [
    "import pandas as pd\n",
    "import numpy as np\n",
    "import seaborn as sns\n",
    "pd.set_option('display.max_columns', None)\n",
    "#pd.set_option('display.max_columns', None)"
   ]
  },
  {
   "cell_type": "code",
   "execution_count": 2,
   "id": "48114920-2010-4be2-b8bb-20dc9d7d4d47",
   "metadata": {},
   "outputs": [],
   "source": [
    "acs2019_1 = pd.read_csv('../data/productDownload_2021-10-30T134120/ACSDP1Y2019.DP05_data_with_overlays_2021-10-18T135741.csv')"
   ]
  },
  {
   "cell_type": "code",
   "execution_count": 3,
   "id": "b5643bd1-788d-4fe5-b85e-d49fc85c328c",
   "metadata": {},
   "outputs": [
    {
     "name": "stdout",
     "output_type": "stream",
     "text": [
      "<class 'pandas.core.frame.DataFrame'>\n",
      "RangeIndex: 841 entries, 0 to 840\n",
      "Columns: 358 entries, GEO_ID to DP05_0089PM\n",
      "dtypes: object(358)\n",
      "memory usage: 2.3+ MB\n"
     ]
    }
   ],
   "source": [
    "acs2019_1.info()"
   ]
  },
  {
   "cell_type": "code",
   "execution_count": 13,
   "id": "244a0da6-5515-46ac-8af2-8361f27605d9",
   "metadata": {},
   "outputs": [
    {
     "data": {
      "text/plain": [
       "Isabella County, Michigan               1\n",
       "Osceola County, Florida                 1\n",
       "Brazoria County, Texas                  1\n",
       "Collier County, Florida                 1\n",
       "Medina County, Ohio                     1\n",
       "Wood County, Wisconsin                  1\n",
       "Burke County, North Carolina            1\n",
       "Catoosa County, Georgia                 1\n",
       "King County, Washington                 1\n",
       "Columbia County, Pennsylvania           1\n",
       "Ventura County, California              1\n",
       "Johnson County, Kansas                  1\n",
       "Lonoke County, Arkansas                 1\n",
       "Ector County, Texas                     1\n",
       "Oklahoma County, Oklahoma               1\n",
       "Davidson County, North Carolina         1\n",
       "Stafford County, Virginia               1\n",
       "Warren County, New Jersey               1\n",
       "Trujillo Alto Municipio, Puerto Rico    1\n",
       "Kankakee County, Illinois               1\n",
       "Warren County, Ohio                     1\n",
       "Kings County, New York                  1\n",
       "Escambia County, Florida                1\n",
       "Jefferson County, Alabama               1\n",
       "Cumberland County, Maine                1\n",
       "Bedford County, Virginia                1\n",
       "Montgomery County, Ohio                 1\n",
       "Sebastian County, Arkansas              1\n",
       "Allegany County, Maryland               1\n",
       "Lycoming County, Pennsylvania           1\n",
       "Marion County, Oregon                   1\n",
       "Sussex County, New Jersey               1\n",
       "Nacogdoches County, Texas               1\n",
       "Bartow County, Georgia                  1\n",
       "San Joaquin County, California          1\n",
       "Madison County, Alabama                 1\n",
       "Robeson County, North Carolina          1\n",
       "Vermilion County, Illinois              1\n",
       "Matanuska-Susitna Borough, Alaska       1\n",
       "Winnebago County, Wisconsin             1\n",
       "Pitt County, North Carolina             1\n",
       "Rapides Parish, Louisiana               1\n",
       "Indian River County, Florida            1\n",
       "Monroe County, Indiana                  1\n",
       "Henderson County, North Carolina        1\n",
       "Baltimore city, Maryland                1\n",
       "Albany County, New York                 1\n",
       "Clay County, Missouri                   1\n",
       "Minnehaha County, South Dakota          1\n",
       "Kalamazoo County, Michigan              1\n",
       "San Diego County, California            1\n",
       "Elkhart County, Indiana                 1\n",
       "Boone County, Kentucky                  1\n",
       "Douglas County, Kansas                  1\n",
       "Apache County, Arizona                  1\n",
       "Sangamon County, Illinois               1\n",
       "Liberty County, Texas                   1\n",
       "Manitowoc County, Wisconsin             1\n",
       "Lancaster County, South Carolina        1\n",
       "Carolina Municipio, Puerto Rico         1\n",
       "Name: NAME, dtype: int64"
      ]
     },
     "execution_count": 13,
     "metadata": {},
     "output_type": "execute_result"
    }
   ],
   "source": [
    "#acs2019_1.head(50)\n",
    "acs2019_1['NAME'].value_counts().head(60)"
   ]
  },
  {
   "cell_type": "code",
   "execution_count": null,
   "id": "8ca6e53d-903f-4b6c-80bf-73af613c2555",
   "metadata": {},
   "outputs": [],
   "source": []
  }
 ],
 "metadata": {
  "kernelspec": {
   "display_name": "Python 3",
   "language": "python",
   "name": "python3"
  },
  "language_info": {
   "codemirror_mode": {
    "name": "ipython",
    "version": 3
   },
   "file_extension": ".py",
   "mimetype": "text/x-python",
   "name": "python",
   "nbconvert_exporter": "python",
   "pygments_lexer": "ipython3",
   "version": "3.8.8"
  }
 },
 "nbformat": 4,
 "nbformat_minor": 5
}
